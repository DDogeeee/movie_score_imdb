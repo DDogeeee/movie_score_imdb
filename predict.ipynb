{
 "cells": [
  {
   "cell_type": "code",
   "execution_count": 1,
   "metadata": {},
   "outputs": [],
   "source": [
    "from util import *\n",
    "\n",
    "import pandas as pd\n",
    "import numpy as np \n",
    "import pickle\n",
    "\n",
    "from sklearn import preprocessing\n",
    "from sklearn.model_selection import train_test_split\n",
    "\n",
    "from lightgbm import LGBMRegressor\n",
    "from xgboost import XGBRegressor\n",
    "from sklearn.metrics import mean_squared_error\n",
    "from matplotlib import pyplot\n",
    "from xgboost import plot_importance"
   ]
  },
  {
   "cell_type": "code",
   "execution_count": 2,
   "metadata": {},
   "outputs": [
    {
     "data": {
      "text/html": [
       "<div>\n",
       "<style scoped>\n",
       "    .dataframe tbody tr th:only-of-type {\n",
       "        vertical-align: middle;\n",
       "    }\n",
       "\n",
       "    .dataframe tbody tr th {\n",
       "        vertical-align: top;\n",
       "    }\n",
       "\n",
       "    .dataframe thead th {\n",
       "        text-align: right;\n",
       "    }\n",
       "</style>\n",
       "<table border=\"1\" class=\"dataframe\">\n",
       "  <thead>\n",
       "    <tr style=\"text-align: right;\">\n",
       "      <th></th>\n",
       "      <th>title</th>\n",
       "      <th>year</th>\n",
       "      <th>rating</th>\n",
       "      <th>runtime</th>\n",
       "      <th>kind</th>\n",
       "      <th>color_info</th>\n",
       "      <th>sound_mix</th>\n",
       "      <th>director_name</th>\n",
       "      <th>genre</th>\n",
       "      <th>director_id</th>\n",
       "      <th>cast_names</th>\n",
       "      <th>cast_ids</th>\n",
       "      <th>votes</th>\n",
       "      <th>country</th>\n",
       "      <th>day</th>\n",
       "      <th>month</th>\n",
       "    </tr>\n",
       "  </thead>\n",
       "  <tbody>\n",
       "    <tr>\n",
       "      <th>0</th>\n",
       "      <td>Morbius</td>\n",
       "      <td>2022</td>\n",
       "      <td>NaN</td>\n",
       "      <td>108</td>\n",
       "      <td>movie</td>\n",
       "      <td>Color</td>\n",
       "      <td>Dolby</td>\n",
       "      <td>Daniel Espinosa</td>\n",
       "      <td>['Action', 'Adventure', 'Drama', 'Horror', 'Sc...</td>\n",
       "      <td>1174251</td>\n",
       "      <td>[['Michael Keaton', 'Jared Leto', 'Adria Arjon...</td>\n",
       "      <td>[['0000474', '0001467', '5245722', '0364813', ...</td>\n",
       "      <td>NaN</td>\n",
       "      <td>Brazil</td>\n",
       "      <td>20</td>\n",
       "      <td>Jan</td>\n",
       "    </tr>\n",
       "  </tbody>\n",
       "</table>\n",
       "</div>"
      ],
      "text/plain": [
       "     title  year  rating  runtime   kind color_info sound_mix  \\\n",
       "0  Morbius  2022     NaN      108  movie      Color     Dolby   \n",
       "\n",
       "     director_name                                              genre  \\\n",
       "0  Daniel Espinosa  ['Action', 'Adventure', 'Drama', 'Horror', 'Sc...   \n",
       "\n",
       "   director_id                                         cast_names  \\\n",
       "0      1174251  [['Michael Keaton', 'Jared Leto', 'Adria Arjon...   \n",
       "\n",
       "                                            cast_ids  votes country  day month  \n",
       "0  [['0000474', '0001467', '5245722', '0364813', ...    NaN  Brazil   20   Jan  "
      ]
     },
     "execution_count": 2,
     "metadata": {},
     "output_type": "execute_result"
    }
   ],
   "source": [
    "df = pd.read_csv('1_movie_preprocessing.csv')\n",
    "df"
   ]
  }
 ],
 "metadata": {
  "kernelspec": {
   "display_name": "Python 3",
   "language": "python",
   "name": "python3"
  },
  "language_info": {
   "codemirror_mode": {
    "name": "ipython",
    "version": 3
   },
   "file_extension": ".py",
   "mimetype": "text/x-python",
   "name": "python",
   "nbconvert_exporter": "python",
   "pygments_lexer": "ipython3",
   "version": "3.8.5"
  }
 },
 "nbformat": 4,
 "nbformat_minor": 4
}
