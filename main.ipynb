{
 "cells": [
  {
   "cell_type": "code",
   "execution_count": 1,
   "metadata": {},
   "outputs": [],
   "source": [
    "from util import *\n",
    "\n",
    "import pandas as pd\n",
    "import numpy as np \n",
    "\n",
    "from sklearn import preprocessing\n",
    "from sklearn.model_selection import train_test_split\n",
    "\n",
    "from lightgbm import LGBMRegressor\n",
    "from xgboost import XGBRegressor\n",
    "from sklearn.metrics import mean_squared_error\n",
    "from matplotlib import pyplot\n",
    "from xgboost import plot_importance"
   ]
  },
  {
   "cell_type": "code",
   "execution_count": 2,
   "metadata": {},
   "outputs": [
    {
     "data": {
      "text/html": [
       "<div>\n",
       "<style scoped>\n",
       "    .dataframe tbody tr th:only-of-type {\n",
       "        vertical-align: middle;\n",
       "    }\n",
       "\n",
       "    .dataframe tbody tr th {\n",
       "        vertical-align: top;\n",
       "    }\n",
       "\n",
       "    .dataframe thead th {\n",
       "        text-align: right;\n",
       "    }\n",
       "</style>\n",
       "<table border=\"1\" class=\"dataframe\">\n",
       "  <thead>\n",
       "    <tr style=\"text-align: right;\">\n",
       "      <th></th>\n",
       "      <th>title</th>\n",
       "      <th>year</th>\n",
       "      <th>rating</th>\n",
       "      <th>runtime</th>\n",
       "      <th>kind</th>\n",
       "      <th>color_info</th>\n",
       "      <th>sound_mix</th>\n",
       "      <th>director_name</th>\n",
       "      <th>genre</th>\n",
       "      <th>director_id</th>\n",
       "      <th>cast_names</th>\n",
       "      <th>cast_ids</th>\n",
       "      <th>votes</th>\n",
       "      <th>country</th>\n",
       "      <th>day</th>\n",
       "      <th>month</th>\n",
       "    </tr>\n",
       "  </thead>\n",
       "  <tbody>\n",
       "    <tr>\n",
       "      <th>0</th>\n",
       "      <td>Miss Jerry</td>\n",
       "      <td>1894.0</td>\n",
       "      <td>5.9</td>\n",
       "      <td>40</td>\n",
       "      <td>movie</td>\n",
       "      <td>Black and White</td>\n",
       "      <td>Silent</td>\n",
       "      <td>['Alexander Black']</td>\n",
       "      <td>['Short', 'Romance']</td>\n",
       "      <td>['0085156']</td>\n",
       "      <td>['Blanche Bayliss', 'William Courtenay', 'Chau...</td>\n",
       "      <td>['0063086', '0183823', '1309758']</td>\n",
       "      <td>191</td>\n",
       "      <td>USA</td>\n",
       "      <td>0</td>\n",
       "      <td>8.0</td>\n",
       "    </tr>\n",
       "    <tr>\n",
       "      <th>1</th>\n",
       "      <td>The Story of the Kelly Gang</td>\n",
       "      <td>1906.0</td>\n",
       "      <td>6.1</td>\n",
       "      <td>70</td>\n",
       "      <td>movie</td>\n",
       "      <td>Black and White</td>\n",
       "      <td>Silent</td>\n",
       "      <td>['Charles Tait']</td>\n",
       "      <td>['Action', 'Adventure', 'Biography', 'Crime', ...</td>\n",
       "      <td>['0846879']</td>\n",
       "      <td>['Elizabeth Tait', 'John Tait', 'Nicholas Brie...</td>\n",
       "      <td>['0846887', '0846894', '1431224', '3002376', '...</td>\n",
       "      <td>737</td>\n",
       "      <td>Australia</td>\n",
       "      <td>26</td>\n",
       "      <td>12.0</td>\n",
       "    </tr>\n",
       "    <tr>\n",
       "      <th>2</th>\n",
       "      <td>Den sorte drøm</td>\n",
       "      <td>1911.0</td>\n",
       "      <td>5.9</td>\n",
       "      <td>53</td>\n",
       "      <td>movie</td>\n",
       "      <td>Black and White</td>\n",
       "      <td>Silent</td>\n",
       "      <td>['Urban Gad']</td>\n",
       "      <td>['Drama']</td>\n",
       "      <td>['0300487']</td>\n",
       "      <td>['Asta Nielsen', 'Valdemar Psilander', 'Gunnar...</td>\n",
       "      <td>['0003425', '0699637', '0375839', '0016799', '...</td>\n",
       "      <td>218</td>\n",
       "      <td>Germany</td>\n",
       "      <td>19</td>\n",
       "      <td>8.0</td>\n",
       "    </tr>\n",
       "    <tr>\n",
       "      <th>3</th>\n",
       "      <td>Cleopatra</td>\n",
       "      <td>1963.0</td>\n",
       "      <td>7</td>\n",
       "      <td>192</td>\n",
       "      <td>movie</td>\n",
       "      <td>Color</td>\n",
       "      <td>DTS</td>\n",
       "      <td>['Joseph L. Mankiewicz']</td>\n",
       "      <td>['Biography', 'Drama', 'History', 'Romance']</td>\n",
       "      <td>['0000581']</td>\n",
       "      <td>['Elizabeth Taylor', 'Richard Burton', 'Rex Ha...</td>\n",
       "      <td>['0000072', '0000009', '0001322', '0114386', '...</td>\n",
       "      <td>31526</td>\n",
       "      <td>Canada</td>\n",
       "      <td>31</td>\n",
       "      <td>7.0</td>\n",
       "    </tr>\n",
       "    <tr>\n",
       "      <th>4</th>\n",
       "      <td>Torment</td>\n",
       "      <td>1994.0</td>\n",
       "      <td>7.1</td>\n",
       "      <td>102</td>\n",
       "      <td>movie</td>\n",
       "      <td>Color</td>\n",
       "      <td>Dolby</td>\n",
       "      <td>['Claude Chabrol']</td>\n",
       "      <td>['Crime', 'Drama', 'Thriller']</td>\n",
       "      <td>['0001031']</td>\n",
       "      <td>['Emmanuelle Béart', 'François Cluzet', 'Natha...</td>\n",
       "      <td>['0000322', '0167388', '0136597', '0932870', '...</td>\n",
       "      <td>4936</td>\n",
       "      <td>France</td>\n",
       "      <td>16</td>\n",
       "      <td>2.0</td>\n",
       "    </tr>\n",
       "    <tr>\n",
       "      <th>...</th>\n",
       "      <td>...</td>\n",
       "      <td>...</td>\n",
       "      <td>...</td>\n",
       "      <td>...</td>\n",
       "      <td>...</td>\n",
       "      <td>...</td>\n",
       "      <td>...</td>\n",
       "      <td>...</td>\n",
       "      <td>...</td>\n",
       "      <td>...</td>\n",
       "      <td>...</td>\n",
       "      <td>...</td>\n",
       "      <td>...</td>\n",
       "      <td>...</td>\n",
       "      <td>...</td>\n",
       "      <td>...</td>\n",
       "    </tr>\n",
       "    <tr>\n",
       "      <th>85328</th>\n",
       "      <td>A Second Chance: Rivals!</td>\n",
       "      <td>2019.0</td>\n",
       "      <td>4.8</td>\n",
       "      <td>89</td>\n",
       "      <td>movie</td>\n",
       "      <td>Color</td>\n",
       "      <td>NaN</td>\n",
       "      <td>['Clay Glen']</td>\n",
       "      <td>['Drama', 'Family', 'Sport']</td>\n",
       "      <td>['4825581']</td>\n",
       "      <td>['Emily Morris', 'Stella Shute', 'Carmel Johns...</td>\n",
       "      <td>['4825006', '10195787', '0424718', '1138590', ...</td>\n",
       "      <td>338.0</td>\n",
       "      <td>Australia</td>\n",
       "      <td>24</td>\n",
       "      <td>10.0</td>\n",
       "    </tr>\n",
       "    <tr>\n",
       "      <th>85329</th>\n",
       "      <td>Feed</td>\n",
       "      <td>2017.0</td>\n",
       "      <td>6.2</td>\n",
       "      <td>95</td>\n",
       "      <td>movie</td>\n",
       "      <td>Color</td>\n",
       "      <td>NaN</td>\n",
       "      <td>['Tommy Bertelsen']</td>\n",
       "      <td>['Drama']</td>\n",
       "      <td>['0077879']</td>\n",
       "      <td>['Troian Bellisario', 'Tom Felton', 'Ben Winch...</td>\n",
       "      <td>['0069079', '0271657', '3656718', '0001664', '...</td>\n",
       "      <td>2445.0</td>\n",
       "      <td>USA</td>\n",
       "      <td>18</td>\n",
       "      <td>7.0</td>\n",
       "    </tr>\n",
       "    <tr>\n",
       "      <th>85330</th>\n",
       "      <td>Capernaum</td>\n",
       "      <td>2018.0</td>\n",
       "      <td>8.4</td>\n",
       "      <td>126</td>\n",
       "      <td>movie</td>\n",
       "      <td>Color</td>\n",
       "      <td>Dolby</td>\n",
       "      <td>['Nadine Labaki']</td>\n",
       "      <td>['Drama']</td>\n",
       "      <td>['1701024']</td>\n",
       "      <td>['Zain Al Rafeea', 'Yordanos Shiferaw', 'Boluw...</td>\n",
       "      <td>['9862858', '9862859', '9862860', '10201625', ...</td>\n",
       "      <td>78256.0</td>\n",
       "      <td>Lebanon</td>\n",
       "      <td>20</td>\n",
       "      <td>10.0</td>\n",
       "    </tr>\n",
       "    <tr>\n",
       "      <th>85331</th>\n",
       "      <td>G-Loc</td>\n",
       "      <td>2020.0</td>\n",
       "      <td>4.6</td>\n",
       "      <td>92</td>\n",
       "      <td>movie</td>\n",
       "      <td>Color</td>\n",
       "      <td>NaN</td>\n",
       "      <td>['Tom Paton']</td>\n",
       "      <td>['Sci-Fi']</td>\n",
       "      <td>['7441188']</td>\n",
       "      <td>['Stephen Moyer', 'Tala Gouveia', 'John Rhys-D...</td>\n",
       "      <td>['0610459', '4823334', '0722636', '7478548', '...</td>\n",
       "      <td>1597.0</td>\n",
       "      <td>USA</td>\n",
       "      <td>11</td>\n",
       "      <td>8.0</td>\n",
       "    </tr>\n",
       "    <tr>\n",
       "      <th>85332</th>\n",
       "      <td>Hope</td>\n",
       "      <td>2019.0</td>\n",
       "      <td>7.3</td>\n",
       "      <td>130</td>\n",
       "      <td>movie</td>\n",
       "      <td>Color</td>\n",
       "      <td>NaN</td>\n",
       "      <td>['Maria Sødahl']</td>\n",
       "      <td>['Drama', 'Romance']</td>\n",
       "      <td>['0845618']</td>\n",
       "      <td>['Andrea Bræin Hovig', 'Stellan Skarsgård', 'E...</td>\n",
       "      <td>['0397034', '0001745', '9602953', '10509918', ...</td>\n",
       "      <td>1375.0</td>\n",
       "      <td>Norway</td>\n",
       "      <td>22</td>\n",
       "      <td>11.0</td>\n",
       "    </tr>\n",
       "  </tbody>\n",
       "</table>\n",
       "<p>85333 rows × 16 columns</p>\n",
       "</div>"
      ],
      "text/plain": [
       "                             title    year rating runtime   kind  \\\n",
       "0                       Miss Jerry  1894.0    5.9      40  movie   \n",
       "1      The Story of the Kelly Gang  1906.0    6.1      70  movie   \n",
       "2                   Den sorte drøm  1911.0    5.9      53  movie   \n",
       "3                        Cleopatra  1963.0      7     192  movie   \n",
       "4                          Torment  1994.0    7.1     102  movie   \n",
       "...                            ...     ...    ...     ...    ...   \n",
       "85328     A Second Chance: Rivals!  2019.0    4.8      89  movie   \n",
       "85329                         Feed  2017.0    6.2      95  movie   \n",
       "85330                    Capernaum  2018.0    8.4     126  movie   \n",
       "85331                        G-Loc  2020.0    4.6      92  movie   \n",
       "85332                         Hope  2019.0    7.3     130  movie   \n",
       "\n",
       "            color_info sound_mix             director_name  \\\n",
       "0      Black and White    Silent       ['Alexander Black']   \n",
       "1      Black and White    Silent          ['Charles Tait']   \n",
       "2      Black and White    Silent             ['Urban Gad']   \n",
       "3                Color       DTS  ['Joseph L. Mankiewicz']   \n",
       "4                Color     Dolby        ['Claude Chabrol']   \n",
       "...                ...       ...                       ...   \n",
       "85328            Color       NaN             ['Clay Glen']   \n",
       "85329            Color       NaN       ['Tommy Bertelsen']   \n",
       "85330            Color     Dolby         ['Nadine Labaki']   \n",
       "85331            Color       NaN             ['Tom Paton']   \n",
       "85332            Color       NaN          ['Maria Sødahl']   \n",
       "\n",
       "                                                   genre  director_id  \\\n",
       "0                                   ['Short', 'Romance']  ['0085156']   \n",
       "1      ['Action', 'Adventure', 'Biography', 'Crime', ...  ['0846879']   \n",
       "2                                              ['Drama']  ['0300487']   \n",
       "3           ['Biography', 'Drama', 'History', 'Romance']  ['0000581']   \n",
       "4                         ['Crime', 'Drama', 'Thriller']  ['0001031']   \n",
       "...                                                  ...          ...   \n",
       "85328                       ['Drama', 'Family', 'Sport']  ['4825581']   \n",
       "85329                                          ['Drama']  ['0077879']   \n",
       "85330                                          ['Drama']  ['1701024']   \n",
       "85331                                         ['Sci-Fi']  ['7441188']   \n",
       "85332                               ['Drama', 'Romance']  ['0845618']   \n",
       "\n",
       "                                              cast_names  \\\n",
       "0      ['Blanche Bayliss', 'William Courtenay', 'Chau...   \n",
       "1      ['Elizabeth Tait', 'John Tait', 'Nicholas Brie...   \n",
       "2      ['Asta Nielsen', 'Valdemar Psilander', 'Gunnar...   \n",
       "3      ['Elizabeth Taylor', 'Richard Burton', 'Rex Ha...   \n",
       "4      ['Emmanuelle Béart', 'François Cluzet', 'Natha...   \n",
       "...                                                  ...   \n",
       "85328  ['Emily Morris', 'Stella Shute', 'Carmel Johns...   \n",
       "85329  ['Troian Bellisario', 'Tom Felton', 'Ben Winch...   \n",
       "85330  ['Zain Al Rafeea', 'Yordanos Shiferaw', 'Boluw...   \n",
       "85331  ['Stephen Moyer', 'Tala Gouveia', 'John Rhys-D...   \n",
       "85332  ['Andrea Bræin Hovig', 'Stellan Skarsgård', 'E...   \n",
       "\n",
       "                                                cast_ids    votes    country  \\\n",
       "0                      ['0063086', '0183823', '1309758']      191        USA   \n",
       "1      ['0846887', '0846894', '1431224', '3002376', '...      737  Australia   \n",
       "2      ['0003425', '0699637', '0375839', '0016799', '...      218    Germany   \n",
       "3      ['0000072', '0000009', '0001322', '0114386', '...    31526     Canada   \n",
       "4      ['0000322', '0167388', '0136597', '0932870', '...     4936     France   \n",
       "...                                                  ...      ...        ...   \n",
       "85328  ['4825006', '10195787', '0424718', '1138590', ...    338.0  Australia   \n",
       "85329  ['0069079', '0271657', '3656718', '0001664', '...   2445.0        USA   \n",
       "85330  ['9862858', '9862859', '9862860', '10201625', ...  78256.0    Lebanon   \n",
       "85331  ['0610459', '4823334', '0722636', '7478548', '...   1597.0        USA   \n",
       "85332  ['0397034', '0001745', '9602953', '10509918', ...   1375.0     Norway   \n",
       "\n",
       "       day  month  \n",
       "0        0    8.0  \n",
       "1       26   12.0  \n",
       "2       19    8.0  \n",
       "3       31    7.0  \n",
       "4       16    2.0  \n",
       "...    ...    ...  \n",
       "85328   24   10.0  \n",
       "85329   18    7.0  \n",
       "85330   20   10.0  \n",
       "85331   11    8.0  \n",
       "85332   22   11.0  \n",
       "\n",
       "[85333 rows x 16 columns]"
      ]
     },
     "execution_count": 2,
     "metadata": {},
     "output_type": "execute_result"
    }
   ],
   "source": [
    "df = pd.read_csv('preprocess_data.csv')\n",
    "df"
   ]
  },
  {
   "cell_type": "code",
   "execution_count": 3,
   "metadata": {},
   "outputs": [],
   "source": [
    "df['rating'] = pd.to_numeric(df['rating'], errors='coerce')\n",
    "df['votes'] = pd.to_numeric(df['votes'], errors='coerce')\n",
    "df['runtime'] = pd.to_numeric(df['runtime'], errors='coerce')\n",
    "df= df[pd.to_numeric(df['rating'], errors='coerce').notnull()]"
   ]
  },
  {
   "cell_type": "code",
   "execution_count": 4,
   "metadata": {},
   "outputs": [
    {
     "data": {
      "text/plain": [
       "2018.0    3362\n",
       "2017.0    3269\n",
       "2016.0    3069\n",
       "2019.0    2976\n",
       "2015.0    2930\n",
       "          ... \n",
       "1911.0       3\n",
       "1906.0       1\n",
       "1902.0       1\n",
       "1895.0       1\n",
       "1894.0       1\n",
       "Name: year, Length: 115, dtype: int64"
      ]
     },
     "execution_count": 4,
     "metadata": {},
     "output_type": "execute_result"
    }
   ],
   "source": [
    "df['year'].value_counts()"
   ]
  },
  {
   "cell_type": "markdown",
   "metadata": {},
   "source": [
    "# Feature Engineering\n"
   ]
  },
  {
   "cell_type": "code",
   "execution_count": 5,
   "metadata": {},
   "outputs": [
    {
     "name": "stderr",
     "output_type": "stream",
     "text": [
      "<ipython-input-5-e771d501488d>:2: SettingWithCopyWarning: \n",
      "A value is trying to be set on a copy of a slice from a DataFrame.\n",
      "Try using .loc[row_indexer,col_indexer] = value instead\n",
      "\n",
      "See the caveats in the documentation: https://pandas.pydata.org/pandas-docs/stable/user_guide/indexing.html#returning-a-view-versus-a-copy\n",
      "  df['age'] = 2021 - df['year']\n"
     ]
    },
    {
     "data": {
      "text/plain": [
       "0        127.0\n",
       "1        115.0\n",
       "2        110.0\n",
       "3         58.0\n",
       "4         27.0\n",
       "         ...  \n",
       "85328      2.0\n",
       "85329      4.0\n",
       "85330      3.0\n",
       "85331      1.0\n",
       "85332      2.0\n",
       "Name: age, Length: 84985, dtype: float64"
      ]
     },
     "execution_count": 5,
     "metadata": {},
     "output_type": "execute_result"
    }
   ],
   "source": [
    "# age là tuổi của phim được cho đến năm hiện tại (2021)\n",
    "df['age'] = 2021 - df['year']\n",
    "df['age']"
   ]
  },
  {
   "cell_type": "code",
   "execution_count": 6,
   "metadata": {
    "scrolled": true
   },
   "outputs": [],
   "source": [
    "df = df.dropna(subset = ['cast_names','cast_ids','director_name','director_id'])"
   ]
  },
  {
   "cell_type": "code",
   "execution_count": 7,
   "metadata": {},
   "outputs": [
    {
     "data": {
      "text/plain": [
       "0                        ['0063086', '0183823', '1309758']\n",
       "1        ['0846887', '0846894', '1431224', '3002376', '...\n",
       "2        ['0003425', '0699637', '0375839', '0016799', '...\n",
       "3        ['0000072', '0000009', '0001322', '0114386', '...\n",
       "4        ['0000322', '0167388', '0136597', '0932870', '...\n",
       "                               ...                        \n",
       "85328    ['4825006', '10195787', '0424718', '1138590', ...\n",
       "85329    ['0069079', '0271657', '3656718', '0001664', '...\n",
       "85330    ['9862858', '9862859', '9862860', '10201625', ...\n",
       "85331    ['0610459', '4823334', '0722636', '7478548', '...\n",
       "85332    ['0397034', '0001745', '9602953', '10509918', ...\n",
       "Name: cast_ids, Length: 83100, dtype: object"
      ]
     },
     "execution_count": 7,
     "metadata": {},
     "output_type": "execute_result"
    }
   ],
   "source": [
    "df['cast_ids']"
   ]
  },
  {
   "cell_type": "code",
   "execution_count": 8,
   "metadata": {},
   "outputs": [],
   "source": [
    "# tách 1 chuỗi string thành mảng các string chứa thông tin\n",
    "df['cast_names'] = df['cast_names'].apply(split_text)\n",
    "df['cast_ids'] = df['cast_ids'].apply(split_text)\n",
    "df['director_name'] = df['director_name'].apply(split_text)\n"
   ]
  },
  {
   "cell_type": "code",
   "execution_count": 9,
   "metadata": {},
   "outputs": [
    {
     "data": {
      "text/plain": [
       "0          3\n",
       "1         17\n",
       "2         11\n",
       "3         85\n",
       "4         27\n",
       "        ... \n",
       "85328     22\n",
       "85329     21\n",
       "85330    115\n",
       "85331     10\n",
       "85332     28\n",
       "Name: number_cast, Length: 83100, dtype: int64"
      ]
     },
     "execution_count": 9,
     "metadata": {},
     "output_type": "execute_result"
    }
   ],
   "source": [
    "#number cast là số lượng thành viên đoàn cast\n",
    "df['number_cast'] = df['cast_names'].apply(lambda s: len(s))\n",
    "df['number_cast']"
   ]
  },
  {
   "cell_type": "code",
   "execution_count": 10,
   "metadata": {},
   "outputs": [],
   "source": [
    "le = preprocessing.LabelEncoder()\n",
    "df['country'] = le.fit_transform(df['country'])\n",
    "df['kind'] = le.fit_transform(df['kind'])\n",
    "df['color_info'] = le.fit_transform(df['color_info'])\n",
    "df['sound_mix'] = le.fit_transform(df['sound_mix'])\n"
   ]
  },
  {
   "cell_type": "code",
   "execution_count": 11,
   "metadata": {},
   "outputs": [],
   "source": [
    "df = df.reset_index(drop = True)\n",
    "df['rating'] = pd.to_numeric(df['rating'], errors='coerce')\n",
    "df['votes'] = pd.to_numeric(df['votes'], errors='coerce')\n",
    "df['runtime'] = pd.to_numeric(df['runtime'], errors='coerce')\n",
    "X = df.drop(['rating'], axis = 1)\n",
    "y = df['rating']"
   ]
  },
  {
   "cell_type": "code",
   "execution_count": 12,
   "metadata": {},
   "outputs": [],
   "source": [
    "X_train, X_test, y_train, y_test = train_test_split(X,y, test_size = 0.1, random_state = 1)"
   ]
  },
  {
   "cell_type": "code",
   "execution_count": 13,
   "metadata": {},
   "outputs": [],
   "source": [
    "X_train = X_train.reset_index(drop = True)\n",
    "X_test = X_test.reset_index(drop = True)\n",
    "y_train = y_train.reset_index(drop = True)\n",
    "y_test = y_test.reset_index(drop = True)"
   ]
  },
  {
   "cell_type": "code",
   "execution_count": 14,
   "metadata": {},
   "outputs": [],
   "source": [
    "# xây dựng dict chứa thông tin về điểm trung bình của đạo diễn và các diễn viên\n",
    "# cast_score_board = getScoreBroad(X_train['cast_ids'], y_train)\n",
    "# director_score_board = getScoreBroad(X_train['director_id'], y_train)"
   ]
  },
  {
   "cell_type": "markdown",
   "metadata": {},
   "source": [
    "Xây dựng dict bằng tập train và sau đó mapping sang tập test"
   ]
  },
  {
   "cell_type": "code",
   "execution_count": 15,
   "metadata": {},
   "outputs": [],
   "source": [
    "# for i in X_train.index:\n",
    "#     s = df['cast_ids'][i]\n",
    "#     me, ma, mi = getScore(s, cast_score_board)\n",
    "#     X_train.loc[i,'cast_mean_score'] = me\n",
    "#     X_train.loc[i,'cast_max_score'] = ma\n",
    "#     X_train.loc[i,'cast_min_score'] = mi\n",
    "    \n",
    "#     s = df.loc[i,'director_id']\n",
    "#     me, ma, mi = getScore(s, director_score_board)\n",
    "#     X_train.loc[i,'director_mean_score'] = me\n",
    "#     X_train.loc[i,'director_max_score'] = ma\n",
    "#     X_train.loc[i,'director_min_score'] = mi\n",
    "\n",
    "    \n",
    "# for i in X_test.index:\n",
    "#     s = df['cast_ids'][i]\n",
    "#     me, ma, mi = getScore(s, cast_score_board)\n",
    "#     X_test.loc[i,'cast_mean_score'] = me\n",
    "#     X_test.loc[i,'cast_max_score'] = ma\n",
    "#     X_test.loc[i,'cast_min_score'] = mi\n",
    "    \n",
    "#     s = df['director_id'][i]\n",
    "#     me, ma, mi = getScore(s, director_score_board)\n",
    "#     X_test.loc[i,'director_mean_score'] = me\n",
    "#     X_test.loc[i,'director_max_score'] = ma\n",
    "#     X_test.loc[i,'director_min_score'] = mi"
   ]
  },
  {
   "cell_type": "markdown",
   "metadata": {},
   "source": [
    "# Visualize \n"
   ]
  },
  {
   "cell_type": "code",
   "execution_count": 16,
   "metadata": {},
   "outputs": [
    {
     "data": {
      "image/png": "[encoded data removed]",
      "text/plain": [
       "<Figure size 432x288 with 1 Axes>"
      ]
     },
     "metadata": {
      "needs_background": "light"
     },
     "output_type": "display_data"
    }
   ],
   "source": [
    "df.rating.plot.hist(bins = 20);"
   ]
  },
  {
   "cell_type": "markdown",
   "metadata": {},
   "source": [
    "phân bố của rating tập trung chủ yếu ở 6 đến 7 điểm "
   ]
  },
  {
   "cell_type": "code",
   "execution_count": 17,
   "metadata": {},
   "outputs": [
    {
     "data": {
      "image/png": "[encoded data removed]",
      "text/plain": [
       "<Figure size 432x288 with 1 Axes>"
      ]
     },
     "metadata": {
      "needs_background": "light"
     },
     "output_type": "display_data"
    }
   ],
   "source": [
    "df.age.plot.hist();"
   ]
  },
  {
   "cell_type": "markdown",
   "metadata": {},
   "source": [
    "Số lượng phim tập trung vào 20 năm đổ lại"
   ]
  },
  {
   "cell_type": "code",
   "execution_count": 18,
   "metadata": {},
   "outputs": [
    {
     "data": {
      "image/png": "[encoded data removed]",
      "text/plain": [
       "<Figure size 432x288 with 1 Axes>"
      ]
     },
     "metadata": {
      "needs_background": "light"
     },
     "output_type": "display_data"
    }
   ],
   "source": [
    "df.day.plot.hist(bins = 15);"
   ]
  },
  {
   "cell_type": "markdown",
   "metadata": {},
   "source": [
    "Phim chủ yếu được release vào cuối tháng, tập trung chủ yếu vào ngày 19 đến 20"
   ]
  },
  {
   "cell_type": "code",
   "execution_count": 19,
   "metadata": {},
   "outputs": [
    {
     "data": {
      "image/png": "[encoded data removed]",
      "text/plain": [
       "<Figure size 432x288 with 1 Axes>"
      ]
     },
     "metadata": {
      "needs_background": "light"
     },
     "output_type": "display_data"
    }
   ],
   "source": [
    "df.month.value_counts().sort_values().plot.bar(); "
   ]
  },
  {
   "cell_type": "markdown",
   "metadata": {},
   "source": [
    "Phim được phát hành tập trung vào các tháng đầu và cuối năm"
   ]
  },
  {
   "cell_type": "code",
   "execution_count": 20,
   "metadata": {},
   "outputs": [
    {
     "data": {
      "image/png": "[encoded data removed]",
      "text/plain": [
       "<Figure size 432x288 with 1 Axes>"
      ]
     },
     "metadata": {
      "needs_background": "light"
     },
     "output_type": "display_data"
    }
   ],
   "source": [
    "df.plot.scatter(x='age', y='rating');"
   ]
  },
  {
   "cell_type": "markdown",
   "metadata": {},
   "source": [
    "Có thể dễ dàng thấy được số lượng phim có tuổi đời lớn hơn 70 có rating cao hơn và số lượng ít hơn."
   ]
  },
  {
   "cell_type": "code",
   "execution_count": 21,
   "metadata": {},
   "outputs": [
    {
     "data": {
      "image/png": "[encoded data removed]",
      "text/plain": [
       "<Figure size 432x288 with 1 Axes>"
      ]
     },
     "metadata": {
      "needs_background": "light"
     },
     "output_type": "display_data"
    }
   ],
   "source": [
    "case = df[df['age']>70]\n",
    "case.plot.scatter(x='age', y='rating', c='DarkBlue');"
   ]
  },
  {
   "cell_type": "code",
   "execution_count": 22,
   "metadata": {},
   "outputs": [
    {
     "name": "stdout",
     "output_type": "stream",
     "text": [
      "Rating trung bình của các bộ phim có tuổi đời lớn hơn 70: 6.496\n",
      "Rating trung bình của tất cả phim: 5.971\n"
     ]
    }
   ],
   "source": [
    "print('Rating trung bình của các bộ phim có tuổi đời lớn hơn 70:',round(case.rating.mean(),3))\n",
    "print('Rating trung bình của tất cả phim:',round(df.rating.mean(),3))"
   ]
  },
  {
   "cell_type": "code",
   "execution_count": 23,
   "metadata": {},
   "outputs": [
    {
     "data": {
      "image/png": "[encoded data removed]",
      "text/plain": [
       "<Figure size 432x288 with 1 Axes>"
      ]
     },
     "metadata": {
      "needs_background": "light"
     },
     "output_type": "display_data"
    }
   ],
   "source": [
    "df.plot.scatter(x= 'number_cast', y='rating');"
   ]
  },
  {
   "cell_type": "markdown",
   "metadata": {},
   "source": [
    "Với number cast lớn thì phim có xu hướng điểm cao hơn"
   ]
  },
  {
   "cell_type": "code",
   "execution_count": 24,
   "metadata": {},
   "outputs": [
    {
     "data": {
      "image/png": "[encoded data removed]",
      "text/plain": [
       "<Figure size 432x288 with 1 Axes>"
      ]
     },
     "metadata": {
      "needs_background": "light"
     },
     "output_type": "display_data"
    }
   ],
   "source": [
    "df.plot.scatter(x= 'votes', y='rating');"
   ]
  },
  {
   "cell_type": "markdown",
   "metadata": {},
   "source": [
    "Số vote càng cao thì tỉ lệ rate càng cao"
   ]
  },
  {
   "cell_type": "code",
   "execution_count": 25,
   "metadata": {},
   "outputs": [
    {
     "data": {
      "image/png": "[encoded data removed]",
      "text/plain": [
       "<Figure size 432x288 with 1 Axes>"
      ]
     },
     "metadata": {
      "needs_background": "light"
     },
     "output_type": "display_data"
    }
   ],
   "source": [
    "df.groupby('country').rating.mean().plot.bar();"
   ]
  },
  {
   "cell_type": "markdown",
   "metadata": {},
   "source": [
    "Rating trung bình phim của các nước không cách biệt nhau quá nhiều"
   ]
  },
  {
   "cell_type": "markdown",
   "metadata": {},
   "source": [
    "# Train Model\n"
   ]
  },
  {
   "cell_type": "code",
   "execution_count": 26,
   "metadata": {},
   "outputs": [],
   "source": [
    "select_feature = ['year', 'runtime', 'kind', 'color_info', 'sound_mix','votes',\n",
    "                  'country', 'day', 'month', 'age', 'number_cast']"
   ]
  },
  {
   "cell_type": "code",
   "execution_count": 27,
   "metadata": {},
   "outputs": [],
   "source": [
    "X_train = X_train[select_feature]\n",
    "X_test = X_test[select_feature]\n",
    "\n",
    "evalset = [(X_train, y_train), (X_test,y_test)]"
   ]
  },
  {
   "cell_type": "code",
   "execution_count": 28,
   "metadata": {},
   "outputs": [
    {
     "data": {
      "text/plain": [
       "1    74313\n",
       "4      381\n",
       "7       73\n",
       "6       10\n",
       "0        7\n",
       "3        2\n",
       "2        2\n",
       "8        1\n",
       "5        1\n",
       "Name: kind, dtype: int64"
      ]
     },
     "execution_count": 28,
     "metadata": {},
     "output_type": "execute_result"
    }
   ],
   "source": [
    "X_train.kind.value_counts()"
   ]
  },
  {
   "cell_type": "code",
   "execution_count": 29,
   "metadata": {},
   "outputs": [
    {
     "name": "stdout",
     "output_type": "stream",
     "text": [
      "[0]\tvalidation_0-rmse:3.99905\tvalidation_1-rmse:3.98342\n",
      "[1]\tvalidation_0-rmse:2.90054\tvalidation_1-rmse:2.88715\n",
      "[2]\tvalidation_0-rmse:2.16522\tvalidation_1-rmse:2.15518\n",
      "[3]\tvalidation_0-rmse:1.68989\tvalidation_1-rmse:1.68244\n",
      "[4]\tvalidation_0-rmse:1.39465\tvalidation_1-rmse:1.39107\n",
      "[5]\tvalidation_0-rmse:1.22256\tvalidation_1-rmse:1.22250\n",
      "[6]\tvalidation_0-rmse:1.12617\tvalidation_1-rmse:1.12916\n",
      "[7]\tvalidation_0-rmse:1.07323\tvalidation_1-rmse:1.07833\n",
      "[8]\tvalidation_0-rmse:1.04467\tvalidation_1-rmse:1.05096\n",
      "[9]\tvalidation_0-rmse:1.02904\tvalidation_1-rmse:1.03678\n",
      "[10]\tvalidation_0-rmse:1.01968\tvalidation_1-rmse:1.02782\n",
      "[11]\tvalidation_0-rmse:1.01408\tvalidation_1-rmse:1.02299\n",
      "[12]\tvalidation_0-rmse:1.01026\tvalidation_1-rmse:1.01991\n",
      "[13]\tvalidation_0-rmse:1.00716\tvalidation_1-rmse:1.01737\n",
      "[14]\tvalidation_0-rmse:1.00518\tvalidation_1-rmse:1.01577\n",
      "[15]\tvalidation_0-rmse:1.00314\tvalidation_1-rmse:1.01416\n",
      "[16]\tvalidation_0-rmse:1.00177\tvalidation_1-rmse:1.01302\n",
      "[17]\tvalidation_0-rmse:1.00028\tvalidation_1-rmse:1.01196\n",
      "[18]\tvalidation_0-rmse:0.99931\tvalidation_1-rmse:1.01150\n",
      "[19]\tvalidation_0-rmse:0.99831\tvalidation_1-rmse:1.01071\n",
      "[20]\tvalidation_0-rmse:0.99740\tvalidation_1-rmse:1.01004\n",
      "[21]\tvalidation_0-rmse:0.99631\tvalidation_1-rmse:1.00886\n",
      "[22]\tvalidation_0-rmse:0.99459\tvalidation_1-rmse:1.00710\n",
      "[23]\tvalidation_0-rmse:0.99398\tvalidation_1-rmse:1.00645\n",
      "[24]\tvalidation_0-rmse:0.99346\tvalidation_1-rmse:1.00613\n",
      "[25]\tvalidation_0-rmse:0.99291\tvalidation_1-rmse:1.00566\n",
      "[26]\tvalidation_0-rmse:0.99227\tvalidation_1-rmse:1.00523\n",
      "[27]\tvalidation_0-rmse:0.99088\tvalidation_1-rmse:1.00350\n",
      "[28]\tvalidation_0-rmse:0.98995\tvalidation_1-rmse:1.00247\n",
      "[29]\tvalidation_0-rmse:0.98933\tvalidation_1-rmse:1.00199\n",
      "[30]\tvalidation_0-rmse:0.98803\tvalidation_1-rmse:1.00050\n",
      "[31]\tvalidation_0-rmse:0.98770\tvalidation_1-rmse:1.00001\n",
      "[32]\tvalidation_0-rmse:0.98745\tvalidation_1-rmse:0.99984\n",
      "[33]\tvalidation_0-rmse:0.98701\tvalidation_1-rmse:0.99962\n",
      "[34]\tvalidation_0-rmse:0.98606\tvalidation_1-rmse:0.99886\n",
      "[35]\tvalidation_0-rmse:0.98561\tvalidation_1-rmse:0.99872\n",
      "[36]\tvalidation_0-rmse:0.98533\tvalidation_1-rmse:0.99850\n",
      "[37]\tvalidation_0-rmse:0.98471\tvalidation_1-rmse:0.99817\n",
      "[38]\tvalidation_0-rmse:0.98398\tvalidation_1-rmse:0.99756\n",
      "[39]\tvalidation_0-rmse:0.98313\tvalidation_1-rmse:0.99638\n",
      "[40]\tvalidation_0-rmse:0.98270\tvalidation_1-rmse:0.99581\n",
      "[41]\tvalidation_0-rmse:0.98189\tvalidation_1-rmse:0.99499\n",
      "[42]\tvalidation_0-rmse:0.98160\tvalidation_1-rmse:0.99483\n",
      "[43]\tvalidation_0-rmse:0.97986\tvalidation_1-rmse:0.99323\n",
      "[44]\tvalidation_0-rmse:0.97929\tvalidation_1-rmse:0.99281\n",
      "[45]\tvalidation_0-rmse:0.97874\tvalidation_1-rmse:0.99240\n",
      "[46]\tvalidation_0-rmse:0.97838\tvalidation_1-rmse:0.99209\n",
      "[47]\tvalidation_0-rmse:0.97767\tvalidation_1-rmse:0.99161\n",
      "[48]\tvalidation_0-rmse:0.97749\tvalidation_1-rmse:0.99136\n",
      "[49]\tvalidation_0-rmse:0.97694\tvalidation_1-rmse:0.99090\n",
      "[50]\tvalidation_0-rmse:0.97645\tvalidation_1-rmse:0.99075\n",
      "[51]\tvalidation_0-rmse:0.97606\tvalidation_1-rmse:0.99041\n",
      "[52]\tvalidation_0-rmse:0.97568\tvalidation_1-rmse:0.99000\n",
      "[53]\tvalidation_0-rmse:0.97548\tvalidation_1-rmse:0.98986\n",
      "[54]\tvalidation_0-rmse:0.97499\tvalidation_1-rmse:0.98937\n",
      "[55]\tvalidation_0-rmse:0.97455\tvalidation_1-rmse:0.98910\n",
      "[56]\tvalidation_0-rmse:0.97408\tvalidation_1-rmse:0.98890\n",
      "[57]\tvalidation_0-rmse:0.97400\tvalidation_1-rmse:0.98889\n",
      "[58]\tvalidation_0-rmse:0.97365\tvalidation_1-rmse:0.98842\n",
      "[59]\tvalidation_0-rmse:0.97330\tvalidation_1-rmse:0.98822\n",
      "[60]\tvalidation_0-rmse:0.97310\tvalidation_1-rmse:0.98808\n",
      "[61]\tvalidation_0-rmse:0.97281\tvalidation_1-rmse:0.98782\n",
      "[62]\tvalidation_0-rmse:0.97259\tvalidation_1-rmse:0.98762\n",
      "[63]\tvalidation_0-rmse:0.97230\tvalidation_1-rmse:0.98727\n",
      "[64]\tvalidation_0-rmse:0.97187\tvalidation_1-rmse:0.98666\n",
      "[65]\tvalidation_0-rmse:0.97172\tvalidation_1-rmse:0.98656\n",
      "[66]\tvalidation_0-rmse:0.97142\tvalidation_1-rmse:0.98626\n",
      "[67]\tvalidation_0-rmse:0.97078\tvalidation_1-rmse:0.98576\n",
      "[68]\tvalidation_0-rmse:0.96955\tvalidation_1-rmse:0.98475\n",
      "[69]\tvalidation_0-rmse:0.96925\tvalidation_1-rmse:0.98440\n",
      "[70]\tvalidation_0-rmse:0.96901\tvalidation_1-rmse:0.98428\n",
      "[71]\tvalidation_0-rmse:0.96877\tvalidation_1-rmse:0.98375\n",
      "[72]\tvalidation_0-rmse:0.96854\tvalidation_1-rmse:0.98378\n",
      "[73]\tvalidation_0-rmse:0.96805\tvalidation_1-rmse:0.98348\n",
      "[74]\tvalidation_0-rmse:0.96752\tvalidation_1-rmse:0.98313\n",
      "[75]\tvalidation_0-rmse:0.96710\tvalidation_1-rmse:0.98280\n",
      "[76]\tvalidation_0-rmse:0.96690\tvalidation_1-rmse:0.98286\n",
      "[77]\tvalidation_0-rmse:0.96676\tvalidation_1-rmse:0.98276\n",
      "[78]\tvalidation_0-rmse:0.96664\tvalidation_1-rmse:0.98265\n",
      "[79]\tvalidation_0-rmse:0.96655\tvalidation_1-rmse:0.98257\n",
      "[80]\tvalidation_0-rmse:0.96613\tvalidation_1-rmse:0.98219\n",
      "[81]\tvalidation_0-rmse:0.96590\tvalidation_1-rmse:0.98219\n",
      "[82]\tvalidation_0-rmse:0.96569\tvalidation_1-rmse:0.98202\n",
      "[83]\tvalidation_0-rmse:0.96506\tvalidation_1-rmse:0.98167\n",
      "[84]\tvalidation_0-rmse:0.96486\tvalidation_1-rmse:0.98159\n",
      "[85]\tvalidation_0-rmse:0.96452\tvalidation_1-rmse:0.98155\n",
      "[86]\tvalidation_0-rmse:0.96378\tvalidation_1-rmse:0.98119\n",
      "[87]\tvalidation_0-rmse:0.96349\tvalidation_1-rmse:0.98104\n",
      "[88]\tvalidation_0-rmse:0.96308\tvalidation_1-rmse:0.98074\n",
      "[89]\tvalidation_0-rmse:0.96292\tvalidation_1-rmse:0.98072\n",
      "[90]\tvalidation_0-rmse:0.96276\tvalidation_1-rmse:0.98070\n",
      "[91]\tvalidation_0-rmse:0.96224\tvalidation_1-rmse:0.98017\n",
      "[92]\tvalidation_0-rmse:0.96217\tvalidation_1-rmse:0.98011\n",
      "[93]\tvalidation_0-rmse:0.96130\tvalidation_1-rmse:0.97950\n",
      "[94]\tvalidation_0-rmse:0.96103\tvalidation_1-rmse:0.97938\n",
      "[95]\tvalidation_0-rmse:0.96092\tvalidation_1-rmse:0.97933\n",
      "[96]\tvalidation_0-rmse:0.96077\tvalidation_1-rmse:0.97942\n",
      "[97]\tvalidation_0-rmse:0.96054\tvalidation_1-rmse:0.97922\n",
      "[98]\tvalidation_0-rmse:0.96040\tvalidation_1-rmse:0.97923\n",
      "[99]\tvalidation_0-rmse:0.96017\tvalidation_1-rmse:0.97920\n",
      "[100]\tvalidation_0-rmse:0.96006\tvalidation_1-rmse:0.97899\n",
      "[101]\tvalidation_0-rmse:0.95991\tvalidation_1-rmse:0.97904\n",
      "[102]\tvalidation_0-rmse:0.95979\tvalidation_1-rmse:0.97900\n",
      "[103]\tvalidation_0-rmse:0.95963\tvalidation_1-rmse:0.97865\n",
      "[104]\tvalidation_0-rmse:0.95958\tvalidation_1-rmse:0.97856\n",
      "[105]\tvalidation_0-rmse:0.95952\tvalidation_1-rmse:0.97851\n",
      "[106]\tvalidation_0-rmse:0.95935\tvalidation_1-rmse:0.97847\n",
      "[107]\tvalidation_0-rmse:0.95885\tvalidation_1-rmse:0.97812\n",
      "[108]\tvalidation_0-rmse:0.95868\tvalidation_1-rmse:0.97805\n",
      "[109]\tvalidation_0-rmse:0.95849\tvalidation_1-rmse:0.97802\n",
      "[110]\tvalidation_0-rmse:0.95845\tvalidation_1-rmse:0.97809\n",
      "[111]\tvalidation_0-rmse:0.95834\tvalidation_1-rmse:0.97807\n",
      "[112]\tvalidation_0-rmse:0.95829\tvalidation_1-rmse:0.97799\n",
      "[113]\tvalidation_0-rmse:0.95816\tvalidation_1-rmse:0.97803\n",
      "[114]\tvalidation_0-rmse:0.95796\tvalidation_1-rmse:0.97802\n",
      "[115]\tvalidation_0-rmse:0.95749\tvalidation_1-rmse:0.97758\n",
      "[116]\tvalidation_0-rmse:0.95735\tvalidation_1-rmse:0.97762\n",
      "[117]\tvalidation_0-rmse:0.95714\tvalidation_1-rmse:0.97755\n",
      "[118]\tvalidation_0-rmse:0.95702\tvalidation_1-rmse:0.97753\n",
      "[119]\tvalidation_0-rmse:0.95657\tvalidation_1-rmse:0.97735\n",
      "[120]\tvalidation_0-rmse:0.95635\tvalidation_1-rmse:0.97712\n",
      "[121]\tvalidation_0-rmse:0.95619\tvalidation_1-rmse:0.97705\n",
      "[122]\tvalidation_0-rmse:0.95600\tvalidation_1-rmse:0.97696\n",
      "[123]\tvalidation_0-rmse:0.95572\tvalidation_1-rmse:0.97677\n",
      "[124]\tvalidation_0-rmse:0.95561\tvalidation_1-rmse:0.97672\n",
      "[125]\tvalidation_0-rmse:0.95531\tvalidation_1-rmse:0.97663\n",
      "[126]\tvalidation_0-rmse:0.95522\tvalidation_1-rmse:0.97672\n",
      "[127]\tvalidation_0-rmse:0.95510\tvalidation_1-rmse:0.97676\n",
      "[128]\tvalidation_0-rmse:0.95506\tvalidation_1-rmse:0.97674\n",
      "[129]\tvalidation_0-rmse:0.95494\tvalidation_1-rmse:0.97678\n",
      "[130]\tvalidation_0-rmse:0.95480\tvalidation_1-rmse:0.97652\n",
      "[131]\tvalidation_0-rmse:0.95476\tvalidation_1-rmse:0.97646\n",
      "[132]\tvalidation_0-rmse:0.95472\tvalidation_1-rmse:0.97637\n",
      "[133]\tvalidation_0-rmse:0.95459\tvalidation_1-rmse:0.97624\n",
      "[134]\tvalidation_0-rmse:0.95440\tvalidation_1-rmse:0.97603\n",
      "[135]\tvalidation_0-rmse:0.95415\tvalidation_1-rmse:0.97590\n",
      "[136]\tvalidation_0-rmse:0.95393\tvalidation_1-rmse:0.97580\n",
      "[137]\tvalidation_0-rmse:0.95376\tvalidation_1-rmse:0.97590\n",
      "[138]\tvalidation_0-rmse:0.95354\tvalidation_1-rmse:0.97560\n",
      "[139]\tvalidation_0-rmse:0.95334\tvalidation_1-rmse:0.97560\n",
      "[140]\tvalidation_0-rmse:0.95323\tvalidation_1-rmse:0.97552\n",
      "[141]\tvalidation_0-rmse:0.95289\tvalidation_1-rmse:0.97538\n",
      "[142]\tvalidation_0-rmse:0.95272\tvalidation_1-rmse:0.97523\n",
      "[143]\tvalidation_0-rmse:0.95256\tvalidation_1-rmse:0.97534\n"
     ]
    },
    {
     "name": "stdout",
     "output_type": "stream",
     "text": [
      "[144]\tvalidation_0-rmse:0.95248\tvalidation_1-rmse:0.97532\n",
      "[145]\tvalidation_0-rmse:0.95232\tvalidation_1-rmse:0.97525\n",
      "[146]\tvalidation_0-rmse:0.95228\tvalidation_1-rmse:0.97525\n",
      "[147]\tvalidation_0-rmse:0.95216\tvalidation_1-rmse:0.97525\n",
      "[148]\tvalidation_0-rmse:0.95194\tvalidation_1-rmse:0.97503\n",
      "[149]\tvalidation_0-rmse:0.95174\tvalidation_1-rmse:0.97506\n",
      "[150]\tvalidation_0-rmse:0.95152\tvalidation_1-rmse:0.97495\n",
      "[151]\tvalidation_0-rmse:0.95146\tvalidation_1-rmse:0.97485\n",
      "[152]\tvalidation_0-rmse:0.95136\tvalidation_1-rmse:0.97480\n",
      "[153]\tvalidation_0-rmse:0.95122\tvalidation_1-rmse:0.97483\n",
      "[154]\tvalidation_0-rmse:0.95106\tvalidation_1-rmse:0.97483\n",
      "[155]\tvalidation_0-rmse:0.95087\tvalidation_1-rmse:0.97477\n",
      "[156]\tvalidation_0-rmse:0.95074\tvalidation_1-rmse:0.97472\n",
      "[157]\tvalidation_0-rmse:0.95059\tvalidation_1-rmse:0.97457\n",
      "[158]\tvalidation_0-rmse:0.95025\tvalidation_1-rmse:0.97447\n",
      "[159]\tvalidation_0-rmse:0.95016\tvalidation_1-rmse:0.97444\n",
      "[160]\tvalidation_0-rmse:0.94935\tvalidation_1-rmse:0.97342\n",
      "[161]\tvalidation_0-rmse:0.94931\tvalidation_1-rmse:0.97342\n",
      "[162]\tvalidation_0-rmse:0.94918\tvalidation_1-rmse:0.97342\n",
      "[163]\tvalidation_0-rmse:0.94907\tvalidation_1-rmse:0.97340\n",
      "[164]\tvalidation_0-rmse:0.94898\tvalidation_1-rmse:0.97334\n",
      "[165]\tvalidation_0-rmse:0.94871\tvalidation_1-rmse:0.97325\n",
      "[166]\tvalidation_0-rmse:0.94856\tvalidation_1-rmse:0.97320\n",
      "[167]\tvalidation_0-rmse:0.94845\tvalidation_1-rmse:0.97327\n",
      "[168]\tvalidation_0-rmse:0.94841\tvalidation_1-rmse:0.97325\n",
      "[169]\tvalidation_0-rmse:0.94830\tvalidation_1-rmse:0.97320\n",
      "[170]\tvalidation_0-rmse:0.94810\tvalidation_1-rmse:0.97295\n",
      "[171]\tvalidation_0-rmse:0.94800\tvalidation_1-rmse:0.97289\n",
      "[172]\tvalidation_0-rmse:0.94794\tvalidation_1-rmse:0.97282\n",
      "[173]\tvalidation_0-rmse:0.94756\tvalidation_1-rmse:0.97243\n",
      "[174]\tvalidation_0-rmse:0.94740\tvalidation_1-rmse:0.97246\n",
      "[175]\tvalidation_0-rmse:0.94729\tvalidation_1-rmse:0.97241\n",
      "[176]\tvalidation_0-rmse:0.94717\tvalidation_1-rmse:0.97231\n",
      "[177]\tvalidation_0-rmse:0.94710\tvalidation_1-rmse:0.97228\n",
      "[178]\tvalidation_0-rmse:0.94706\tvalidation_1-rmse:0.97226\n",
      "[179]\tvalidation_0-rmse:0.94702\tvalidation_1-rmse:0.97222\n",
      "[180]\tvalidation_0-rmse:0.94700\tvalidation_1-rmse:0.97222\n",
      "[181]\tvalidation_0-rmse:0.94683\tvalidation_1-rmse:0.97213\n",
      "[182]\tvalidation_0-rmse:0.94669\tvalidation_1-rmse:0.97203\n",
      "[183]\tvalidation_0-rmse:0.94663\tvalidation_1-rmse:0.97188\n",
      "[184]\tvalidation_0-rmse:0.94649\tvalidation_1-rmse:0.97186\n",
      "[185]\tvalidation_0-rmse:0.94636\tvalidation_1-rmse:0.97189\n",
      "[186]\tvalidation_0-rmse:0.94612\tvalidation_1-rmse:0.97178\n",
      "[187]\tvalidation_0-rmse:0.94600\tvalidation_1-rmse:0.97185\n",
      "[188]\tvalidation_0-rmse:0.94581\tvalidation_1-rmse:0.97164\n",
      "[189]\tvalidation_0-rmse:0.94573\tvalidation_1-rmse:0.97152\n",
      "[190]\tvalidation_0-rmse:0.94560\tvalidation_1-rmse:0.97148\n",
      "[191]\tvalidation_0-rmse:0.94544\tvalidation_1-rmse:0.97151\n",
      "[192]\tvalidation_0-rmse:0.94522\tvalidation_1-rmse:0.97153\n",
      "[193]\tvalidation_0-rmse:0.94513\tvalidation_1-rmse:0.97150\n",
      "[194]\tvalidation_0-rmse:0.94488\tvalidation_1-rmse:0.97143\n",
      "[195]\tvalidation_0-rmse:0.94473\tvalidation_1-rmse:0.97130\n",
      "[196]\tvalidation_0-rmse:0.94451\tvalidation_1-rmse:0.97091\n",
      "[197]\tvalidation_0-rmse:0.94437\tvalidation_1-rmse:0.97086\n",
      "[198]\tvalidation_0-rmse:0.94430\tvalidation_1-rmse:0.97089\n",
      "[199]\tvalidation_0-rmse:0.94416\tvalidation_1-rmse:0.97085\n",
      "[200]\tvalidation_0-rmse:0.94399\tvalidation_1-rmse:0.97068\n",
      "[201]\tvalidation_0-rmse:0.94395\tvalidation_1-rmse:0.97068\n",
      "[202]\tvalidation_0-rmse:0.94394\tvalidation_1-rmse:0.97068\n",
      "[203]\tvalidation_0-rmse:0.94382\tvalidation_1-rmse:0.97065\n",
      "[204]\tvalidation_0-rmse:0.94375\tvalidation_1-rmse:0.97072\n",
      "[205]\tvalidation_0-rmse:0.94362\tvalidation_1-rmse:0.97076\n",
      "[206]\tvalidation_0-rmse:0.94344\tvalidation_1-rmse:0.97061\n",
      "[207]\tvalidation_0-rmse:0.94334\tvalidation_1-rmse:0.97066\n",
      "[208]\tvalidation_0-rmse:0.94309\tvalidation_1-rmse:0.97056\n",
      "[209]\tvalidation_0-rmse:0.94293\tvalidation_1-rmse:0.97051\n",
      "[210]\tvalidation_0-rmse:0.94287\tvalidation_1-rmse:0.97048\n",
      "[211]\tvalidation_0-rmse:0.94280\tvalidation_1-rmse:0.97045\n",
      "[212]\tvalidation_0-rmse:0.94268\tvalidation_1-rmse:0.97043\n",
      "[213]\tvalidation_0-rmse:0.94263\tvalidation_1-rmse:0.97042\n",
      "[214]\tvalidation_0-rmse:0.94253\tvalidation_1-rmse:0.97040\n",
      "[215]\tvalidation_0-rmse:0.94242\tvalidation_1-rmse:0.97035\n",
      "[216]\tvalidation_0-rmse:0.94233\tvalidation_1-rmse:0.97022\n",
      "[217]\tvalidation_0-rmse:0.94221\tvalidation_1-rmse:0.97027\n",
      "[218]\tvalidation_0-rmse:0.94210\tvalidation_1-rmse:0.97034\n",
      "[219]\tvalidation_0-rmse:0.94198\tvalidation_1-rmse:0.97023\n",
      "[220]\tvalidation_0-rmse:0.94163\tvalidation_1-rmse:0.96985\n",
      "[221]\tvalidation_0-rmse:0.94153\tvalidation_1-rmse:0.96971\n",
      "[222]\tvalidation_0-rmse:0.94109\tvalidation_1-rmse:0.96915\n",
      "[223]\tvalidation_0-rmse:0.94092\tvalidation_1-rmse:0.96899\n",
      "[224]\tvalidation_0-rmse:0.94077\tvalidation_1-rmse:0.96885\n",
      "[225]\tvalidation_0-rmse:0.94063\tvalidation_1-rmse:0.96872\n",
      "[226]\tvalidation_0-rmse:0.94054\tvalidation_1-rmse:0.96857\n",
      "[227]\tvalidation_0-rmse:0.94048\tvalidation_1-rmse:0.96853\n",
      "[228]\tvalidation_0-rmse:0.94034\tvalidation_1-rmse:0.96847\n",
      "[229]\tvalidation_0-rmse:0.94019\tvalidation_1-rmse:0.96841\n",
      "[230]\tvalidation_0-rmse:0.94003\tvalidation_1-rmse:0.96830\n",
      "[231]\tvalidation_0-rmse:0.93981\tvalidation_1-rmse:0.96816\n",
      "[232]\tvalidation_0-rmse:0.93966\tvalidation_1-rmse:0.96809\n",
      "[233]\tvalidation_0-rmse:0.93938\tvalidation_1-rmse:0.96764\n",
      "[234]\tvalidation_0-rmse:0.93928\tvalidation_1-rmse:0.96759\n",
      "[235]\tvalidation_0-rmse:0.93916\tvalidation_1-rmse:0.96753\n",
      "[236]\tvalidation_0-rmse:0.93900\tvalidation_1-rmse:0.96732\n",
      "[237]\tvalidation_0-rmse:0.93893\tvalidation_1-rmse:0.96723\n",
      "[238]\tvalidation_0-rmse:0.93886\tvalidation_1-rmse:0.96723\n",
      "[239]\tvalidation_0-rmse:0.93878\tvalidation_1-rmse:0.96716\n",
      "[240]\tvalidation_0-rmse:0.93863\tvalidation_1-rmse:0.96723\n",
      "[241]\tvalidation_0-rmse:0.93839\tvalidation_1-rmse:0.96700\n",
      "[242]\tvalidation_0-rmse:0.93829\tvalidation_1-rmse:0.96693\n",
      "[243]\tvalidation_0-rmse:0.93820\tvalidation_1-rmse:0.96696\n",
      "[244]\tvalidation_0-rmse:0.93808\tvalidation_1-rmse:0.96683\n",
      "[245]\tvalidation_0-rmse:0.93798\tvalidation_1-rmse:0.96691\n",
      "[246]\tvalidation_0-rmse:0.93782\tvalidation_1-rmse:0.96690\n",
      "[247]\tvalidation_0-rmse:0.93779\tvalidation_1-rmse:0.96688\n",
      "[248]\tvalidation_0-rmse:0.93775\tvalidation_1-rmse:0.96684\n",
      "[249]\tvalidation_0-rmse:0.93765\tvalidation_1-rmse:0.96680\n",
      "[250]\tvalidation_0-rmse:0.93752\tvalidation_1-rmse:0.96684\n",
      "[251]\tvalidation_0-rmse:0.93742\tvalidation_1-rmse:0.96676\n",
      "[252]\tvalidation_0-rmse:0.93734\tvalidation_1-rmse:0.96685\n",
      "[253]\tvalidation_0-rmse:0.93725\tvalidation_1-rmse:0.96688\n",
      "[254]\tvalidation_0-rmse:0.93721\tvalidation_1-rmse:0.96685\n",
      "[255]\tvalidation_0-rmse:0.93710\tvalidation_1-rmse:0.96666\n",
      "[256]\tvalidation_0-rmse:0.93695\tvalidation_1-rmse:0.96673\n",
      "[257]\tvalidation_0-rmse:0.93692\tvalidation_1-rmse:0.96671\n",
      "[258]\tvalidation_0-rmse:0.93690\tvalidation_1-rmse:0.96672\n",
      "[259]\tvalidation_0-rmse:0.93680\tvalidation_1-rmse:0.96663\n",
      "[260]\tvalidation_0-rmse:0.93671\tvalidation_1-rmse:0.96674\n",
      "[261]\tvalidation_0-rmse:0.93665\tvalidation_1-rmse:0.96668\n",
      "[262]\tvalidation_0-rmse:0.93659\tvalidation_1-rmse:0.96673\n",
      "[263]\tvalidation_0-rmse:0.93635\tvalidation_1-rmse:0.96638\n",
      "[264]\tvalidation_0-rmse:0.93625\tvalidation_1-rmse:0.96643\n",
      "[265]\tvalidation_0-rmse:0.93622\tvalidation_1-rmse:0.96643\n",
      "[266]\tvalidation_0-rmse:0.93621\tvalidation_1-rmse:0.96645\n",
      "[267]\tvalidation_0-rmse:0.93612\tvalidation_1-rmse:0.96645\n",
      "[268]\tvalidation_0-rmse:0.93608\tvalidation_1-rmse:0.96648\n",
      "[269]\tvalidation_0-rmse:0.93595\tvalidation_1-rmse:0.96642\n",
      "[270]\tvalidation_0-rmse:0.93584\tvalidation_1-rmse:0.96646\n",
      "[271]\tvalidation_0-rmse:0.93575\tvalidation_1-rmse:0.96637\n",
      "[272]\tvalidation_0-rmse:0.93559\tvalidation_1-rmse:0.96630\n",
      "[273]\tvalidation_0-rmse:0.93544\tvalidation_1-rmse:0.96620\n",
      "[274]\tvalidation_0-rmse:0.93534\tvalidation_1-rmse:0.96620\n",
      "[275]\tvalidation_0-rmse:0.93527\tvalidation_1-rmse:0.96624\n",
      "[276]\tvalidation_0-rmse:0.93520\tvalidation_1-rmse:0.96625\n",
      "[277]\tvalidation_0-rmse:0.93514\tvalidation_1-rmse:0.96623\n",
      "[278]\tvalidation_0-rmse:0.93502\tvalidation_1-rmse:0.96616\n",
      "[279]\tvalidation_0-rmse:0.93492\tvalidation_1-rmse:0.96616\n",
      "[280]\tvalidation_0-rmse:0.93482\tvalidation_1-rmse:0.96614\n",
      "[281]\tvalidation_0-rmse:0.93473\tvalidation_1-rmse:0.96621\n",
      "[282]\tvalidation_0-rmse:0.93463\tvalidation_1-rmse:0.96622\n",
      "[283]\tvalidation_0-rmse:0.93449\tvalidation_1-rmse:0.96608\n",
      "[284]\tvalidation_0-rmse:0.93441\tvalidation_1-rmse:0.96606\n",
      "[285]\tvalidation_0-rmse:0.93437\tvalidation_1-rmse:0.96601\n"
     ]
    },
    {
     "name": "stdout",
     "output_type": "stream",
     "text": [
      "[286]\tvalidation_0-rmse:0.93425\tvalidation_1-rmse:0.96599\n",
      "[287]\tvalidation_0-rmse:0.93417\tvalidation_1-rmse:0.96608\n",
      "[288]\tvalidation_0-rmse:0.93410\tvalidation_1-rmse:0.96603\n",
      "[289]\tvalidation_0-rmse:0.93390\tvalidation_1-rmse:0.96623\n",
      "[290]\tvalidation_0-rmse:0.93378\tvalidation_1-rmse:0.96612\n",
      "[291]\tvalidation_0-rmse:0.93358\tvalidation_1-rmse:0.96594\n",
      "[292]\tvalidation_0-rmse:0.93348\tvalidation_1-rmse:0.96586\n",
      "[293]\tvalidation_0-rmse:0.93336\tvalidation_1-rmse:0.96582\n",
      "[294]\tvalidation_0-rmse:0.93322\tvalidation_1-rmse:0.96576\n",
      "[295]\tvalidation_0-rmse:0.93315\tvalidation_1-rmse:0.96585\n",
      "[296]\tvalidation_0-rmse:0.93295\tvalidation_1-rmse:0.96544\n",
      "[297]\tvalidation_0-rmse:0.93286\tvalidation_1-rmse:0.96547\n",
      "[298]\tvalidation_0-rmse:0.93281\tvalidation_1-rmse:0.96545\n",
      "[299]\tvalidation_0-rmse:0.93275\tvalidation_1-rmse:0.96549\n",
      "[300]\tvalidation_0-rmse:0.93270\tvalidation_1-rmse:0.96547\n",
      "[301]\tvalidation_0-rmse:0.93265\tvalidation_1-rmse:0.96546\n",
      "[302]\tvalidation_0-rmse:0.93261\tvalidation_1-rmse:0.96546\n",
      "[303]\tvalidation_0-rmse:0.93258\tvalidation_1-rmse:0.96542\n",
      "[304]\tvalidation_0-rmse:0.93250\tvalidation_1-rmse:0.96532\n",
      "[305]\tvalidation_0-rmse:0.93243\tvalidation_1-rmse:0.96516\n",
      "[306]\tvalidation_0-rmse:0.93230\tvalidation_1-rmse:0.96524\n",
      "[307]\tvalidation_0-rmse:0.93219\tvalidation_1-rmse:0.96521\n",
      "[308]\tvalidation_0-rmse:0.93206\tvalidation_1-rmse:0.96512\n",
      "[309]\tvalidation_0-rmse:0.93203\tvalidation_1-rmse:0.96514\n",
      "[310]\tvalidation_0-rmse:0.93193\tvalidation_1-rmse:0.96515\n",
      "[311]\tvalidation_0-rmse:0.93189\tvalidation_1-rmse:0.96516\n",
      "[312]\tvalidation_0-rmse:0.93181\tvalidation_1-rmse:0.96509\n",
      "[313]\tvalidation_0-rmse:0.93171\tvalidation_1-rmse:0.96507\n",
      "[314]\tvalidation_0-rmse:0.93158\tvalidation_1-rmse:0.96493\n",
      "[315]\tvalidation_0-rmse:0.93145\tvalidation_1-rmse:0.96474\n",
      "[316]\tvalidation_0-rmse:0.93139\tvalidation_1-rmse:0.96475\n",
      "[317]\tvalidation_0-rmse:0.93136\tvalidation_1-rmse:0.96481\n",
      "[318]\tvalidation_0-rmse:0.93128\tvalidation_1-rmse:0.96476\n",
      "[319]\tvalidation_0-rmse:0.93110\tvalidation_1-rmse:0.96451\n",
      "[320]\tvalidation_0-rmse:0.93097\tvalidation_1-rmse:0.96449\n",
      "[321]\tvalidation_0-rmse:0.93086\tvalidation_1-rmse:0.96440\n",
      "[322]\tvalidation_0-rmse:0.93073\tvalidation_1-rmse:0.96430\n",
      "[323]\tvalidation_0-rmse:0.93062\tvalidation_1-rmse:0.96419\n",
      "[324]\tvalidation_0-rmse:0.93054\tvalidation_1-rmse:0.96406\n",
      "[325]\tvalidation_0-rmse:0.93044\tvalidation_1-rmse:0.96409\n",
      "[326]\tvalidation_0-rmse:0.93041\tvalidation_1-rmse:0.96410\n",
      "[327]\tvalidation_0-rmse:0.93030\tvalidation_1-rmse:0.96410\n",
      "[328]\tvalidation_0-rmse:0.93012\tvalidation_1-rmse:0.96396\n",
      "[329]\tvalidation_0-rmse:0.92996\tvalidation_1-rmse:0.96418\n",
      "[330]\tvalidation_0-rmse:0.92988\tvalidation_1-rmse:0.96425\n",
      "[331]\tvalidation_0-rmse:0.92977\tvalidation_1-rmse:0.96416\n",
      "[332]\tvalidation_0-rmse:0.92966\tvalidation_1-rmse:0.96407\n",
      "[333]\tvalidation_0-rmse:0.92965\tvalidation_1-rmse:0.96408\n",
      "[334]\tvalidation_0-rmse:0.92955\tvalidation_1-rmse:0.96392\n",
      "[335]\tvalidation_0-rmse:0.92947\tvalidation_1-rmse:0.96386\n",
      "[336]\tvalidation_0-rmse:0.92936\tvalidation_1-rmse:0.96377\n",
      "[337]\tvalidation_0-rmse:0.92926\tvalidation_1-rmse:0.96393\n",
      "[338]\tvalidation_0-rmse:0.92915\tvalidation_1-rmse:0.96382\n",
      "[339]\tvalidation_0-rmse:0.92906\tvalidation_1-rmse:0.96374\n",
      "[340]\tvalidation_0-rmse:0.92895\tvalidation_1-rmse:0.96369\n",
      "[341]\tvalidation_0-rmse:0.92885\tvalidation_1-rmse:0.96359\n",
      "[342]\tvalidation_0-rmse:0.92882\tvalidation_1-rmse:0.96358\n",
      "[343]\tvalidation_0-rmse:0.92849\tvalidation_1-rmse:0.96321\n",
      "[344]\tvalidation_0-rmse:0.92841\tvalidation_1-rmse:0.96325\n",
      "[345]\tvalidation_0-rmse:0.92834\tvalidation_1-rmse:0.96329\n",
      "[346]\tvalidation_0-rmse:0.92823\tvalidation_1-rmse:0.96329\n",
      "[347]\tvalidation_0-rmse:0.92815\tvalidation_1-rmse:0.96329\n",
      "[348]\tvalidation_0-rmse:0.92805\tvalidation_1-rmse:0.96338\n",
      "[349]\tvalidation_0-rmse:0.92798\tvalidation_1-rmse:0.96341\n",
      "[350]\tvalidation_0-rmse:0.92789\tvalidation_1-rmse:0.96349\n",
      "[351]\tvalidation_0-rmse:0.92783\tvalidation_1-rmse:0.96344\n",
      "[352]\tvalidation_0-rmse:0.92779\tvalidation_1-rmse:0.96347\n",
      "[353]\tvalidation_0-rmse:0.92773\tvalidation_1-rmse:0.96342\n",
      "[354]\tvalidation_0-rmse:0.92766\tvalidation_1-rmse:0.96339\n",
      "[355]\tvalidation_0-rmse:0.92759\tvalidation_1-rmse:0.96346\n",
      "[356]\tvalidation_0-rmse:0.92748\tvalidation_1-rmse:0.96349\n",
      "[357]\tvalidation_0-rmse:0.92740\tvalidation_1-rmse:0.96347\n",
      "[358]\tvalidation_0-rmse:0.92713\tvalidation_1-rmse:0.96292\n",
      "[359]\tvalidation_0-rmse:0.92707\tvalidation_1-rmse:0.96294\n",
      "[360]\tvalidation_0-rmse:0.92695\tvalidation_1-rmse:0.96283\n",
      "[361]\tvalidation_0-rmse:0.92690\tvalidation_1-rmse:0.96277\n",
      "[362]\tvalidation_0-rmse:0.92689\tvalidation_1-rmse:0.96278\n",
      "[363]\tvalidation_0-rmse:0.92685\tvalidation_1-rmse:0.96277\n",
      "[364]\tvalidation_0-rmse:0.92683\tvalidation_1-rmse:0.96273\n",
      "[365]\tvalidation_0-rmse:0.92665\tvalidation_1-rmse:0.96253\n",
      "[366]\tvalidation_0-rmse:0.92658\tvalidation_1-rmse:0.96246\n",
      "[367]\tvalidation_0-rmse:0.92653\tvalidation_1-rmse:0.96249\n",
      "[368]\tvalidation_0-rmse:0.92640\tvalidation_1-rmse:0.96256\n",
      "[369]\tvalidation_0-rmse:0.92639\tvalidation_1-rmse:0.96256\n",
      "[370]\tvalidation_0-rmse:0.92635\tvalidation_1-rmse:0.96257\n",
      "[371]\tvalidation_0-rmse:0.92633\tvalidation_1-rmse:0.96262\n",
      "[372]\tvalidation_0-rmse:0.92624\tvalidation_1-rmse:0.96253\n",
      "[373]\tvalidation_0-rmse:0.92617\tvalidation_1-rmse:0.96252\n",
      "[374]\tvalidation_0-rmse:0.92608\tvalidation_1-rmse:0.96251\n",
      "[375]\tvalidation_0-rmse:0.92599\tvalidation_1-rmse:0.96247\n",
      "[376]\tvalidation_0-rmse:0.92593\tvalidation_1-rmse:0.96254\n",
      "[377]\tvalidation_0-rmse:0.92590\tvalidation_1-rmse:0.96255\n",
      "[378]\tvalidation_0-rmse:0.92582\tvalidation_1-rmse:0.96252\n",
      "[379]\tvalidation_0-rmse:0.92578\tvalidation_1-rmse:0.96253\n",
      "[380]\tvalidation_0-rmse:0.92570\tvalidation_1-rmse:0.96251\n",
      "[381]\tvalidation_0-rmse:0.92561\tvalidation_1-rmse:0.96251\n",
      "[382]\tvalidation_0-rmse:0.92553\tvalidation_1-rmse:0.96244\n",
      "[383]\tvalidation_0-rmse:0.92542\tvalidation_1-rmse:0.96248\n",
      "[384]\tvalidation_0-rmse:0.92541\tvalidation_1-rmse:0.96249\n",
      "[385]\tvalidation_0-rmse:0.92536\tvalidation_1-rmse:0.96237\n",
      "[386]\tvalidation_0-rmse:0.92529\tvalidation_1-rmse:0.96239\n",
      "[387]\tvalidation_0-rmse:0.92523\tvalidation_1-rmse:0.96236\n",
      "[388]\tvalidation_0-rmse:0.92523\tvalidation_1-rmse:0.96238\n",
      "[389]\tvalidation_0-rmse:0.92517\tvalidation_1-rmse:0.96239\n",
      "[390]\tvalidation_0-rmse:0.92508\tvalidation_1-rmse:0.96227\n",
      "[391]\tvalidation_0-rmse:0.92492\tvalidation_1-rmse:0.96218\n",
      "[392]\tvalidation_0-rmse:0.92478\tvalidation_1-rmse:0.96217\n",
      "[393]\tvalidation_0-rmse:0.92467\tvalidation_1-rmse:0.96218\n",
      "[394]\tvalidation_0-rmse:0.92458\tvalidation_1-rmse:0.96217\n",
      "[395]\tvalidation_0-rmse:0.92448\tvalidation_1-rmse:0.96217\n",
      "[396]\tvalidation_0-rmse:0.92435\tvalidation_1-rmse:0.96223\n",
      "[397]\tvalidation_0-rmse:0.92425\tvalidation_1-rmse:0.96217\n",
      "[398]\tvalidation_0-rmse:0.92410\tvalidation_1-rmse:0.96203\n",
      "[399]\tvalidation_0-rmse:0.92406\tvalidation_1-rmse:0.96203\n",
      "[400]\tvalidation_0-rmse:0.92400\tvalidation_1-rmse:0.96202\n",
      "[401]\tvalidation_0-rmse:0.92394\tvalidation_1-rmse:0.96201\n",
      "[402]\tvalidation_0-rmse:0.92387\tvalidation_1-rmse:0.96204\n",
      "[403]\tvalidation_0-rmse:0.92378\tvalidation_1-rmse:0.96193\n",
      "[404]\tvalidation_0-rmse:0.92371\tvalidation_1-rmse:0.96193\n",
      "[405]\tvalidation_0-rmse:0.92362\tvalidation_1-rmse:0.96186\n",
      "[406]\tvalidation_0-rmse:0.92358\tvalidation_1-rmse:0.96190\n",
      "[407]\tvalidation_0-rmse:0.92352\tvalidation_1-rmse:0.96192\n",
      "[408]\tvalidation_0-rmse:0.92348\tvalidation_1-rmse:0.96193\n",
      "[409]\tvalidation_0-rmse:0.92344\tvalidation_1-rmse:0.96195\n",
      "[410]\tvalidation_0-rmse:0.92334\tvalidation_1-rmse:0.96181\n",
      "[411]\tvalidation_0-rmse:0.92328\tvalidation_1-rmse:0.96185\n",
      "[412]\tvalidation_0-rmse:0.92319\tvalidation_1-rmse:0.96186\n",
      "[413]\tvalidation_0-rmse:0.92314\tvalidation_1-rmse:0.96183\n",
      "[414]\tvalidation_0-rmse:0.92301\tvalidation_1-rmse:0.96182\n",
      "[415]\tvalidation_0-rmse:0.92295\tvalidation_1-rmse:0.96182\n",
      "[416]\tvalidation_0-rmse:0.92286\tvalidation_1-rmse:0.96178\n",
      "[417]\tvalidation_0-rmse:0.92279\tvalidation_1-rmse:0.96180\n",
      "[418]\tvalidation_0-rmse:0.92270\tvalidation_1-rmse:0.96181\n",
      "[419]\tvalidation_0-rmse:0.92263\tvalidation_1-rmse:0.96188\n",
      "[420]\tvalidation_0-rmse:0.92263\tvalidation_1-rmse:0.96188\n",
      "[421]\tvalidation_0-rmse:0.92262\tvalidation_1-rmse:0.96188\n",
      "[422]\tvalidation_0-rmse:0.92261\tvalidation_1-rmse:0.96189\n",
      "[423]\tvalidation_0-rmse:0.92258\tvalidation_1-rmse:0.96190\n",
      "[424]\tvalidation_0-rmse:0.92225\tvalidation_1-rmse:0.96136\n",
      "[425]\tvalidation_0-rmse:0.92215\tvalidation_1-rmse:0.96120\n",
      "[426]\tvalidation_0-rmse:0.92212\tvalidation_1-rmse:0.96112\n",
      "[427]\tvalidation_0-rmse:0.92205\tvalidation_1-rmse:0.96110\n"
     ]
    },
    {
     "name": "stdout",
     "output_type": "stream",
     "text": [
      "[428]\tvalidation_0-rmse:0.92203\tvalidation_1-rmse:0.96114\n",
      "[429]\tvalidation_0-rmse:0.92196\tvalidation_1-rmse:0.96118\n",
      "[430]\tvalidation_0-rmse:0.92187\tvalidation_1-rmse:0.96121\n",
      "[431]\tvalidation_0-rmse:0.92185\tvalidation_1-rmse:0.96121\n",
      "[432]\tvalidation_0-rmse:0.92180\tvalidation_1-rmse:0.96114\n",
      "[433]\tvalidation_0-rmse:0.92178\tvalidation_1-rmse:0.96110\n",
      "[434]\tvalidation_0-rmse:0.92170\tvalidation_1-rmse:0.96125\n",
      "[435]\tvalidation_0-rmse:0.92164\tvalidation_1-rmse:0.96121\n",
      "[436]\tvalidation_0-rmse:0.92154\tvalidation_1-rmse:0.96119\n",
      "[437]\tvalidation_0-rmse:0.92134\tvalidation_1-rmse:0.96107\n",
      "[438]\tvalidation_0-rmse:0.92129\tvalidation_1-rmse:0.96108\n",
      "[439]\tvalidation_0-rmse:0.92122\tvalidation_1-rmse:0.96100\n",
      "[440]\tvalidation_0-rmse:0.92114\tvalidation_1-rmse:0.96101\n",
      "[441]\tvalidation_0-rmse:0.92105\tvalidation_1-rmse:0.96092\n",
      "[442]\tvalidation_0-rmse:0.92100\tvalidation_1-rmse:0.96093\n",
      "[443]\tvalidation_0-rmse:0.92091\tvalidation_1-rmse:0.96086\n",
      "[444]\tvalidation_0-rmse:0.92084\tvalidation_1-rmse:0.96091\n",
      "[445]\tvalidation_0-rmse:0.92079\tvalidation_1-rmse:0.96096\n",
      "[446]\tvalidation_0-rmse:0.92070\tvalidation_1-rmse:0.96081\n",
      "[447]\tvalidation_0-rmse:0.92063\tvalidation_1-rmse:0.96081\n",
      "[448]\tvalidation_0-rmse:0.92056\tvalidation_1-rmse:0.96086\n",
      "[449]\tvalidation_0-rmse:0.92048\tvalidation_1-rmse:0.96088\n",
      "[450]\tvalidation_0-rmse:0.92042\tvalidation_1-rmse:0.96092\n",
      "[451]\tvalidation_0-rmse:0.92041\tvalidation_1-rmse:0.96092\n",
      "[452]\tvalidation_0-rmse:0.92030\tvalidation_1-rmse:0.96078\n",
      "[453]\tvalidation_0-rmse:0.92025\tvalidation_1-rmse:0.96073\n",
      "[454]\tvalidation_0-rmse:0.92021\tvalidation_1-rmse:0.96071\n",
      "[455]\tvalidation_0-rmse:0.92011\tvalidation_1-rmse:0.96067\n",
      "[456]\tvalidation_0-rmse:0.91998\tvalidation_1-rmse:0.96070\n",
      "[457]\tvalidation_0-rmse:0.91993\tvalidation_1-rmse:0.96070\n",
      "[458]\tvalidation_0-rmse:0.91986\tvalidation_1-rmse:0.96067\n",
      "[459]\tvalidation_0-rmse:0.91978\tvalidation_1-rmse:0.96067\n",
      "[460]\tvalidation_0-rmse:0.91975\tvalidation_1-rmse:0.96065\n",
      "[461]\tvalidation_0-rmse:0.91969\tvalidation_1-rmse:0.96062\n",
      "[462]\tvalidation_0-rmse:0.91963\tvalidation_1-rmse:0.96069\n",
      "[463]\tvalidation_0-rmse:0.91958\tvalidation_1-rmse:0.96068\n",
      "[464]\tvalidation_0-rmse:0.91956\tvalidation_1-rmse:0.96067\n",
      "[465]\tvalidation_0-rmse:0.91949\tvalidation_1-rmse:0.96069\n",
      "[466]\tvalidation_0-rmse:0.91942\tvalidation_1-rmse:0.96068\n",
      "[467]\tvalidation_0-rmse:0.91931\tvalidation_1-rmse:0.96067\n",
      "[468]\tvalidation_0-rmse:0.91924\tvalidation_1-rmse:0.96067\n",
      "[469]\tvalidation_0-rmse:0.91915\tvalidation_1-rmse:0.96059\n",
      "[470]\tvalidation_0-rmse:0.91909\tvalidation_1-rmse:0.96056\n",
      "[471]\tvalidation_0-rmse:0.91900\tvalidation_1-rmse:0.96055\n",
      "[472]\tvalidation_0-rmse:0.91890\tvalidation_1-rmse:0.96061\n",
      "[473]\tvalidation_0-rmse:0.91882\tvalidation_1-rmse:0.96058\n",
      "[474]\tvalidation_0-rmse:0.91877\tvalidation_1-rmse:0.96067\n",
      "[475]\tvalidation_0-rmse:0.91871\tvalidation_1-rmse:0.96068\n",
      "[476]\tvalidation_0-rmse:0.91868\tvalidation_1-rmse:0.96069\n",
      "[477]\tvalidation_0-rmse:0.91860\tvalidation_1-rmse:0.96074\n",
      "[478]\tvalidation_0-rmse:0.91853\tvalidation_1-rmse:0.96076\n",
      "[479]\tvalidation_0-rmse:0.91847\tvalidation_1-rmse:0.96071\n",
      "[480]\tvalidation_0-rmse:0.91837\tvalidation_1-rmse:0.96074\n",
      "[481]\tvalidation_0-rmse:0.91831\tvalidation_1-rmse:0.96083\n",
      "[482]\tvalidation_0-rmse:0.91825\tvalidation_1-rmse:0.96071\n",
      "[483]\tvalidation_0-rmse:0.91816\tvalidation_1-rmse:0.96074\n",
      "[484]\tvalidation_0-rmse:0.91802\tvalidation_1-rmse:0.96077\n",
      "[485]\tvalidation_0-rmse:0.91787\tvalidation_1-rmse:0.96067\n",
      "[486]\tvalidation_0-rmse:0.91782\tvalidation_1-rmse:0.96063\n",
      "[487]\tvalidation_0-rmse:0.91777\tvalidation_1-rmse:0.96060\n",
      "[488]\tvalidation_0-rmse:0.91764\tvalidation_1-rmse:0.96060\n",
      "[489]\tvalidation_0-rmse:0.91761\tvalidation_1-rmse:0.96063\n",
      "[490]\tvalidation_0-rmse:0.91752\tvalidation_1-rmse:0.96062\n",
      "[491]\tvalidation_0-rmse:0.91738\tvalidation_1-rmse:0.96045\n",
      "[492]\tvalidation_0-rmse:0.91729\tvalidation_1-rmse:0.96033\n",
      "[493]\tvalidation_0-rmse:0.91722\tvalidation_1-rmse:0.96040\n",
      "[494]\tvalidation_0-rmse:0.91715\tvalidation_1-rmse:0.96039\n",
      "[495]\tvalidation_0-rmse:0.91710\tvalidation_1-rmse:0.96037\n",
      "[496]\tvalidation_0-rmse:0.91701\tvalidation_1-rmse:0.96038\n",
      "[497]\tvalidation_0-rmse:0.91696\tvalidation_1-rmse:0.96039\n",
      "[498]\tvalidation_0-rmse:0.91688\tvalidation_1-rmse:0.96031\n",
      "[499]\tvalidation_0-rmse:0.91681\tvalidation_1-rmse:0.96023\n"
     ]
    }
   ],
   "source": [
    "model = XGBRegressor(n_estimators = 500,\n",
    "                     max_depth=3);\n",
    "model.fit(X_train,y_train, eval_metric='rmse', eval_set=evalset);"
   ]
  },
  {
   "cell_type": "markdown",
   "metadata": {},
   "source": [
    "# Evaluation\n"
   ]
  },
  {
   "cell_type": "code",
   "execution_count": 30,
   "metadata": {},
   "outputs": [
    {
     "data": {
      "image/png": "[encoded data removed]",
      "text/plain": [
       "<Figure size 432x288 with 1 Axes>"
      ]
     },
     "metadata": {
      "needs_background": "light"
     },
     "output_type": "display_data"
    }
   ],
   "source": [
    "plot_importance(model)\n",
    "pyplot.show()"
   ]
  },
  {
   "cell_type": "code",
   "execution_count": 31,
   "metadata": {},
   "outputs": [
    {
     "data": {
      "image/png": "[encoded data removed]",
      "text/plain": [
       "<Figure size 432x288 with 1 Axes>"
      ]
     },
     "metadata": {
      "needs_background": "light"
     },
     "output_type": "display_data"
    }
   ],
   "source": [
    "results = model.evals_result()\n",
    "pyplot.plot(results['validation_0']['rmse'], label='train')\n",
    "pyplot.plot(results['validation_1']['rmse'], label='test')\n",
    "# show the legend\n",
    "pyplot.legend()\n",
    "# show the plot\n",
    "pyplot.show()"
   ]
  },
  {
   "cell_type": "code",
   "execution_count": 34,
   "metadata": {},
   "outputs": [],
   "source": [
    "import pickle\n",
    "file_name = \"movie_score_predict.pkl\"\n",
    "\n",
    "# save\n",
    "pickle.dump(model, open(file_name, \"wb\"))"
   ]
  },
  {
   "cell_type": "code",
   "execution_count": 35,
   "metadata": {},
   "outputs": [],
   "source": [
    "model = pickle.load(open(file_name, \"rb\"))"
   ]
  },
  {
   "cell_type": "code",
   "execution_count": null,
   "metadata": {},
   "outputs": [],
   "source": []
  }
 ],
 "metadata": {
  "kernelspec": {
   "display_name": "Python 3",
   "language": "python",
   "name": "python3"
  },
  "language_info": {
   "codemirror_mode": {
    "name": "ipython",
    "version": 3
   },
   "file_extension": ".py",
   "mimetype": "text/x-python",
   "name": "python",
   "nbconvert_exporter": "python",
   "pygments_lexer": "ipython3",
   "version": "3.8.5"
  }
 },
 "nbformat": 4,
 "nbformat_minor": 5
}
