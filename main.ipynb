{
 "cells": [
  {
   "cell_type": "code",
   "execution_count": 1,
   "id": "0ae9a4e1",
   "metadata": {},
   "outputs": [],
   "source": [
    "from util import *\n",
    "\n",
    "import pandas as pd\n",
    "import numpy as np \n",
    "\n",
    "from sklearn import preprocessing\n",
    "from sklearn.model_selection import train_test_split\n",
    "\n",
    "from lightgbm import LGBMRegressor\n",
    "from xgboost import XGBRegressor\n",
    "from sklearn.metrics import mean_squared_error\n",
    "from matplotlib import pyplot\n",
    "from xgboost import plot_importance"
   ]
  },
  {
   "cell_type": "code",
   "execution_count": 2,
   "id": "93647348",
   "metadata": {},
   "outputs": [
    {
     "data": {
      "text/html": [
       "<div>\n",
       "<style scoped>\n",
       "    .dataframe tbody tr th:only-of-type {\n",
       "        vertical-align: middle;\n",
       "    }\n",
       "\n",
       "    .dataframe tbody tr th {\n",
       "        vertical-align: top;\n",
       "    }\n",
       "\n",
       "    .dataframe thead th {\n",
       "        text-align: right;\n",
       "    }\n",
       "</style>\n",
       "<table border=\"1\" class=\"dataframe\">\n",
       "  <thead>\n",
       "    <tr style=\"text-align: right;\">\n",
       "      <th></th>\n",
       "      <th>title</th>\n",
       "      <th>year</th>\n",
       "      <th>rating</th>\n",
       "      <th>director_name</th>\n",
       "      <th>genre</th>\n",
       "      <th>cast_names</th>\n",
       "      <th>cast_ids</th>\n",
       "      <th>votes</th>\n",
       "      <th>director_ids</th>\n",
       "      <th>country</th>\n",
       "      <th>day</th>\n",
       "      <th>month</th>\n",
       "    </tr>\n",
       "  </thead>\n",
       "  <tbody>\n",
       "    <tr>\n",
       "      <th>0</th>\n",
       "      <td>Miss Jerry</td>\n",
       "      <td>1894</td>\n",
       "      <td>5.9</td>\n",
       "      <td>['Alexander Black']</td>\n",
       "      <td>['Short', 'Romance']</td>\n",
       "      <td>[['Blanche Bayliss', 'William Courtenay', 'Cha...</td>\n",
       "      <td>[['0063086', '0183823', '1309758']]</td>\n",
       "      <td>191.0</td>\n",
       "      <td>[[85156]]</td>\n",
       "      <td>USA</td>\n",
       "      <td>0</td>\n",
       "      <td>Oct</td>\n",
       "    </tr>\n",
       "    <tr>\n",
       "      <th>1</th>\n",
       "      <td>The Story of the Kelly Gang</td>\n",
       "      <td>1906</td>\n",
       "      <td>6.1</td>\n",
       "      <td>['Charles Tait']</td>\n",
       "      <td>['Action', 'Adventure', 'Biography', 'Crime', ...</td>\n",
       "      <td>[['Elizabeth Tait', 'John Tait', 'Nicholas Bri...</td>\n",
       "      <td>[['0846887', '0846894', '1431224', '3002376', ...</td>\n",
       "      <td>737.0</td>\n",
       "      <td>[[846879]]</td>\n",
       "      <td>Australia</td>\n",
       "      <td>26</td>\n",
       "      <td>Dec</td>\n",
       "    </tr>\n",
       "    <tr>\n",
       "      <th>2</th>\n",
       "      <td>Den sorte drøm</td>\n",
       "      <td>1911</td>\n",
       "      <td>5.9</td>\n",
       "      <td>['Urban Gad']</td>\n",
       "      <td>['Drama']</td>\n",
       "      <td>[['Asta Nielsen', 'Valdemar Psilander', 'Gunna...</td>\n",
       "      <td>[['0003425', '0699637', '0375839', '0016799', ...</td>\n",
       "      <td>218.0</td>\n",
       "      <td>[[300487]]</td>\n",
       "      <td>Germany</td>\n",
       "      <td>19</td>\n",
       "      <td>Aug</td>\n",
       "    </tr>\n",
       "    <tr>\n",
       "      <th>3</th>\n",
       "      <td>Cleopatra</td>\n",
       "      <td>1963</td>\n",
       "      <td>7.0</td>\n",
       "      <td>['Joseph L. Mankiewicz']</td>\n",
       "      <td>['Biography', 'Drama', 'History', 'Romance']</td>\n",
       "      <td>[['Elizabeth Taylor', 'Richard Burton', 'Rex H...</td>\n",
       "      <td>[['0000072', '0000009', '0001322', '0114386', ...</td>\n",
       "      <td>31526.0</td>\n",
       "      <td>[[581]]</td>\n",
       "      <td>Canada</td>\n",
       "      <td>31</td>\n",
       "      <td>Jul</td>\n",
       "    </tr>\n",
       "    <tr>\n",
       "      <th>4</th>\n",
       "      <td>Torment</td>\n",
       "      <td>1994</td>\n",
       "      <td>7.1</td>\n",
       "      <td>['Claude Chabrol']</td>\n",
       "      <td>['Crime', 'Drama', 'Thriller']</td>\n",
       "      <td>[['Emmanuelle Béart', 'François Cluzet', 'Nath...</td>\n",
       "      <td>[['0000322', '0167388', '0136597', '0932870', ...</td>\n",
       "      <td>4936.0</td>\n",
       "      <td>[[1031]]</td>\n",
       "      <td>France</td>\n",
       "      <td>16</td>\n",
       "      <td>Feb</td>\n",
       "    </tr>\n",
       "    <tr>\n",
       "      <th>...</th>\n",
       "      <td>...</td>\n",
       "      <td>...</td>\n",
       "      <td>...</td>\n",
       "      <td>...</td>\n",
       "      <td>...</td>\n",
       "      <td>...</td>\n",
       "      <td>...</td>\n",
       "      <td>...</td>\n",
       "      <td>...</td>\n",
       "      <td>...</td>\n",
       "      <td>...</td>\n",
       "      <td>...</td>\n",
       "    </tr>\n",
       "    <tr>\n",
       "      <th>84974</th>\n",
       "      <td>A Second Chance: Rivals!</td>\n",
       "      <td>2019</td>\n",
       "      <td>4.8</td>\n",
       "      <td>['Clay Glen']</td>\n",
       "      <td>['Drama', 'Family', 'Sport']</td>\n",
       "      <td>[['Emily Morris', 'Stella Shute', 'Carmel John...</td>\n",
       "      <td>[['4825006', '10195787', '0424718', '1138590',...</td>\n",
       "      <td>338.0</td>\n",
       "      <td>[[4825581]]</td>\n",
       "      <td>Australia</td>\n",
       "      <td>24</td>\n",
       "      <td>Sep</td>\n",
       "    </tr>\n",
       "    <tr>\n",
       "      <th>84975</th>\n",
       "      <td>Feed</td>\n",
       "      <td>2017</td>\n",
       "      <td>6.2</td>\n",
       "      <td>['Tommy Bertelsen']</td>\n",
       "      <td>['Drama']</td>\n",
       "      <td>[['Troian Bellisario', 'Tom Felton', 'Ben Winc...</td>\n",
       "      <td>[['0069079', '0271657', '3656718', '0001664', ...</td>\n",
       "      <td>2445.0</td>\n",
       "      <td>[[77879]]</td>\n",
       "      <td>USA</td>\n",
       "      <td>18</td>\n",
       "      <td>Jul</td>\n",
       "    </tr>\n",
       "    <tr>\n",
       "      <th>84976</th>\n",
       "      <td>Capernaum</td>\n",
       "      <td>2018</td>\n",
       "      <td>8.4</td>\n",
       "      <td>['Nadine Labaki']</td>\n",
       "      <td>['Drama']</td>\n",
       "      <td>[['Zain Al Rafeea', 'Yordanos Shiferaw', 'Bolu...</td>\n",
       "      <td>[['9862858', '9862859', '9862860', '10201625',...</td>\n",
       "      <td>78256.0</td>\n",
       "      <td>[[1701024]]</td>\n",
       "      <td>Other</td>\n",
       "      <td>20</td>\n",
       "      <td>Sep</td>\n",
       "    </tr>\n",
       "    <tr>\n",
       "      <th>84977</th>\n",
       "      <td>G-Loc</td>\n",
       "      <td>2020</td>\n",
       "      <td>4.6</td>\n",
       "      <td>['Tom Paton']</td>\n",
       "      <td>['Sci-Fi']</td>\n",
       "      <td>[['Stephen Moyer', 'Tala Gouveia', 'John Rhys-...</td>\n",
       "      <td>[['0610459', '4823334', '0722636', '7478548', ...</td>\n",
       "      <td>1597.0</td>\n",
       "      <td>[[7441188]]</td>\n",
       "      <td>USA</td>\n",
       "      <td>11</td>\n",
       "      <td>Aug</td>\n",
       "    </tr>\n",
       "    <tr>\n",
       "      <th>84978</th>\n",
       "      <td>Hope</td>\n",
       "      <td>2019</td>\n",
       "      <td>7.3</td>\n",
       "      <td>['Maria Sødahl']</td>\n",
       "      <td>['Drama', 'Romance']</td>\n",
       "      <td>[['Andrea Bræin Hovig', 'Stellan Skarsgård', '...</td>\n",
       "      <td>[['0397034', '0001745', '9602953', '10509918',...</td>\n",
       "      <td>1375.0</td>\n",
       "      <td>[[845618]]</td>\n",
       "      <td>Norway</td>\n",
       "      <td>22</td>\n",
       "      <td>Nov</td>\n",
       "    </tr>\n",
       "  </tbody>\n",
       "</table>\n",
       "<p>84979 rows × 12 columns</p>\n",
       "</div>"
      ],
      "text/plain": [
       "                             title  year  rating             director_name  \\\n",
       "0                       Miss Jerry  1894     5.9       ['Alexander Black']   \n",
       "1      The Story of the Kelly Gang  1906     6.1          ['Charles Tait']   \n",
       "2                   Den sorte drøm  1911     5.9             ['Urban Gad']   \n",
       "3                        Cleopatra  1963     7.0  ['Joseph L. Mankiewicz']   \n",
       "4                          Torment  1994     7.1        ['Claude Chabrol']   \n",
       "...                            ...   ...     ...                       ...   \n",
       "84974     A Second Chance: Rivals!  2019     4.8             ['Clay Glen']   \n",
       "84975                         Feed  2017     6.2       ['Tommy Bertelsen']   \n",
       "84976                    Capernaum  2018     8.4         ['Nadine Labaki']   \n",
       "84977                        G-Loc  2020     4.6             ['Tom Paton']   \n",
       "84978                         Hope  2019     7.3          ['Maria Sødahl']   \n",
       "\n",
       "                                                   genre  \\\n",
       "0                                   ['Short', 'Romance']   \n",
       "1      ['Action', 'Adventure', 'Biography', 'Crime', ...   \n",
       "2                                              ['Drama']   \n",
       "3           ['Biography', 'Drama', 'History', 'Romance']   \n",
       "4                         ['Crime', 'Drama', 'Thriller']   \n",
       "...                                                  ...   \n",
       "84974                       ['Drama', 'Family', 'Sport']   \n",
       "84975                                          ['Drama']   \n",
       "84976                                          ['Drama']   \n",
       "84977                                         ['Sci-Fi']   \n",
       "84978                               ['Drama', 'Romance']   \n",
       "\n",
       "                                              cast_names  \\\n",
       "0      [['Blanche Bayliss', 'William Courtenay', 'Cha...   \n",
       "1      [['Elizabeth Tait', 'John Tait', 'Nicholas Bri...   \n",
       "2      [['Asta Nielsen', 'Valdemar Psilander', 'Gunna...   \n",
       "3      [['Elizabeth Taylor', 'Richard Burton', 'Rex H...   \n",
       "4      [['Emmanuelle Béart', 'François Cluzet', 'Nath...   \n",
       "...                                                  ...   \n",
       "84974  [['Emily Morris', 'Stella Shute', 'Carmel John...   \n",
       "84975  [['Troian Bellisario', 'Tom Felton', 'Ben Winc...   \n",
       "84976  [['Zain Al Rafeea', 'Yordanos Shiferaw', 'Bolu...   \n",
       "84977  [['Stephen Moyer', 'Tala Gouveia', 'John Rhys-...   \n",
       "84978  [['Andrea Bræin Hovig', 'Stellan Skarsgård', '...   \n",
       "\n",
       "                                                cast_ids    votes  \\\n",
       "0                    [['0063086', '0183823', '1309758']]    191.0   \n",
       "1      [['0846887', '0846894', '1431224', '3002376', ...    737.0   \n",
       "2      [['0003425', '0699637', '0375839', '0016799', ...    218.0   \n",
       "3      [['0000072', '0000009', '0001322', '0114386', ...  31526.0   \n",
       "4      [['0000322', '0167388', '0136597', '0932870', ...   4936.0   \n",
       "...                                                  ...      ...   \n",
       "84974  [['4825006', '10195787', '0424718', '1138590',...    338.0   \n",
       "84975  [['0069079', '0271657', '3656718', '0001664', ...   2445.0   \n",
       "84976  [['9862858', '9862859', '9862860', '10201625',...  78256.0   \n",
       "84977  [['0610459', '4823334', '0722636', '7478548', ...   1597.0   \n",
       "84978  [['0397034', '0001745', '9602953', '10509918',...   1375.0   \n",
       "\n",
       "      director_ids    country  day month  \n",
       "0        [[85156]]        USA    0   Oct  \n",
       "1       [[846879]]  Australia   26   Dec  \n",
       "2       [[300487]]    Germany   19   Aug  \n",
       "3          [[581]]     Canada   31   Jul  \n",
       "4         [[1031]]     France   16   Feb  \n",
       "...            ...        ...  ...   ...  \n",
       "84974  [[4825581]]  Australia   24   Sep  \n",
       "84975    [[77879]]        USA   18   Jul  \n",
       "84976  [[1701024]]      Other   20   Sep  \n",
       "84977  [[7441188]]        USA   11   Aug  \n",
       "84978   [[845618]]     Norway   22   Nov  \n",
       "\n",
       "[84979 rows x 12 columns]"
      ]
     },
     "execution_count": 2,
     "metadata": {},
     "output_type": "execute_result"
    }
   ],
   "source": [
    "df = pd.read_csv('preprocess_data.csv')\n",
    "df"
   ]
  },
  {
   "cell_type": "markdown",
   "id": "dc897f3d",
   "metadata": {},
   "source": [
    "# Feature Engineering\n"
   ]
  },
  {
   "cell_type": "code",
   "execution_count": 3,
   "id": "783b1c51",
   "metadata": {},
   "outputs": [
    {
     "data": {
      "text/plain": [
       "0        127\n",
       "1        115\n",
       "2        110\n",
       "3         58\n",
       "4         27\n",
       "        ... \n",
       "84974      2\n",
       "84975      4\n",
       "84976      3\n",
       "84977      1\n",
       "84978      2\n",
       "Name: age, Length: 84979, dtype: int64"
      ]
     },
     "execution_count": 3,
     "metadata": {},
     "output_type": "execute_result"
    }
   ],
   "source": [
    "# age là tuổi của phim được cho đến năm hiện tại (2021)\n",
    "df['age'] = 2021 - df['year']\n",
    "df['age']"
   ]
  },
  {
   "cell_type": "code",
   "execution_count": 4,
   "id": "55b7f6e3",
   "metadata": {},
   "outputs": [],
   "source": [
    "# tách 1 chuỗi string thành mảng các string chứa thông tin\n",
    "df['cast_names'] = df['cast_names'].apply(split_text)\n",
    "df['cast_ids'] = df['cast_ids'].apply(split_text)\n",
    "df['director_name'] = df['director_name'].apply(split_text)\n",
    "df['director_ids'] = df['director_ids'].apply(split_text)\n"
   ]
  },
  {
   "cell_type": "code",
   "execution_count": 5,
   "id": "13fa5679",
   "metadata": {},
   "outputs": [
    {
     "data": {
      "text/plain": [
       "0          3\n",
       "1         17\n",
       "2         11\n",
       "3         85\n",
       "4         27\n",
       "        ... \n",
       "84974     22\n",
       "84975     21\n",
       "84976    115\n",
       "84977     10\n",
       "84978     28\n",
       "Name: number_cast, Length: 84979, dtype: int64"
      ]
     },
     "execution_count": 5,
     "metadata": {},
     "output_type": "execute_result"
    }
   ],
   "source": [
    "#number cast là số lượng thành viên đoàn cast\n",
    "df['number_cast'] = df['cast_names'].apply(lambda s: len(s))\n",
    "df['number_cast']"
   ]
  },
  {
   "cell_type": "code",
   "execution_count": 6,
   "id": "811c8dc6",
   "metadata": {},
   "outputs": [
    {
     "data": {
      "text/plain": [
       "0        37\n",
       "1         1\n",
       "2        10\n",
       "3         5\n",
       "4         9\n",
       "         ..\n",
       "84974     1\n",
       "84975    37\n",
       "84976    24\n",
       "84977    37\n",
       "84978    23\n",
       "Name: country, Length: 84979, dtype: int64"
      ]
     },
     "execution_count": 6,
     "metadata": {},
     "output_type": "execute_result"
    }
   ],
   "source": [
    "le = preprocessing.LabelEncoder()\n",
    "df['country'] = le.fit_transform(df['country'])\n",
    "df['country'] "
   ]
  },
  {
   "cell_type": "code",
   "execution_count": 7,
   "id": "a09bf5f0",
   "metadata": {},
   "outputs": [
    {
     "data": {
      "text/plain": [
       "0        10\n",
       "1         2\n",
       "2         1\n",
       "3         5\n",
       "4         3\n",
       "         ..\n",
       "84974    11\n",
       "84975     5\n",
       "84976    11\n",
       "84977     1\n",
       "84978     9\n",
       "Name: month, Length: 84979, dtype: int64"
      ]
     },
     "execution_count": 7,
     "metadata": {},
     "output_type": "execute_result"
    }
   ],
   "source": [
    "df['month'] = le.fit_transform(df['month'])\n",
    "df['month']"
   ]
  },
  {
   "cell_type": "code",
   "execution_count": 8,
   "id": "03a40809",
   "metadata": {},
   "outputs": [],
   "source": [
    "df['day'] = df['day'].astype(int)"
   ]
  },
  {
   "cell_type": "code",
   "execution_count": 9,
   "id": "858ad9fc",
   "metadata": {},
   "outputs": [],
   "source": [
    "le = preprocessing.LabelEncoder()\n",
    "df['country'] = le.fit_transform(df['country'])\n",
    "df['month'] = le.fit_transform(df['month'])\n",
    "df['votes'] = df['votes'].fillna('0').astype(int)"
   ]
  },
  {
   "cell_type": "code",
   "execution_count": 10,
   "id": "f6c37efd",
   "metadata": {},
   "outputs": [],
   "source": [
    "X = df.drop(['rating'], axis = 1)\n",
    "y = df['rating']"
   ]
  },
  {
   "cell_type": "code",
   "execution_count": 11,
   "id": "c2b2cce8",
   "metadata": {},
   "outputs": [],
   "source": [
    "X_train, X_test, y_train, y_test = train_test_split(X,y, test_size = 0.1, random_state = 1)"
   ]
  },
  {
   "cell_type": "code",
   "execution_count": 12,
   "id": "0774d08b",
   "metadata": {},
   "outputs": [],
   "source": [
    "X_train = X_train.reset_index(drop = True)\n",
    "X_test = X_test.reset_index(drop = True)\n",
    "y_train = y_train.reset_index(drop = True)\n",
    "y_test = y_test.reset_index(drop = True)"
   ]
  },
  {
   "cell_type": "code",
   "execution_count": 13,
   "id": "f04e4a6f",
   "metadata": {},
   "outputs": [],
   "source": [
    "# xây dựng dict chứa thông tin về điểm trung bình của đạo diễn và các diễn viên\n",
    "cast_score_board = getScoreBroad(X_train['cast_ids'], y_train)\n",
    "director_score_board = getScoreBroad(X_train['director_ids'], y_train)"
   ]
  },
  {
   "cell_type": "markdown",
   "id": "5626dff5",
   "metadata": {},
   "source": [
    "Xây dựng dict bằng tập train và sau đó mapping sang tập test"
   ]
  },
  {
   "cell_type": "code",
   "execution_count": 14,
   "id": "f27d10e1",
   "metadata": {},
   "outputs": [],
   "source": [
    "for i in X_train.index:\n",
    "    s = df['cast_ids'][i]\n",
    "    me, ma, mi = getScore(s, cast_score_board)\n",
    "    X_train.loc[i,'cast_mean_score'] = me\n",
    "    X_train.loc[i,'cast_max_score'] = ma\n",
    "    X_train.loc[i,'cast_min_score'] = mi\n",
    "    \n",
    "    s = df['director_ids'][i]\n",
    "    me, ma, mi = getScore(s, director_score_board)\n",
    "    X_train.loc[i,'director_mean_score'] = me\n",
    "    X_train.loc[i,'director_max_score'] = ma\n",
    "    X_train.loc[i,'director_min_score'] = mi\n",
    "\n",
    "    \n",
    "for i in X_test.index:\n",
    "    s = df['cast_ids'][i]\n",
    "    me, ma, mi = getScore(s, cast_score_board)\n",
    "    X_test.loc[i,'cast_mean_score'] = me\n",
    "    X_test.loc[i,'cast_max_score'] = ma\n",
    "    X_test.loc[i,'cast_min_score'] = mi\n",
    "    \n",
    "    s = df['director_ids'][i]\n",
    "    me, ma, mi = getScore(s, director_score_board)\n",
    "    X_test.loc[i,'director_mean_score'] = me\n",
    "    X_test.loc[i,'director_max_score'] = ma\n",
    "    X_test.loc[i,'director_min_score'] = mi"
   ]
  },
  {
   "cell_type": "markdown",
   "id": "6cbe5004",
   "metadata": {},
   "source": [
    "# Visualize \n"
   ]
  },
  {
   "cell_type": "code",
   "execution_count": 15,
   "id": "377a4fe0",
   "metadata": {},
   "outputs": [
    {
     "data": {
      "image/png": "[encoded data removed]",
      "text/plain": [
       "<Figure size 432x288 with 1 Axes>"
      ]
     },
     "metadata": {
      "needs_background": "light"
     },
     "output_type": "display_data"
    }
   ],
   "source": [
    "df.rating.plot.hist(bins = 20);"
   ]
  },
  {
   "cell_type": "markdown",
   "id": "3c2cc5aa",
   "metadata": {},
   "source": [
    "phân bố của rating tập trung chủ yếu ở 6 đến 7 điểm "
   ]
  },
  {
   "cell_type": "code",
   "execution_count": 16,
   "id": "60948a94",
   "metadata": {},
   "outputs": [
    {
     "data": {
      "image/png": "[encoded data removed]",
      "text/plain": [
       "<Figure size 432x288 with 1 Axes>"
      ]
     },
     "metadata": {
      "needs_background": "light"
     },
     "output_type": "display_data"
    }
   ],
   "source": [
    "df.age.plot.hist();"
   ]
  },
  {
   "cell_type": "markdown",
   "id": "a78a8e60",
   "metadata": {},
   "source": [
    "Số lượng phim tập trung vào 20 năm đổ lại"
   ]
  },
  {
   "cell_type": "code",
   "execution_count": 17,
   "id": "82a164c3",
   "metadata": {},
   "outputs": [
    {
     "data": {
      "image/png": "[encoded data removed]",
      "text/plain": [
       "<Figure size 432x288 with 1 Axes>"
      ]
     },
     "metadata": {
      "needs_background": "light"
     },
     "output_type": "display_data"
    }
   ],
   "source": [
    "df.day.plot.hist(bins = 15);"
   ]
  },
  {
   "cell_type": "markdown",
   "id": "6c558446",
   "metadata": {},
   "source": [
    "Phim chủ yếu được release vào cuối tháng, tập trung chủ yếu vào ngày 19 đến 20"
   ]
  },
  {
   "cell_type": "code",
   "execution_count": 18,
   "id": "c1ad08cd",
   "metadata": {},
   "outputs": [
    {
     "data": {
      "image/png": "[encoded data removed]",
      "text/plain": [
       "<Figure size 432x288 with 1 Axes>"
      ]
     },
     "metadata": {
      "needs_background": "light"
     },
     "output_type": "display_data"
    }
   ],
   "source": [
    "df.month.value_counts().sort_values().plot.bar(); "
   ]
  },
  {
   "cell_type": "markdown",
   "id": "d0a5463b",
   "metadata": {},
   "source": [
    "Phim được phát hành tập trung vào các tháng đầu và cuối năm"
   ]
  },
  {
   "cell_type": "code",
   "execution_count": 19,
   "id": "451194d8",
   "metadata": {},
   "outputs": [
    {
     "data": {
      "image/png": "[encoded data removed]",
      "text/plain": [
       "<Figure size 432x288 with 1 Axes>"
      ]
     },
     "metadata": {
      "needs_background": "light"
     },
     "output_type": "display_data"
    }
   ],
   "source": [
    "df.plot.scatter(x='age', y='rating');"
   ]
  },
  {
   "cell_type": "markdown",
   "id": "bf08171b",
   "metadata": {},
   "source": [
    "Có thể dễ dàng thấy được số lượng phim có tuổi đời lớn hơn 70 có rating cao hơn và số lượng ít hơn."
   ]
  },
  {
   "cell_type": "code",
   "execution_count": 20,
   "id": "22c8f1bc",
   "metadata": {},
   "outputs": [
    {
     "data": {
      "image/png": "[encoded data removed]",
      "text/plain": [
       "<Figure size 432x288 with 1 Axes>"
      ]
     },
     "metadata": {
      "needs_background": "light"
     },
     "output_type": "display_data"
    }
   ],
   "source": [
    "case = df[df['age']>70]\n",
    "case.plot.scatter(x='age', y='rating', c='DarkBlue');"
   ]
  },
  {
   "cell_type": "code",
   "execution_count": 21,
   "id": "e5da97c2",
   "metadata": {},
   "outputs": [
    {
     "name": "stdout",
     "output_type": "stream",
     "text": [
      "Rating trung bình của các bộ phim có tuổi đời lớn hơn 70: 6.496\n",
      "Rating trung bình của tất cả phim: 5.999\n"
     ]
    }
   ],
   "source": [
    "print('Rating trung bình của các bộ phim có tuổi đời lớn hơn 70:',round(case.rating.mean(),3))\n",
    "print('Rating trung bình của tất cả phim:',round(df.rating.mean(),3))"
   ]
  },
  {
   "cell_type": "code",
   "execution_count": 22,
   "id": "cb62f1fc",
   "metadata": {},
   "outputs": [
    {
     "data": {
      "image/png": "[encoded data removed]",
      "text/plain": [
       "<Figure size 432x288 with 1 Axes>"
      ]
     },
     "metadata": {
      "needs_background": "light"
     },
     "output_type": "display_data"
    }
   ],
   "source": [
    "df.plot.scatter(x= 'number_cast', y='rating');"
   ]
  },
  {
   "cell_type": "markdown",
   "id": "5d21d370",
   "metadata": {},
   "source": [
    "Với number cast lớn thì phim có xu hướng điểm cao hơn"
   ]
  },
  {
   "cell_type": "code",
   "execution_count": 23,
   "id": "5c8f4735",
   "metadata": {},
   "outputs": [
    {
     "data": {
      "image/png": "[encoded data removed]",
      "text/plain": [
       "<Figure size 432x288 with 1 Axes>"
      ]
     },
     "metadata": {
      "needs_background": "light"
     },
     "output_type": "display_data"
    }
   ],
   "source": [
    "df.plot.scatter(x= 'votes', y='rating');"
   ]
  },
  {
   "cell_type": "markdown",
   "id": "5b8c6d5e",
   "metadata": {},
   "source": [
    "Số vote càng cao thì tỉ lệ rate càng cao"
   ]
  },
  {
   "cell_type": "code",
   "execution_count": 24,
   "id": "63105bdc",
   "metadata": {},
   "outputs": [
    {
     "data": {
      "image/png": "[encoded data removed]",
      "text/plain": [
       "<Figure size 432x288 with 1 Axes>"
      ]
     },
     "metadata": {
      "needs_background": "light"
     },
     "output_type": "display_data"
    }
   ],
   "source": [
    "df.groupby('country').rating.mean().plot.bar();"
   ]
  },
  {
   "cell_type": "markdown",
   "id": "aada48fc",
   "metadata": {},
   "source": [
    "Rating trung bình phim của các nước không cách biệt nhau quá nhiều"
   ]
  },
  {
   "cell_type": "markdown",
   "id": "121ebac4",
   "metadata": {},
   "source": [
    "# Train Model\n"
   ]
  },
  {
   "cell_type": "code",
   "execution_count": 25,
   "id": "3ade2814",
   "metadata": {},
   "outputs": [],
   "source": [
    "select_feature = ['votes', 'country', 'number_cast', 'age', 'cast_mean_score',\n",
    "                  'director_mean_score', 'month',]"
   ]
  },
  {
   "cell_type": "code",
   "execution_count": 26,
   "id": "519d5928",
   "metadata": {},
   "outputs": [],
   "source": [
    "X_train = X_train[select_feature]\n",
    "X_test = X_test[select_feature]\n",
    "\n",
    "evalset = [(X_train, y_train), (X_test,y_test)]"
   ]
  },
  {
   "cell_type": "code",
   "execution_count": 27,
   "id": "7df1401b",
   "metadata": {},
   "outputs": [
    {
     "name": "stdout",
     "output_type": "stream",
     "text": [
      "[0]\tvalidation_0-rmse:4.02166\tvalidation_1-rmse:4.02160\n",
      "[1]\tvalidation_0-rmse:2.92373\tvalidation_1-rmse:2.92548\n",
      "[2]\tvalidation_0-rmse:2.19166\tvalidation_1-rmse:2.19479\n",
      "[3]\tvalidation_0-rmse:1.71955\tvalidation_1-rmse:1.72555\n",
      "[4]\tvalidation_0-rmse:1.43081\tvalidation_1-rmse:1.43992\n",
      "[5]\tvalidation_0-rmse:1.26353\tvalidation_1-rmse:1.27507\n",
      "[6]\tvalidation_0-rmse:1.17155\tvalidation_1-rmse:1.18447\n",
      "[7]\tvalidation_0-rmse:1.12203\tvalidation_1-rmse:1.13553\n",
      "[8]\tvalidation_0-rmse:1.09633\tvalidation_1-rmse:1.11053\n",
      "[9]\tvalidation_0-rmse:1.07994\tvalidation_1-rmse:1.09497\n",
      "[10]\tvalidation_0-rmse:1.07200\tvalidation_1-rmse:1.08711\n",
      "[11]\tvalidation_0-rmse:1.06732\tvalidation_1-rmse:1.08306\n",
      "[12]\tvalidation_0-rmse:1.06286\tvalidation_1-rmse:1.07917\n",
      "[13]\tvalidation_0-rmse:1.06055\tvalidation_1-rmse:1.07714\n",
      "[14]\tvalidation_0-rmse:1.05896\tvalidation_1-rmse:1.07587\n",
      "[15]\tvalidation_0-rmse:1.05598\tvalidation_1-rmse:1.07278\n",
      "[16]\tvalidation_0-rmse:1.05451\tvalidation_1-rmse:1.07162\n",
      "[17]\tvalidation_0-rmse:1.05361\tvalidation_1-rmse:1.07133\n",
      "[18]\tvalidation_0-rmse:1.05298\tvalidation_1-rmse:1.07042\n",
      "[19]\tvalidation_0-rmse:1.05231\tvalidation_1-rmse:1.06987\n",
      "[20]\tvalidation_0-rmse:1.04930\tvalidation_1-rmse:1.06678\n",
      "[21]\tvalidation_0-rmse:1.04849\tvalidation_1-rmse:1.06597\n",
      "[22]\tvalidation_0-rmse:1.04763\tvalidation_1-rmse:1.06533\n",
      "[23]\tvalidation_0-rmse:1.04623\tvalidation_1-rmse:1.06384\n",
      "[24]\tvalidation_0-rmse:1.04553\tvalidation_1-rmse:1.06322\n",
      "[25]\tvalidation_0-rmse:1.04438\tvalidation_1-rmse:1.06199\n",
      "[26]\tvalidation_0-rmse:1.04412\tvalidation_1-rmse:1.06170\n",
      "[27]\tvalidation_0-rmse:1.04275\tvalidation_1-rmse:1.06077\n",
      "[28]\tvalidation_0-rmse:1.04233\tvalidation_1-rmse:1.06069\n",
      "[29]\tvalidation_0-rmse:1.04089\tvalidation_1-rmse:1.05923\n",
      "[30]\tvalidation_0-rmse:1.03985\tvalidation_1-rmse:1.05872\n",
      "[31]\tvalidation_0-rmse:1.03914\tvalidation_1-rmse:1.05805\n",
      "[32]\tvalidation_0-rmse:1.03856\tvalidation_1-rmse:1.05769\n",
      "[33]\tvalidation_0-rmse:1.03837\tvalidation_1-rmse:1.05749\n",
      "[34]\tvalidation_0-rmse:1.03807\tvalidation_1-rmse:1.05719\n",
      "[35]\tvalidation_0-rmse:1.03733\tvalidation_1-rmse:1.05636\n",
      "[36]\tvalidation_0-rmse:1.03636\tvalidation_1-rmse:1.05530\n",
      "[37]\tvalidation_0-rmse:1.03576\tvalidation_1-rmse:1.05486\n",
      "[38]\tvalidation_0-rmse:1.03551\tvalidation_1-rmse:1.05473\n",
      "[39]\tvalidation_0-rmse:1.03479\tvalidation_1-rmse:1.05398\n",
      "[40]\tvalidation_0-rmse:1.03407\tvalidation_1-rmse:1.05319\n",
      "[41]\tvalidation_0-rmse:1.03387\tvalidation_1-rmse:1.05299\n",
      "[42]\tvalidation_0-rmse:1.03362\tvalidation_1-rmse:1.05270\n",
      "[43]\tvalidation_0-rmse:1.03353\tvalidation_1-rmse:1.05263\n",
      "[44]\tvalidation_0-rmse:1.03308\tvalidation_1-rmse:1.05214\n",
      "[45]\tvalidation_0-rmse:1.03265\tvalidation_1-rmse:1.05211\n",
      "[46]\tvalidation_0-rmse:1.03189\tvalidation_1-rmse:1.05163\n",
      "[47]\tvalidation_0-rmse:1.03127\tvalidation_1-rmse:1.05119\n",
      "[48]\tvalidation_0-rmse:1.03099\tvalidation_1-rmse:1.05104\n",
      "[49]\tvalidation_0-rmse:1.03080\tvalidation_1-rmse:1.05087\n",
      "[50]\tvalidation_0-rmse:1.03053\tvalidation_1-rmse:1.05066\n",
      "[51]\tvalidation_0-rmse:1.03011\tvalidation_1-rmse:1.05036\n",
      "[52]\tvalidation_0-rmse:1.02995\tvalidation_1-rmse:1.05035\n",
      "[53]\tvalidation_0-rmse:1.02980\tvalidation_1-rmse:1.05016\n",
      "[54]\tvalidation_0-rmse:1.02949\tvalidation_1-rmse:1.04984\n",
      "[55]\tvalidation_0-rmse:1.02928\tvalidation_1-rmse:1.04982\n",
      "[56]\tvalidation_0-rmse:1.02909\tvalidation_1-rmse:1.04977\n",
      "[57]\tvalidation_0-rmse:1.02897\tvalidation_1-rmse:1.04987\n",
      "[58]\tvalidation_0-rmse:1.02811\tvalidation_1-rmse:1.04911\n",
      "[59]\tvalidation_0-rmse:1.02711\tvalidation_1-rmse:1.04812\n",
      "[60]\tvalidation_0-rmse:1.02700\tvalidation_1-rmse:1.04813\n",
      "[61]\tvalidation_0-rmse:1.02687\tvalidation_1-rmse:1.04815\n",
      "[62]\tvalidation_0-rmse:1.02664\tvalidation_1-rmse:1.04793\n",
      "[63]\tvalidation_0-rmse:1.02645\tvalidation_1-rmse:1.04792\n",
      "[64]\tvalidation_0-rmse:1.02635\tvalidation_1-rmse:1.04788\n",
      "[65]\tvalidation_0-rmse:1.02606\tvalidation_1-rmse:1.04769\n",
      "[66]\tvalidation_0-rmse:1.02568\tvalidation_1-rmse:1.04731\n",
      "[67]\tvalidation_0-rmse:1.02540\tvalidation_1-rmse:1.04719\n",
      "[68]\tvalidation_0-rmse:1.02519\tvalidation_1-rmse:1.04718\n",
      "[69]\tvalidation_0-rmse:1.02506\tvalidation_1-rmse:1.04713\n",
      "[70]\tvalidation_0-rmse:1.02444\tvalidation_1-rmse:1.04665\n",
      "[71]\tvalidation_0-rmse:1.02395\tvalidation_1-rmse:1.04619\n",
      "[72]\tvalidation_0-rmse:1.02374\tvalidation_1-rmse:1.04613\n",
      "[73]\tvalidation_0-rmse:1.02348\tvalidation_1-rmse:1.04605\n",
      "[74]\tvalidation_0-rmse:1.02329\tvalidation_1-rmse:1.04611\n",
      "[75]\tvalidation_0-rmse:1.02300\tvalidation_1-rmse:1.04579\n",
      "[76]\tvalidation_0-rmse:1.02268\tvalidation_1-rmse:1.04544\n",
      "[77]\tvalidation_0-rmse:1.02257\tvalidation_1-rmse:1.04537\n",
      "[78]\tvalidation_0-rmse:1.02248\tvalidation_1-rmse:1.04537\n",
      "[79]\tvalidation_0-rmse:1.02236\tvalidation_1-rmse:1.04539\n",
      "[80]\tvalidation_0-rmse:1.02228\tvalidation_1-rmse:1.04539\n",
      "[81]\tvalidation_0-rmse:1.02212\tvalidation_1-rmse:1.04530\n",
      "[82]\tvalidation_0-rmse:1.02201\tvalidation_1-rmse:1.04525\n",
      "[83]\tvalidation_0-rmse:1.02197\tvalidation_1-rmse:1.04525\n",
      "[84]\tvalidation_0-rmse:1.02154\tvalidation_1-rmse:1.04511\n",
      "[85]\tvalidation_0-rmse:1.02138\tvalidation_1-rmse:1.04506\n",
      "[86]\tvalidation_0-rmse:1.02117\tvalidation_1-rmse:1.04504\n",
      "[87]\tvalidation_0-rmse:1.02093\tvalidation_1-rmse:1.04490\n",
      "[88]\tvalidation_0-rmse:1.02078\tvalidation_1-rmse:1.04473\n",
      "[89]\tvalidation_0-rmse:1.02052\tvalidation_1-rmse:1.04470\n",
      "[90]\tvalidation_0-rmse:1.02039\tvalidation_1-rmse:1.04470\n",
      "[91]\tvalidation_0-rmse:1.02004\tvalidation_1-rmse:1.04437\n",
      "[92]\tvalidation_0-rmse:1.01994\tvalidation_1-rmse:1.04424\n",
      "[93]\tvalidation_0-rmse:1.01950\tvalidation_1-rmse:1.04384\n",
      "[94]\tvalidation_0-rmse:1.01939\tvalidation_1-rmse:1.04380\n",
      "[95]\tvalidation_0-rmse:1.01923\tvalidation_1-rmse:1.04393\n",
      "[96]\tvalidation_0-rmse:1.01913\tvalidation_1-rmse:1.04399\n",
      "[97]\tvalidation_0-rmse:1.01903\tvalidation_1-rmse:1.04399\n",
      "[98]\tvalidation_0-rmse:1.01888\tvalidation_1-rmse:1.04389\n",
      "[99]\tvalidation_0-rmse:1.01874\tvalidation_1-rmse:1.04378\n",
      "[100]\tvalidation_0-rmse:1.01865\tvalidation_1-rmse:1.04371\n",
      "[101]\tvalidation_0-rmse:1.01862\tvalidation_1-rmse:1.04369\n",
      "[102]\tvalidation_0-rmse:1.01851\tvalidation_1-rmse:1.04370\n",
      "[103]\tvalidation_0-rmse:1.01847\tvalidation_1-rmse:1.04369\n",
      "[104]\tvalidation_0-rmse:1.01832\tvalidation_1-rmse:1.04367\n",
      "[105]\tvalidation_0-rmse:1.01820\tvalidation_1-rmse:1.04362\n",
      "[106]\tvalidation_0-rmse:1.01807\tvalidation_1-rmse:1.04360\n",
      "[107]\tvalidation_0-rmse:1.01794\tvalidation_1-rmse:1.04353\n",
      "[108]\tvalidation_0-rmse:1.01782\tvalidation_1-rmse:1.04354\n",
      "[109]\tvalidation_0-rmse:1.01744\tvalidation_1-rmse:1.04321\n",
      "[110]\tvalidation_0-rmse:1.01735\tvalidation_1-rmse:1.04313\n",
      "[111]\tvalidation_0-rmse:1.01700\tvalidation_1-rmse:1.04299\n",
      "[112]\tvalidation_0-rmse:1.01686\tvalidation_1-rmse:1.04291\n",
      "[113]\tvalidation_0-rmse:1.01684\tvalidation_1-rmse:1.04288\n",
      "[114]\tvalidation_0-rmse:1.01677\tvalidation_1-rmse:1.04289\n",
      "[115]\tvalidation_0-rmse:1.01661\tvalidation_1-rmse:1.04290\n",
      "[116]\tvalidation_0-rmse:1.01643\tvalidation_1-rmse:1.04281\n",
      "[117]\tvalidation_0-rmse:1.01634\tvalidation_1-rmse:1.04284\n",
      "[118]\tvalidation_0-rmse:1.01624\tvalidation_1-rmse:1.04286\n",
      "[119]\tvalidation_0-rmse:1.01600\tvalidation_1-rmse:1.04265\n",
      "[120]\tvalidation_0-rmse:1.01585\tvalidation_1-rmse:1.04269\n",
      "[121]\tvalidation_0-rmse:1.01581\tvalidation_1-rmse:1.04269\n",
      "[122]\tvalidation_0-rmse:1.01568\tvalidation_1-rmse:1.04272\n",
      "[123]\tvalidation_0-rmse:1.01552\tvalidation_1-rmse:1.04276\n",
      "[124]\tvalidation_0-rmse:1.01540\tvalidation_1-rmse:1.04270\n",
      "[125]\tvalidation_0-rmse:1.01526\tvalidation_1-rmse:1.04270\n",
      "[126]\tvalidation_0-rmse:1.01513\tvalidation_1-rmse:1.04272\n",
      "[127]\tvalidation_0-rmse:1.01509\tvalidation_1-rmse:1.04280\n",
      "[128]\tvalidation_0-rmse:1.01491\tvalidation_1-rmse:1.04276\n",
      "[129]\tvalidation_0-rmse:1.01487\tvalidation_1-rmse:1.04271\n",
      "[130]\tvalidation_0-rmse:1.01472\tvalidation_1-rmse:1.04262\n",
      "[131]\tvalidation_0-rmse:1.01460\tvalidation_1-rmse:1.04250\n",
      "[132]\tvalidation_0-rmse:1.01438\tvalidation_1-rmse:1.04248\n",
      "[133]\tvalidation_0-rmse:1.01416\tvalidation_1-rmse:1.04245\n",
      "[134]\tvalidation_0-rmse:1.01409\tvalidation_1-rmse:1.04239\n",
      "[135]\tvalidation_0-rmse:1.01397\tvalidation_1-rmse:1.04242\n",
      "[136]\tvalidation_0-rmse:1.01358\tvalidation_1-rmse:1.04255\n",
      "[137]\tvalidation_0-rmse:1.01337\tvalidation_1-rmse:1.04260\n",
      "[138]\tvalidation_0-rmse:1.01301\tvalidation_1-rmse:1.04222\n",
      "[139]\tvalidation_0-rmse:1.01291\tvalidation_1-rmse:1.04222\n",
      "[140]\tvalidation_0-rmse:1.01225\tvalidation_1-rmse:1.04184\n",
      "[141]\tvalidation_0-rmse:1.01210\tvalidation_1-rmse:1.04177\n",
      "[142]\tvalidation_0-rmse:1.01197\tvalidation_1-rmse:1.04163\n",
      "[143]\tvalidation_0-rmse:1.01188\tvalidation_1-rmse:1.04165\n"
     ]
    },
    {
     "name": "stdout",
     "output_type": "stream",
     "text": [
      "[144]\tvalidation_0-rmse:1.01172\tvalidation_1-rmse:1.04196\n",
      "[145]\tvalidation_0-rmse:1.01167\tvalidation_1-rmse:1.04193\n",
      "[146]\tvalidation_0-rmse:1.01162\tvalidation_1-rmse:1.04192\n",
      "[147]\tvalidation_0-rmse:1.01153\tvalidation_1-rmse:1.04188\n",
      "[148]\tvalidation_0-rmse:1.01143\tvalidation_1-rmse:1.04174\n",
      "[149]\tvalidation_0-rmse:1.01132\tvalidation_1-rmse:1.04167\n",
      "[150]\tvalidation_0-rmse:1.01125\tvalidation_1-rmse:1.04171\n",
      "[151]\tvalidation_0-rmse:1.01112\tvalidation_1-rmse:1.04171\n",
      "[152]\tvalidation_0-rmse:1.01103\tvalidation_1-rmse:1.04185\n",
      "[153]\tvalidation_0-rmse:1.01092\tvalidation_1-rmse:1.04182\n",
      "[154]\tvalidation_0-rmse:1.01080\tvalidation_1-rmse:1.04184\n",
      "[155]\tvalidation_0-rmse:1.01067\tvalidation_1-rmse:1.04184\n",
      "[156]\tvalidation_0-rmse:1.01054\tvalidation_1-rmse:1.04182\n",
      "[157]\tvalidation_0-rmse:1.01043\tvalidation_1-rmse:1.04182\n",
      "[158]\tvalidation_0-rmse:1.01034\tvalidation_1-rmse:1.04184\n",
      "[159]\tvalidation_0-rmse:1.01024\tvalidation_1-rmse:1.04185\n",
      "[160]\tvalidation_0-rmse:1.01014\tvalidation_1-rmse:1.04185\n",
      "[161]\tvalidation_0-rmse:1.01008\tvalidation_1-rmse:1.04187\n",
      "[162]\tvalidation_0-rmse:1.00996\tvalidation_1-rmse:1.04184\n",
      "[163]\tvalidation_0-rmse:1.00986\tvalidation_1-rmse:1.04179\n",
      "[164]\tvalidation_0-rmse:1.00973\tvalidation_1-rmse:1.04182\n",
      "[165]\tvalidation_0-rmse:1.00951\tvalidation_1-rmse:1.04184\n",
      "[166]\tvalidation_0-rmse:1.00915\tvalidation_1-rmse:1.04172\n",
      "[167]\tvalidation_0-rmse:1.00910\tvalidation_1-rmse:1.04171\n",
      "[168]\tvalidation_0-rmse:1.00883\tvalidation_1-rmse:1.04158\n",
      "[169]\tvalidation_0-rmse:1.00863\tvalidation_1-rmse:1.04155\n",
      "[170]\tvalidation_0-rmse:1.00859\tvalidation_1-rmse:1.04154\n",
      "[171]\tvalidation_0-rmse:1.00839\tvalidation_1-rmse:1.04143\n",
      "[172]\tvalidation_0-rmse:1.00779\tvalidation_1-rmse:1.04066\n",
      "[173]\tvalidation_0-rmse:1.00759\tvalidation_1-rmse:1.04053\n",
      "[174]\tvalidation_0-rmse:1.00742\tvalidation_1-rmse:1.04045\n",
      "[175]\tvalidation_0-rmse:1.00732\tvalidation_1-rmse:1.04039\n",
      "[176]\tvalidation_0-rmse:1.00709\tvalidation_1-rmse:1.04004\n",
      "[177]\tvalidation_0-rmse:1.00693\tvalidation_1-rmse:1.03990\n",
      "[178]\tvalidation_0-rmse:1.00684\tvalidation_1-rmse:1.03982\n",
      "[179]\tvalidation_0-rmse:1.00669\tvalidation_1-rmse:1.03975\n",
      "[180]\tvalidation_0-rmse:1.00656\tvalidation_1-rmse:1.03966\n",
      "[181]\tvalidation_0-rmse:1.00636\tvalidation_1-rmse:1.03965\n",
      "[182]\tvalidation_0-rmse:1.00624\tvalidation_1-rmse:1.03972\n",
      "[183]\tvalidation_0-rmse:1.00616\tvalidation_1-rmse:1.03972\n",
      "[184]\tvalidation_0-rmse:1.00608\tvalidation_1-rmse:1.03973\n",
      "[185]\tvalidation_0-rmse:1.00606\tvalidation_1-rmse:1.03971\n",
      "[186]\tvalidation_0-rmse:1.00604\tvalidation_1-rmse:1.03973\n",
      "[187]\tvalidation_0-rmse:1.00591\tvalidation_1-rmse:1.03983\n",
      "[188]\tvalidation_0-rmse:1.00582\tvalidation_1-rmse:1.03978\n",
      "[189]\tvalidation_0-rmse:1.00575\tvalidation_1-rmse:1.03978\n",
      "[190]\tvalidation_0-rmse:1.00551\tvalidation_1-rmse:1.03978\n",
      "[191]\tvalidation_0-rmse:1.00544\tvalidation_1-rmse:1.03971\n",
      "[192]\tvalidation_0-rmse:1.00533\tvalidation_1-rmse:1.03964\n",
      "[193]\tvalidation_0-rmse:1.00526\tvalidation_1-rmse:1.03964\n",
      "[194]\tvalidation_0-rmse:1.00521\tvalidation_1-rmse:1.03965\n",
      "[195]\tvalidation_0-rmse:1.00510\tvalidation_1-rmse:1.03969\n",
      "[196]\tvalidation_0-rmse:1.00500\tvalidation_1-rmse:1.03975\n",
      "[197]\tvalidation_0-rmse:1.00489\tvalidation_1-rmse:1.03983\n",
      "[198]\tvalidation_0-rmse:1.00487\tvalidation_1-rmse:1.03982\n",
      "[199]\tvalidation_0-rmse:1.00471\tvalidation_1-rmse:1.03972\n",
      "[200]\tvalidation_0-rmse:1.00459\tvalidation_1-rmse:1.03961\n",
      "[201]\tvalidation_0-rmse:1.00447\tvalidation_1-rmse:1.03962\n",
      "[202]\tvalidation_0-rmse:1.00428\tvalidation_1-rmse:1.03971\n",
      "[203]\tvalidation_0-rmse:1.00424\tvalidation_1-rmse:1.03970\n",
      "[204]\tvalidation_0-rmse:1.00414\tvalidation_1-rmse:1.03971\n",
      "[205]\tvalidation_0-rmse:1.00406\tvalidation_1-rmse:1.03963\n",
      "[206]\tvalidation_0-rmse:1.00397\tvalidation_1-rmse:1.03979\n",
      "[207]\tvalidation_0-rmse:1.00388\tvalidation_1-rmse:1.03986\n",
      "[208]\tvalidation_0-rmse:1.00377\tvalidation_1-rmse:1.03986\n",
      "[209]\tvalidation_0-rmse:1.00365\tvalidation_1-rmse:1.03984\n",
      "[210]\tvalidation_0-rmse:1.00357\tvalidation_1-rmse:1.03984\n",
      "[211]\tvalidation_0-rmse:1.00351\tvalidation_1-rmse:1.03975\n",
      "[212]\tvalidation_0-rmse:1.00340\tvalidation_1-rmse:1.03974\n",
      "[213]\tvalidation_0-rmse:1.00324\tvalidation_1-rmse:1.03977\n",
      "[214]\tvalidation_0-rmse:1.00312\tvalidation_1-rmse:1.03981\n",
      "[215]\tvalidation_0-rmse:1.00299\tvalidation_1-rmse:1.03978\n",
      "[216]\tvalidation_0-rmse:1.00296\tvalidation_1-rmse:1.03980\n",
      "[217]\tvalidation_0-rmse:1.00275\tvalidation_1-rmse:1.03956\n",
      "[218]\tvalidation_0-rmse:1.00257\tvalidation_1-rmse:1.03956\n",
      "[219]\tvalidation_0-rmse:1.00244\tvalidation_1-rmse:1.03955\n",
      "[220]\tvalidation_0-rmse:1.00233\tvalidation_1-rmse:1.03949\n",
      "[221]\tvalidation_0-rmse:1.00215\tvalidation_1-rmse:1.03950\n",
      "[222]\tvalidation_0-rmse:1.00208\tvalidation_1-rmse:1.03950\n",
      "[223]\tvalidation_0-rmse:1.00201\tvalidation_1-rmse:1.03943\n",
      "[224]\tvalidation_0-rmse:1.00187\tvalidation_1-rmse:1.03946\n",
      "[225]\tvalidation_0-rmse:1.00180\tvalidation_1-rmse:1.03947\n",
      "[226]\tvalidation_0-rmse:1.00165\tvalidation_1-rmse:1.03952\n",
      "[227]\tvalidation_0-rmse:1.00154\tvalidation_1-rmse:1.03971\n",
      "[228]\tvalidation_0-rmse:1.00150\tvalidation_1-rmse:1.03972\n",
      "[229]\tvalidation_0-rmse:1.00142\tvalidation_1-rmse:1.03974\n",
      "[230]\tvalidation_0-rmse:1.00130\tvalidation_1-rmse:1.03970\n",
      "[231]\tvalidation_0-rmse:1.00124\tvalidation_1-rmse:1.03974\n",
      "[232]\tvalidation_0-rmse:1.00111\tvalidation_1-rmse:1.03980\n",
      "[233]\tvalidation_0-rmse:1.00104\tvalidation_1-rmse:1.03983\n",
      "[234]\tvalidation_0-rmse:1.00100\tvalidation_1-rmse:1.03983\n",
      "[235]\tvalidation_0-rmse:1.00090\tvalidation_1-rmse:1.03997\n",
      "[236]\tvalidation_0-rmse:1.00080\tvalidation_1-rmse:1.03994\n",
      "[237]\tvalidation_0-rmse:1.00070\tvalidation_1-rmse:1.03998\n",
      "[238]\tvalidation_0-rmse:1.00057\tvalidation_1-rmse:1.04002\n",
      "[239]\tvalidation_0-rmse:1.00046\tvalidation_1-rmse:1.04001\n",
      "[240]\tvalidation_0-rmse:1.00038\tvalidation_1-rmse:1.04004\n",
      "[241]\tvalidation_0-rmse:1.00026\tvalidation_1-rmse:1.04024\n",
      "[242]\tvalidation_0-rmse:1.00014\tvalidation_1-rmse:1.04023\n",
      "[243]\tvalidation_0-rmse:1.00004\tvalidation_1-rmse:1.04022\n",
      "[244]\tvalidation_0-rmse:0.99992\tvalidation_1-rmse:1.04021\n",
      "[245]\tvalidation_0-rmse:0.99981\tvalidation_1-rmse:1.04037\n",
      "[246]\tvalidation_0-rmse:0.99971\tvalidation_1-rmse:1.04037\n",
      "[247]\tvalidation_0-rmse:0.99960\tvalidation_1-rmse:1.04043\n",
      "[248]\tvalidation_0-rmse:0.99949\tvalidation_1-rmse:1.04038\n",
      "[249]\tvalidation_0-rmse:0.99938\tvalidation_1-rmse:1.04031\n",
      "[250]\tvalidation_0-rmse:0.99932\tvalidation_1-rmse:1.04029\n",
      "[251]\tvalidation_0-rmse:0.99918\tvalidation_1-rmse:1.04025\n",
      "[252]\tvalidation_0-rmse:0.99910\tvalidation_1-rmse:1.04030\n",
      "[253]\tvalidation_0-rmse:0.99897\tvalidation_1-rmse:1.04029\n",
      "[254]\tvalidation_0-rmse:0.99892\tvalidation_1-rmse:1.04025\n",
      "[255]\tvalidation_0-rmse:0.99886\tvalidation_1-rmse:1.04023\n",
      "[256]\tvalidation_0-rmse:0.99882\tvalidation_1-rmse:1.04025\n",
      "[257]\tvalidation_0-rmse:0.99878\tvalidation_1-rmse:1.04026\n",
      "[258]\tvalidation_0-rmse:0.99870\tvalidation_1-rmse:1.04018\n",
      "[259]\tvalidation_0-rmse:0.99860\tvalidation_1-rmse:1.04025\n",
      "[260]\tvalidation_0-rmse:0.99849\tvalidation_1-rmse:1.04030\n",
      "[261]\tvalidation_0-rmse:0.99846\tvalidation_1-rmse:1.04030\n",
      "[262]\tvalidation_0-rmse:0.99844\tvalidation_1-rmse:1.04028\n",
      "[263]\tvalidation_0-rmse:0.99835\tvalidation_1-rmse:1.04026\n",
      "[264]\tvalidation_0-rmse:0.99827\tvalidation_1-rmse:1.04026\n",
      "[265]\tvalidation_0-rmse:0.99821\tvalidation_1-rmse:1.04023\n",
      "[266]\tvalidation_0-rmse:0.99814\tvalidation_1-rmse:1.04014\n",
      "[267]\tvalidation_0-rmse:0.99802\tvalidation_1-rmse:1.04019\n",
      "[268]\tvalidation_0-rmse:0.99780\tvalidation_1-rmse:1.03978\n",
      "[269]\tvalidation_0-rmse:0.99766\tvalidation_1-rmse:1.03973\n",
      "[270]\tvalidation_0-rmse:0.99764\tvalidation_1-rmse:1.03973\n",
      "[271]\tvalidation_0-rmse:0.99755\tvalidation_1-rmse:1.03971\n",
      "[272]\tvalidation_0-rmse:0.99744\tvalidation_1-rmse:1.03967\n",
      "[273]\tvalidation_0-rmse:0.99738\tvalidation_1-rmse:1.03961\n",
      "[274]\tvalidation_0-rmse:0.99729\tvalidation_1-rmse:1.03960\n",
      "[275]\tvalidation_0-rmse:0.99721\tvalidation_1-rmse:1.03956\n",
      "[276]\tvalidation_0-rmse:0.99712\tvalidation_1-rmse:1.03948\n",
      "[277]\tvalidation_0-rmse:0.99703\tvalidation_1-rmse:1.03951\n",
      "[278]\tvalidation_0-rmse:0.99694\tvalidation_1-rmse:1.03949\n",
      "[279]\tvalidation_0-rmse:0.99678\tvalidation_1-rmse:1.03951\n",
      "[280]\tvalidation_0-rmse:0.99674\tvalidation_1-rmse:1.03950\n",
      "[281]\tvalidation_0-rmse:0.99660\tvalidation_1-rmse:1.03948\n",
      "[282]\tvalidation_0-rmse:0.99650\tvalidation_1-rmse:1.03947\n",
      "[283]\tvalidation_0-rmse:0.99642\tvalidation_1-rmse:1.03947\n",
      "[284]\tvalidation_0-rmse:0.99629\tvalidation_1-rmse:1.03966\n",
      "[285]\tvalidation_0-rmse:0.99621\tvalidation_1-rmse:1.03966\n"
     ]
    },
    {
     "name": "stdout",
     "output_type": "stream",
     "text": [
      "[286]\tvalidation_0-rmse:0.99596\tvalidation_1-rmse:1.03944\n",
      "[287]\tvalidation_0-rmse:0.99585\tvalidation_1-rmse:1.03950\n",
      "[288]\tvalidation_0-rmse:0.99567\tvalidation_1-rmse:1.03948\n",
      "[289]\tvalidation_0-rmse:0.99552\tvalidation_1-rmse:1.03956\n",
      "[290]\tvalidation_0-rmse:0.99539\tvalidation_1-rmse:1.03946\n",
      "[291]\tvalidation_0-rmse:0.99528\tvalidation_1-rmse:1.03940\n",
      "[292]\tvalidation_0-rmse:0.99521\tvalidation_1-rmse:1.03937\n",
      "[293]\tvalidation_0-rmse:0.99511\tvalidation_1-rmse:1.03941\n",
      "[294]\tvalidation_0-rmse:0.99503\tvalidation_1-rmse:1.03940\n",
      "[295]\tvalidation_0-rmse:0.99493\tvalidation_1-rmse:1.03942\n",
      "[296]\tvalidation_0-rmse:0.99487\tvalidation_1-rmse:1.03938\n",
      "[297]\tvalidation_0-rmse:0.99478\tvalidation_1-rmse:1.03941\n",
      "[298]\tvalidation_0-rmse:0.99472\tvalidation_1-rmse:1.03938\n",
      "[299]\tvalidation_0-rmse:0.99471\tvalidation_1-rmse:1.03937\n",
      "[300]\tvalidation_0-rmse:0.99465\tvalidation_1-rmse:1.03938\n",
      "[301]\tvalidation_0-rmse:0.99461\tvalidation_1-rmse:1.03935\n",
      "[302]\tvalidation_0-rmse:0.99457\tvalidation_1-rmse:1.03937\n",
      "[303]\tvalidation_0-rmse:0.99456\tvalidation_1-rmse:1.03937\n",
      "[304]\tvalidation_0-rmse:0.99455\tvalidation_1-rmse:1.03937\n",
      "[305]\tvalidation_0-rmse:0.99448\tvalidation_1-rmse:1.03936\n",
      "[306]\tvalidation_0-rmse:0.99442\tvalidation_1-rmse:1.03942\n",
      "[307]\tvalidation_0-rmse:0.99430\tvalidation_1-rmse:1.03949\n",
      "[308]\tvalidation_0-rmse:0.99420\tvalidation_1-rmse:1.03952\n",
      "[309]\tvalidation_0-rmse:0.99400\tvalidation_1-rmse:1.03920\n",
      "[310]\tvalidation_0-rmse:0.99391\tvalidation_1-rmse:1.03922\n",
      "[311]\tvalidation_0-rmse:0.99380\tvalidation_1-rmse:1.03933\n",
      "[312]\tvalidation_0-rmse:0.99363\tvalidation_1-rmse:1.03915\n",
      "[313]\tvalidation_0-rmse:0.99353\tvalidation_1-rmse:1.03917\n",
      "[314]\tvalidation_0-rmse:0.99346\tvalidation_1-rmse:1.03916\n",
      "[315]\tvalidation_0-rmse:0.99330\tvalidation_1-rmse:1.03914\n",
      "[316]\tvalidation_0-rmse:0.99316\tvalidation_1-rmse:1.03889\n",
      "[317]\tvalidation_0-rmse:0.99299\tvalidation_1-rmse:1.03861\n",
      "[318]\tvalidation_0-rmse:0.99291\tvalidation_1-rmse:1.03864\n",
      "[319]\tvalidation_0-rmse:0.99275\tvalidation_1-rmse:1.03861\n",
      "[320]\tvalidation_0-rmse:0.99264\tvalidation_1-rmse:1.03864\n",
      "[321]\tvalidation_0-rmse:0.99250\tvalidation_1-rmse:1.03860\n",
      "[322]\tvalidation_0-rmse:0.99242\tvalidation_1-rmse:1.03866\n",
      "[323]\tvalidation_0-rmse:0.99231\tvalidation_1-rmse:1.03853\n",
      "[324]\tvalidation_0-rmse:0.99228\tvalidation_1-rmse:1.03853\n",
      "[325]\tvalidation_0-rmse:0.99216\tvalidation_1-rmse:1.03854\n",
      "[326]\tvalidation_0-rmse:0.99209\tvalidation_1-rmse:1.03849\n",
      "[327]\tvalidation_0-rmse:0.99197\tvalidation_1-rmse:1.03838\n",
      "[328]\tvalidation_0-rmse:0.99196\tvalidation_1-rmse:1.03838\n",
      "[329]\tvalidation_0-rmse:0.99191\tvalidation_1-rmse:1.03839\n",
      "[330]\tvalidation_0-rmse:0.99189\tvalidation_1-rmse:1.03841\n",
      "[331]\tvalidation_0-rmse:0.99182\tvalidation_1-rmse:1.03838\n",
      "[332]\tvalidation_0-rmse:0.99170\tvalidation_1-rmse:1.03836\n",
      "[333]\tvalidation_0-rmse:0.99160\tvalidation_1-rmse:1.03834\n",
      "[334]\tvalidation_0-rmse:0.99147\tvalidation_1-rmse:1.03840\n",
      "[335]\tvalidation_0-rmse:0.99134\tvalidation_1-rmse:1.03848\n",
      "[336]\tvalidation_0-rmse:0.99127\tvalidation_1-rmse:1.03842\n",
      "[337]\tvalidation_0-rmse:0.99115\tvalidation_1-rmse:1.03842\n",
      "[338]\tvalidation_0-rmse:0.99105\tvalidation_1-rmse:1.03847\n",
      "[339]\tvalidation_0-rmse:0.99095\tvalidation_1-rmse:1.03857\n",
      "[340]\tvalidation_0-rmse:0.99082\tvalidation_1-rmse:1.03863\n",
      "[341]\tvalidation_0-rmse:0.99074\tvalidation_1-rmse:1.03853\n",
      "[342]\tvalidation_0-rmse:0.99064\tvalidation_1-rmse:1.03855\n",
      "[343]\tvalidation_0-rmse:0.99050\tvalidation_1-rmse:1.03863\n",
      "[344]\tvalidation_0-rmse:0.99046\tvalidation_1-rmse:1.03866\n",
      "[345]\tvalidation_0-rmse:0.99033\tvalidation_1-rmse:1.03863\n",
      "[346]\tvalidation_0-rmse:0.99027\tvalidation_1-rmse:1.03863\n",
      "[347]\tvalidation_0-rmse:0.99019\tvalidation_1-rmse:1.03867\n",
      "[348]\tvalidation_0-rmse:0.99015\tvalidation_1-rmse:1.03864\n",
      "[349]\tvalidation_0-rmse:0.99004\tvalidation_1-rmse:1.03867\n",
      "[350]\tvalidation_0-rmse:0.98992\tvalidation_1-rmse:1.03868\n",
      "[351]\tvalidation_0-rmse:0.98979\tvalidation_1-rmse:1.03872\n",
      "[352]\tvalidation_0-rmse:0.98970\tvalidation_1-rmse:1.03867\n",
      "[353]\tvalidation_0-rmse:0.98962\tvalidation_1-rmse:1.03868\n",
      "[354]\tvalidation_0-rmse:0.98961\tvalidation_1-rmse:1.03868\n",
      "[355]\tvalidation_0-rmse:0.98953\tvalidation_1-rmse:1.03877\n",
      "[356]\tvalidation_0-rmse:0.98944\tvalidation_1-rmse:1.03883\n",
      "[357]\tvalidation_0-rmse:0.98928\tvalidation_1-rmse:1.03898\n",
      "[358]\tvalidation_0-rmse:0.98922\tvalidation_1-rmse:1.03899\n",
      "[359]\tvalidation_0-rmse:0.98911\tvalidation_1-rmse:1.03901\n",
      "[360]\tvalidation_0-rmse:0.98901\tvalidation_1-rmse:1.03908\n",
      "[361]\tvalidation_0-rmse:0.98886\tvalidation_1-rmse:1.03916\n",
      "[362]\tvalidation_0-rmse:0.98877\tvalidation_1-rmse:1.03921\n",
      "[363]\tvalidation_0-rmse:0.98871\tvalidation_1-rmse:1.03926\n",
      "[364]\tvalidation_0-rmse:0.98858\tvalidation_1-rmse:1.03927\n",
      "[365]\tvalidation_0-rmse:0.98850\tvalidation_1-rmse:1.03921\n",
      "[366]\tvalidation_0-rmse:0.98840\tvalidation_1-rmse:1.03918\n",
      "[367]\tvalidation_0-rmse:0.98836\tvalidation_1-rmse:1.03917\n",
      "[368]\tvalidation_0-rmse:0.98827\tvalidation_1-rmse:1.03919\n",
      "[369]\tvalidation_0-rmse:0.98817\tvalidation_1-rmse:1.03921\n",
      "[370]\tvalidation_0-rmse:0.98811\tvalidation_1-rmse:1.03925\n",
      "[371]\tvalidation_0-rmse:0.98808\tvalidation_1-rmse:1.03926\n",
      "[372]\tvalidation_0-rmse:0.98804\tvalidation_1-rmse:1.03923\n",
      "[373]\tvalidation_0-rmse:0.98802\tvalidation_1-rmse:1.03925\n",
      "[374]\tvalidation_0-rmse:0.98797\tvalidation_1-rmse:1.03920\n",
      "[375]\tvalidation_0-rmse:0.98796\tvalidation_1-rmse:1.03919\n",
      "[376]\tvalidation_0-rmse:0.98785\tvalidation_1-rmse:1.03918\n",
      "[377]\tvalidation_0-rmse:0.98776\tvalidation_1-rmse:1.03922\n",
      "[378]\tvalidation_0-rmse:0.98770\tvalidation_1-rmse:1.03927\n",
      "[379]\tvalidation_0-rmse:0.98763\tvalidation_1-rmse:1.03925\n",
      "[380]\tvalidation_0-rmse:0.98754\tvalidation_1-rmse:1.03921\n",
      "[381]\tvalidation_0-rmse:0.98742\tvalidation_1-rmse:1.03920\n",
      "[382]\tvalidation_0-rmse:0.98733\tvalidation_1-rmse:1.03922\n",
      "[383]\tvalidation_0-rmse:0.98725\tvalidation_1-rmse:1.03927\n",
      "[384]\tvalidation_0-rmse:0.98707\tvalidation_1-rmse:1.03930\n",
      "[385]\tvalidation_0-rmse:0.98699\tvalidation_1-rmse:1.03932\n",
      "[386]\tvalidation_0-rmse:0.98693\tvalidation_1-rmse:1.03933\n",
      "[387]\tvalidation_0-rmse:0.98687\tvalidation_1-rmse:1.03933\n",
      "[388]\tvalidation_0-rmse:0.98675\tvalidation_1-rmse:1.03924\n",
      "[389]\tvalidation_0-rmse:0.98665\tvalidation_1-rmse:1.03926\n",
      "[390]\tvalidation_0-rmse:0.98653\tvalidation_1-rmse:1.03933\n",
      "[391]\tvalidation_0-rmse:0.98644\tvalidation_1-rmse:1.03935\n",
      "[392]\tvalidation_0-rmse:0.98641\tvalidation_1-rmse:1.03935\n",
      "[393]\tvalidation_0-rmse:0.98636\tvalidation_1-rmse:1.03935\n",
      "[394]\tvalidation_0-rmse:0.98633\tvalidation_1-rmse:1.03935\n",
      "[395]\tvalidation_0-rmse:0.98625\tvalidation_1-rmse:1.03928\n",
      "[396]\tvalidation_0-rmse:0.98615\tvalidation_1-rmse:1.03928\n",
      "[397]\tvalidation_0-rmse:0.98606\tvalidation_1-rmse:1.03925\n",
      "[398]\tvalidation_0-rmse:0.98595\tvalidation_1-rmse:1.03934\n",
      "[399]\tvalidation_0-rmse:0.98588\tvalidation_1-rmse:1.03936\n",
      "[400]\tvalidation_0-rmse:0.98584\tvalidation_1-rmse:1.03935\n",
      "[401]\tvalidation_0-rmse:0.98578\tvalidation_1-rmse:1.03934\n",
      "[402]\tvalidation_0-rmse:0.98565\tvalidation_1-rmse:1.03938\n",
      "[403]\tvalidation_0-rmse:0.98558\tvalidation_1-rmse:1.03931\n",
      "[404]\tvalidation_0-rmse:0.98548\tvalidation_1-rmse:1.03938\n",
      "[405]\tvalidation_0-rmse:0.98540\tvalidation_1-rmse:1.03934\n",
      "[406]\tvalidation_0-rmse:0.98532\tvalidation_1-rmse:1.03942\n",
      "[407]\tvalidation_0-rmse:0.98523\tvalidation_1-rmse:1.03947\n",
      "[408]\tvalidation_0-rmse:0.98515\tvalidation_1-rmse:1.03960\n",
      "[409]\tvalidation_0-rmse:0.98506\tvalidation_1-rmse:1.03968\n",
      "[410]\tvalidation_0-rmse:0.98498\tvalidation_1-rmse:1.03969\n",
      "[411]\tvalidation_0-rmse:0.98488\tvalidation_1-rmse:1.03970\n",
      "[412]\tvalidation_0-rmse:0.98485\tvalidation_1-rmse:1.03970\n",
      "[413]\tvalidation_0-rmse:0.98476\tvalidation_1-rmse:1.03978\n",
      "[414]\tvalidation_0-rmse:0.98474\tvalidation_1-rmse:1.03978\n",
      "[415]\tvalidation_0-rmse:0.98467\tvalidation_1-rmse:1.03979\n",
      "[416]\tvalidation_0-rmse:0.98459\tvalidation_1-rmse:1.03974\n",
      "[417]\tvalidation_0-rmse:0.98449\tvalidation_1-rmse:1.03969\n",
      "[418]\tvalidation_0-rmse:0.98434\tvalidation_1-rmse:1.03970\n",
      "[419]\tvalidation_0-rmse:0.98419\tvalidation_1-rmse:1.03965\n",
      "[420]\tvalidation_0-rmse:0.98411\tvalidation_1-rmse:1.03959\n",
      "[421]\tvalidation_0-rmse:0.98402\tvalidation_1-rmse:1.03965\n",
      "[422]\tvalidation_0-rmse:0.98393\tvalidation_1-rmse:1.03964\n",
      "[423]\tvalidation_0-rmse:0.98387\tvalidation_1-rmse:1.03962\n",
      "[424]\tvalidation_0-rmse:0.98379\tvalidation_1-rmse:1.03946\n",
      "[425]\tvalidation_0-rmse:0.98368\tvalidation_1-rmse:1.03946\n",
      "[426]\tvalidation_0-rmse:0.98364\tvalidation_1-rmse:1.03943\n",
      "[427]\tvalidation_0-rmse:0.98353\tvalidation_1-rmse:1.03934\n"
     ]
    },
    {
     "name": "stdout",
     "output_type": "stream",
     "text": [
      "[428]\tvalidation_0-rmse:0.98350\tvalidation_1-rmse:1.03934\n",
      "[429]\tvalidation_0-rmse:0.98341\tvalidation_1-rmse:1.03939\n",
      "[430]\tvalidation_0-rmse:0.98337\tvalidation_1-rmse:1.03936\n",
      "[431]\tvalidation_0-rmse:0.98327\tvalidation_1-rmse:1.03933\n",
      "[432]\tvalidation_0-rmse:0.98317\tvalidation_1-rmse:1.03937\n",
      "[433]\tvalidation_0-rmse:0.98307\tvalidation_1-rmse:1.03929\n",
      "[434]\tvalidation_0-rmse:0.98298\tvalidation_1-rmse:1.03925\n",
      "[435]\tvalidation_0-rmse:0.98288\tvalidation_1-rmse:1.03925\n",
      "[436]\tvalidation_0-rmse:0.98283\tvalidation_1-rmse:1.03925\n",
      "[437]\tvalidation_0-rmse:0.98277\tvalidation_1-rmse:1.03922\n",
      "[438]\tvalidation_0-rmse:0.98267\tvalidation_1-rmse:1.03923\n",
      "[439]\tvalidation_0-rmse:0.98264\tvalidation_1-rmse:1.03922\n",
      "[440]\tvalidation_0-rmse:0.98259\tvalidation_1-rmse:1.03921\n",
      "[441]\tvalidation_0-rmse:0.98249\tvalidation_1-rmse:1.03922\n",
      "[442]\tvalidation_0-rmse:0.98245\tvalidation_1-rmse:1.03915\n",
      "[443]\tvalidation_0-rmse:0.98224\tvalidation_1-rmse:1.03872\n",
      "[444]\tvalidation_0-rmse:0.98216\tvalidation_1-rmse:1.03881\n",
      "[445]\tvalidation_0-rmse:0.98208\tvalidation_1-rmse:1.03880\n",
      "[446]\tvalidation_0-rmse:0.98202\tvalidation_1-rmse:1.03879\n",
      "[447]\tvalidation_0-rmse:0.98194\tvalidation_1-rmse:1.03887\n",
      "[448]\tvalidation_0-rmse:0.98192\tvalidation_1-rmse:1.03890\n",
      "[449]\tvalidation_0-rmse:0.98191\tvalidation_1-rmse:1.03889\n",
      "[450]\tvalidation_0-rmse:0.98184\tvalidation_1-rmse:1.03886\n",
      "[451]\tvalidation_0-rmse:0.98179\tvalidation_1-rmse:1.03878\n",
      "[452]\tvalidation_0-rmse:0.98170\tvalidation_1-rmse:1.03870\n",
      "[453]\tvalidation_0-rmse:0.98164\tvalidation_1-rmse:1.03869\n",
      "[454]\tvalidation_0-rmse:0.98148\tvalidation_1-rmse:1.03858\n",
      "[455]\tvalidation_0-rmse:0.98139\tvalidation_1-rmse:1.03854\n",
      "[456]\tvalidation_0-rmse:0.98136\tvalidation_1-rmse:1.03852\n",
      "[457]\tvalidation_0-rmse:0.98128\tvalidation_1-rmse:1.03858\n",
      "[458]\tvalidation_0-rmse:0.98124\tvalidation_1-rmse:1.03843\n",
      "[459]\tvalidation_0-rmse:0.98116\tvalidation_1-rmse:1.03844\n",
      "[460]\tvalidation_0-rmse:0.98108\tvalidation_1-rmse:1.03841\n",
      "[461]\tvalidation_0-rmse:0.98103\tvalidation_1-rmse:1.03842\n",
      "[462]\tvalidation_0-rmse:0.98103\tvalidation_1-rmse:1.03842\n",
      "[463]\tvalidation_0-rmse:0.98096\tvalidation_1-rmse:1.03849\n",
      "[464]\tvalidation_0-rmse:0.98091\tvalidation_1-rmse:1.03853\n",
      "[465]\tvalidation_0-rmse:0.98082\tvalidation_1-rmse:1.03850\n",
      "[466]\tvalidation_0-rmse:0.98078\tvalidation_1-rmse:1.03849\n",
      "[467]\tvalidation_0-rmse:0.98076\tvalidation_1-rmse:1.03849\n",
      "[468]\tvalidation_0-rmse:0.98076\tvalidation_1-rmse:1.03849\n",
      "[469]\tvalidation_0-rmse:0.98067\tvalidation_1-rmse:1.03848\n",
      "[470]\tvalidation_0-rmse:0.98060\tvalidation_1-rmse:1.03850\n",
      "[471]\tvalidation_0-rmse:0.98047\tvalidation_1-rmse:1.03849\n",
      "[472]\tvalidation_0-rmse:0.98045\tvalidation_1-rmse:1.03849\n",
      "[473]\tvalidation_0-rmse:0.98045\tvalidation_1-rmse:1.03849\n",
      "[474]\tvalidation_0-rmse:0.98041\tvalidation_1-rmse:1.03851\n",
      "[475]\tvalidation_0-rmse:0.98032\tvalidation_1-rmse:1.03847\n",
      "[476]\tvalidation_0-rmse:0.98022\tvalidation_1-rmse:1.03850\n",
      "[477]\tvalidation_0-rmse:0.98020\tvalidation_1-rmse:1.03848\n",
      "[478]\tvalidation_0-rmse:0.98012\tvalidation_1-rmse:1.03852\n",
      "[479]\tvalidation_0-rmse:0.98000\tvalidation_1-rmse:1.03853\n",
      "[480]\tvalidation_0-rmse:0.97991\tvalidation_1-rmse:1.03853\n",
      "[481]\tvalidation_0-rmse:0.97978\tvalidation_1-rmse:1.03854\n",
      "[482]\tvalidation_0-rmse:0.97972\tvalidation_1-rmse:1.03858\n",
      "[483]\tvalidation_0-rmse:0.97964\tvalidation_1-rmse:1.03859\n",
      "[484]\tvalidation_0-rmse:0.97955\tvalidation_1-rmse:1.03859\n",
      "[485]\tvalidation_0-rmse:0.97949\tvalidation_1-rmse:1.03859\n",
      "[486]\tvalidation_0-rmse:0.97941\tvalidation_1-rmse:1.03856\n",
      "[487]\tvalidation_0-rmse:0.97936\tvalidation_1-rmse:1.03860\n",
      "[488]\tvalidation_0-rmse:0.97931\tvalidation_1-rmse:1.03860\n",
      "[489]\tvalidation_0-rmse:0.97922\tvalidation_1-rmse:1.03848\n",
      "[490]\tvalidation_0-rmse:0.97915\tvalidation_1-rmse:1.03855\n",
      "[491]\tvalidation_0-rmse:0.97912\tvalidation_1-rmse:1.03855\n",
      "[492]\tvalidation_0-rmse:0.97899\tvalidation_1-rmse:1.03849\n",
      "[493]\tvalidation_0-rmse:0.97892\tvalidation_1-rmse:1.03857\n",
      "[494]\tvalidation_0-rmse:0.97883\tvalidation_1-rmse:1.03860\n",
      "[495]\tvalidation_0-rmse:0.97873\tvalidation_1-rmse:1.03859\n",
      "[496]\tvalidation_0-rmse:0.97861\tvalidation_1-rmse:1.03842\n",
      "[497]\tvalidation_0-rmse:0.97858\tvalidation_1-rmse:1.03841\n",
      "[498]\tvalidation_0-rmse:0.97850\tvalidation_1-rmse:1.03841\n",
      "[499]\tvalidation_0-rmse:0.97839\tvalidation_1-rmse:1.03844\n"
     ]
    }
   ],
   "source": [
    "model = XGBRegressor(n_estimators = 500,\n",
    "                     max_depth=3);\n",
    "model.fit(X_train,y_train, eval_metric='rmse', eval_set=evalset);"
   ]
  },
  {
   "cell_type": "markdown",
   "id": "6b02e238",
   "metadata": {},
   "source": [
    "# Evaluation\n"
   ]
  },
  {
   "cell_type": "code",
   "execution_count": 28,
   "id": "f4454fd3",
   "metadata": {},
   "outputs": [
    {
     "data": {
      "image/png": "[encoded data removed]",
      "text/plain": [
       "<Figure size 432x288 with 1 Axes>"
      ]
     },
     "metadata": {
      "needs_background": "light"
     },
     "output_type": "display_data"
    }
   ],
   "source": [
    "plot_importance(model)\n",
    "pyplot.show()"
   ]
  },
  {
   "cell_type": "code",
   "execution_count": 29,
   "id": "740a311e",
   "metadata": {},
   "outputs": [
    {
     "data": {
      "image/png": "[encoded data removed]",
      "text/plain": [
       "<Figure size 432x288 with 1 Axes>"
      ]
     },
     "metadata": {
      "needs_background": "light"
     },
     "output_type": "display_data"
    }
   ],
   "source": [
    "results = model.evals_result()\n",
    "pyplot.plot(results['validation_0']['rmse'], label='train')\n",
    "pyplot.plot(results['validation_1']['rmse'], label='test')\n",
    "# show the legend\n",
    "pyplot.legend()\n",
    "# show the plot\n",
    "pyplot.show()"
   ]
  },
  {
   "cell_type": "code",
   "execution_count": null,
   "id": "fc2a99a5",
   "metadata": {},
   "outputs": [],
   "source": []
  }
 ],
 "metadata": {
  "kernelspec": {
   "display_name": "Python 3 (ipykernel)",
   "language": "python",
   "name": "python3"
  },
  "language_info": {
   "codemirror_mode": {
    "name": "ipython",
    "version": 3
   },
   "file_extension": ".py",
   "mimetype": "text/x-python",
   "name": "python",
   "nbconvert_exporter": "python",
   "pygments_lexer": "ipython3",
   "version": "3.8.10"
  }
 },
 "nbformat": 4,
 "nbformat_minor": 5
}
