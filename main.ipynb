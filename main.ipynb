{
 "cells": [
  {
   "cell_type": "code",
   "execution_count": 1,
   "metadata": {},
   "outputs": [],
   "source": [
    "from util import *\n",
    "\n",
    "import pandas as pd\n",
    "import numpy as np \n",
    "\n",
    "from sklearn import preprocessing\n",
    "from sklearn.model_selection import train_test_split\n",
    "\n",
    "from lightgbm import LGBMRegressor\n",
    "from xgboost import XGBRegressor\n",
    "from sklearn.metrics import mean_squared_error\n",
    "from matplotlib import pyplot\n",
    "from xgboost import plot_importance"
   ]
  },
  {
   "cell_type": "code",
   "execution_count": 2,
   "metadata": {},
   "outputs": [
    {
     "data": {
      "text/html": [
       "<div>\n",
       "<style scoped>\n",
       "    .dataframe tbody tr th:only-of-type {\n",
       "        vertical-align: middle;\n",
       "    }\n",
       "\n",
       "    .dataframe tbody tr th {\n",
       "        vertical-align: top;\n",
       "    }\n",
       "\n",
       "    .dataframe thead th {\n",
       "        text-align: right;\n",
       "    }\n",
       "</style>\n",
       "<table border=\"1\" class=\"dataframe\">\n",
       "  <thead>\n",
       "    <tr style=\"text-align: right;\">\n",
       "      <th></th>\n",
       "      <th>title</th>\n",
       "      <th>year</th>\n",
       "      <th>rating</th>\n",
       "      <th>runtime</th>\n",
       "      <th>kind</th>\n",
       "      <th>color_info</th>\n",
       "      <th>sound_mix</th>\n",
       "      <th>director_name</th>\n",
       "      <th>genre</th>\n",
       "      <th>director_id</th>\n",
       "      <th>cast_names</th>\n",
       "      <th>cast_ids</th>\n",
       "      <th>votes</th>\n",
       "      <th>country</th>\n",
       "      <th>day</th>\n",
       "      <th>month</th>\n",
       "    </tr>\n",
       "  </thead>\n",
       "  <tbody>\n",
       "    <tr>\n",
       "      <th>0</th>\n",
       "      <td>Miss Jerry</td>\n",
       "      <td>1894</td>\n",
       "      <td>5.9</td>\n",
       "      <td>40.0</td>\n",
       "      <td>movie</td>\n",
       "      <td>Black and White</td>\n",
       "      <td>Silent</td>\n",
       "      <td>['Alexander Black']</td>\n",
       "      <td>['Short', 'Romance']</td>\n",
       "      <td>['0085156']</td>\n",
       "      <td>['0063086', '0183823', '1309758']</td>\n",
       "      <td>['0063086', '0183823', '1309758']</td>\n",
       "      <td>191.0</td>\n",
       "      <td>USA</td>\n",
       "      <td>0</td>\n",
       "      <td>8.0</td>\n",
       "    </tr>\n",
       "    <tr>\n",
       "      <th>1</th>\n",
       "      <td>The Story of the Kelly Gang</td>\n",
       "      <td>1906</td>\n",
       "      <td>6.1</td>\n",
       "      <td>70.0</td>\n",
       "      <td>movie</td>\n",
       "      <td>Black and White</td>\n",
       "      <td>Silent</td>\n",
       "      <td>['Charles Tait']</td>\n",
       "      <td>['Action', 'Adventure', 'Biography', 'Crime', ...</td>\n",
       "      <td>['0846879']</td>\n",
       "      <td>['0846887', '0846894', '1431224', '3002376', '...</td>\n",
       "      <td>['0846887', '0846894', '1431224', '3002376', '...</td>\n",
       "      <td>737.0</td>\n",
       "      <td>Australia</td>\n",
       "      <td>26</td>\n",
       "      <td>12.0</td>\n",
       "    </tr>\n",
       "    <tr>\n",
       "      <th>2</th>\n",
       "      <td>Den sorte drøm</td>\n",
       "      <td>1911</td>\n",
       "      <td>5.9</td>\n",
       "      <td>53.0</td>\n",
       "      <td>movie</td>\n",
       "      <td>Black and White</td>\n",
       "      <td>Silent</td>\n",
       "      <td>['Urban Gad']</td>\n",
       "      <td>['Drama']</td>\n",
       "      <td>['0300487']</td>\n",
       "      <td>['0003425', '0699637', '0375839', '0016799', '...</td>\n",
       "      <td>['0003425', '0699637', '0375839', '0016799', '...</td>\n",
       "      <td>218.0</td>\n",
       "      <td>Germany</td>\n",
       "      <td>19</td>\n",
       "      <td>8.0</td>\n",
       "    </tr>\n",
       "    <tr>\n",
       "      <th>3</th>\n",
       "      <td>Cleopatra</td>\n",
       "      <td>1963</td>\n",
       "      <td>7.0</td>\n",
       "      <td>192.0</td>\n",
       "      <td>movie</td>\n",
       "      <td>Color</td>\n",
       "      <td>DTS</td>\n",
       "      <td>['Joseph L. Mankiewicz']</td>\n",
       "      <td>['Biography', 'Drama', 'History', 'Romance']</td>\n",
       "      <td>['0000581']</td>\n",
       "      <td>['0000072', '0000009', '0001322', '0114386', '...</td>\n",
       "      <td>['0000072', '0000009', '0001322', '0114386', '...</td>\n",
       "      <td>31526.0</td>\n",
       "      <td>Canada</td>\n",
       "      <td>31</td>\n",
       "      <td>7.0</td>\n",
       "    </tr>\n",
       "    <tr>\n",
       "      <th>4</th>\n",
       "      <td>Torment</td>\n",
       "      <td>1994</td>\n",
       "      <td>7.1</td>\n",
       "      <td>102.0</td>\n",
       "      <td>movie</td>\n",
       "      <td>Color</td>\n",
       "      <td>Dolby</td>\n",
       "      <td>['Claude Chabrol']</td>\n",
       "      <td>['Crime', 'Drama', 'Thriller']</td>\n",
       "      <td>['0001031']</td>\n",
       "      <td>['0000322', '0167388', '0136597', '0932870', '...</td>\n",
       "      <td>['0000322', '0167388', '0136597', '0932870', '...</td>\n",
       "      <td>4936.0</td>\n",
       "      <td>France</td>\n",
       "      <td>16</td>\n",
       "      <td>2.0</td>\n",
       "    </tr>\n",
       "    <tr>\n",
       "      <th>...</th>\n",
       "      <td>...</td>\n",
       "      <td>...</td>\n",
       "      <td>...</td>\n",
       "      <td>...</td>\n",
       "      <td>...</td>\n",
       "      <td>...</td>\n",
       "      <td>...</td>\n",
       "      <td>...</td>\n",
       "      <td>...</td>\n",
       "      <td>...</td>\n",
       "      <td>...</td>\n",
       "      <td>...</td>\n",
       "      <td>...</td>\n",
       "      <td>...</td>\n",
       "      <td>...</td>\n",
       "      <td>...</td>\n",
       "    </tr>\n",
       "    <tr>\n",
       "      <th>1990</th>\n",
       "      <td>Resurrection</td>\n",
       "      <td>2001</td>\n",
       "      <td>6.9</td>\n",
       "      <td>187.0</td>\n",
       "      <td>tv movie</td>\n",
       "      <td>Color</td>\n",
       "      <td>Others</td>\n",
       "      <td>['Paolo Taviani', 'Vittorio Taviani']</td>\n",
       "      <td>['Drama', 'History']</td>\n",
       "      <td>['0851752', '0851754']</td>\n",
       "      <td>['0733625', '0668742', '0126669', '0092291', '...</td>\n",
       "      <td>['0733625', '0668742', '0126669', '0092291', '...</td>\n",
       "      <td>214.0</td>\n",
       "      <td>France</td>\n",
       "      <td>26</td>\n",
       "      <td>12.0</td>\n",
       "    </tr>\n",
       "    <tr>\n",
       "      <th>1991</th>\n",
       "      <td>We're Not Dressing</td>\n",
       "      <td>1934</td>\n",
       "      <td>6.1</td>\n",
       "      <td>74.0</td>\n",
       "      <td>movie</td>\n",
       "      <td>Black and White</td>\n",
       "      <td>Mono</td>\n",
       "      <td>['Norman Taurog']</td>\n",
       "      <td>['Comedy', 'Musical']</td>\n",
       "      <td>['0851537']</td>\n",
       "      <td>['0001078', '0001479', '0122675', '0020555', '...</td>\n",
       "      <td>['0001078', '0001479', '0122675', '0020555', '...</td>\n",
       "      <td>775.0</td>\n",
       "      <td>USA</td>\n",
       "      <td>27</td>\n",
       "      <td>3.0</td>\n",
       "    </tr>\n",
       "    <tr>\n",
       "      <th>1992</th>\n",
       "      <td>We're Rich Again</td>\n",
       "      <td>1934</td>\n",
       "      <td>6.4</td>\n",
       "      <td>71.0</td>\n",
       "      <td>movie</td>\n",
       "      <td>Black and White</td>\n",
       "      <td>Mono</td>\n",
       "      <td>['William A. Seiter']</td>\n",
       "      <td>['Comedy']</td>\n",
       "      <td>['0782682']</td>\n",
       "      <td>['0646829', '0000992', '0633260', '0219666', '...</td>\n",
       "      <td>['0646829', '0000992', '0633260', '0219666', '...</td>\n",
       "      <td>230.0</td>\n",
       "      <td>USA</td>\n",
       "      <td>13</td>\n",
       "      <td>7.0</td>\n",
       "    </tr>\n",
       "    <tr>\n",
       "      <th>1993</th>\n",
       "      <td>Family Life</td>\n",
       "      <td>1971</td>\n",
       "      <td>7.6</td>\n",
       "      <td>108.0</td>\n",
       "      <td>movie</td>\n",
       "      <td>Color</td>\n",
       "      <td>Mono</td>\n",
       "      <td>['Ken Loach']</td>\n",
       "      <td>['Drama']</td>\n",
       "      <td>['0516360']</td>\n",
       "      <td>['0711605', '0212674', '0147016', '0862939', '...</td>\n",
       "      <td>['0711605', '0212674', '0147016', '0862939', '...</td>\n",
       "      <td>1597.0</td>\n",
       "      <td>Ireland</td>\n",
       "      <td>18</td>\n",
       "      <td>2.0</td>\n",
       "    </tr>\n",
       "    <tr>\n",
       "      <th>1994</th>\n",
       "      <td>West of the Divide</td>\n",
       "      <td>1934</td>\n",
       "      <td>5.3</td>\n",
       "      <td>54.0</td>\n",
       "      <td>movie</td>\n",
       "      <td>Black and White</td>\n",
       "      <td>Mono</td>\n",
       "      <td>['Robert N. Bradbury']</td>\n",
       "      <td>['Action', 'Adventure', 'Romance', 'Western']</td>\n",
       "      <td>['0102908']</td>\n",
       "      <td>['0000078', '0265551', '0371025', '0926103', '...</td>\n",
       "      <td>['0000078', '0265551', '0371025', '0926103', '...</td>\n",
       "      <td>919.0</td>\n",
       "      <td>USA</td>\n",
       "      <td>15</td>\n",
       "      <td>2.0</td>\n",
       "    </tr>\n",
       "  </tbody>\n",
       "</table>\n",
       "<p>1995 rows × 16 columns</p>\n",
       "</div>"
      ],
      "text/plain": [
       "                            title  year  rating  runtime      kind  \\\n",
       "0                      Miss Jerry  1894     5.9     40.0     movie   \n",
       "1     The Story of the Kelly Gang  1906     6.1     70.0     movie   \n",
       "2                  Den sorte drøm  1911     5.9     53.0     movie   \n",
       "3                       Cleopatra  1963     7.0    192.0     movie   \n",
       "4                         Torment  1994     7.1    102.0     movie   \n",
       "...                           ...   ...     ...      ...       ...   \n",
       "1990                 Resurrection  2001     6.9    187.0  tv movie   \n",
       "1991           We're Not Dressing  1934     6.1     74.0     movie   \n",
       "1992             We're Rich Again  1934     6.4     71.0     movie   \n",
       "1993                  Family Life  1971     7.6    108.0     movie   \n",
       "1994           West of the Divide  1934     5.3     54.0     movie   \n",
       "\n",
       "           color_info sound_mix                          director_name  \\\n",
       "0     Black and White    Silent                    ['Alexander Black']   \n",
       "1     Black and White    Silent                       ['Charles Tait']   \n",
       "2     Black and White    Silent                          ['Urban Gad']   \n",
       "3               Color       DTS               ['Joseph L. Mankiewicz']   \n",
       "4               Color     Dolby                     ['Claude Chabrol']   \n",
       "...               ...       ...                                    ...   \n",
       "1990            Color    Others  ['Paolo Taviani', 'Vittorio Taviani']   \n",
       "1991  Black and White      Mono                      ['Norman Taurog']   \n",
       "1992  Black and White      Mono                  ['William A. Seiter']   \n",
       "1993            Color      Mono                          ['Ken Loach']   \n",
       "1994  Black and White      Mono                 ['Robert N. Bradbury']   \n",
       "\n",
       "                                                  genre  \\\n",
       "0                                  ['Short', 'Romance']   \n",
       "1     ['Action', 'Adventure', 'Biography', 'Crime', ...   \n",
       "2                                             ['Drama']   \n",
       "3          ['Biography', 'Drama', 'History', 'Romance']   \n",
       "4                        ['Crime', 'Drama', 'Thriller']   \n",
       "...                                                 ...   \n",
       "1990                               ['Drama', 'History']   \n",
       "1991                              ['Comedy', 'Musical']   \n",
       "1992                                         ['Comedy']   \n",
       "1993                                          ['Drama']   \n",
       "1994      ['Action', 'Adventure', 'Romance', 'Western']   \n",
       "\n",
       "                 director_id  \\\n",
       "0                ['0085156']   \n",
       "1                ['0846879']   \n",
       "2                ['0300487']   \n",
       "3                ['0000581']   \n",
       "4                ['0001031']   \n",
       "...                      ...   \n",
       "1990  ['0851752', '0851754']   \n",
       "1991             ['0851537']   \n",
       "1992             ['0782682']   \n",
       "1993             ['0516360']   \n",
       "1994             ['0102908']   \n",
       "\n",
       "                                             cast_names  \\\n",
       "0                     ['0063086', '0183823', '1309758']   \n",
       "1     ['0846887', '0846894', '1431224', '3002376', '...   \n",
       "2     ['0003425', '0699637', '0375839', '0016799', '...   \n",
       "3     ['0000072', '0000009', '0001322', '0114386', '...   \n",
       "4     ['0000322', '0167388', '0136597', '0932870', '...   \n",
       "...                                                 ...   \n",
       "1990  ['0733625', '0668742', '0126669', '0092291', '...   \n",
       "1991  ['0001078', '0001479', '0122675', '0020555', '...   \n",
       "1992  ['0646829', '0000992', '0633260', '0219666', '...   \n",
       "1993  ['0711605', '0212674', '0147016', '0862939', '...   \n",
       "1994  ['0000078', '0265551', '0371025', '0926103', '...   \n",
       "\n",
       "                                               cast_ids    votes    country  \\\n",
       "0                     ['0063086', '0183823', '1309758']    191.0        USA   \n",
       "1     ['0846887', '0846894', '1431224', '3002376', '...    737.0  Australia   \n",
       "2     ['0003425', '0699637', '0375839', '0016799', '...    218.0    Germany   \n",
       "3     ['0000072', '0000009', '0001322', '0114386', '...  31526.0     Canada   \n",
       "4     ['0000322', '0167388', '0136597', '0932870', '...   4936.0     France   \n",
       "...                                                 ...      ...        ...   \n",
       "1990  ['0733625', '0668742', '0126669', '0092291', '...    214.0     France   \n",
       "1991  ['0001078', '0001479', '0122675', '0020555', '...    775.0        USA   \n",
       "1992  ['0646829', '0000992', '0633260', '0219666', '...    230.0        USA   \n",
       "1993  ['0711605', '0212674', '0147016', '0862939', '...   1597.0    Ireland   \n",
       "1994  ['0000078', '0265551', '0371025', '0926103', '...    919.0        USA   \n",
       "\n",
       "      day  month  \n",
       "0       0    8.0  \n",
       "1      26   12.0  \n",
       "2      19    8.0  \n",
       "3      31    7.0  \n",
       "4      16    2.0  \n",
       "...   ...    ...  \n",
       "1990   26   12.0  \n",
       "1991   27    3.0  \n",
       "1992   13    7.0  \n",
       "1993   18    2.0  \n",
       "1994   15    2.0  \n",
       "\n",
       "[1995 rows x 16 columns]"
      ]
     },
     "execution_count": 2,
     "metadata": {},
     "output_type": "execute_result"
    }
   ],
   "source": [
    "df = pd.read_csv('preprocess_data.csv')\n",
    "df"
   ]
  },
  {
   "cell_type": "code",
   "execution_count": 3,
   "metadata": {},
   "outputs": [
    {
     "data": {
      "text/plain": [
       "1934    211\n",
       "1933    207\n",
       "1932    207\n",
       "1931    163\n",
       "1930    130\n",
       "       ... \n",
       "1906      1\n",
       "1964      1\n",
       "1971      1\n",
       "1976      1\n",
       "1894      1\n",
       "Name: year, Length: 111, dtype: int64"
      ]
     },
     "execution_count": 3,
     "metadata": {},
     "output_type": "execute_result"
    }
   ],
   "source": [
    "df['year'].value_counts()"
   ]
  },
  {
   "cell_type": "markdown",
   "metadata": {},
   "source": [
    "# Feature Engineering\n"
   ]
  },
  {
   "cell_type": "code",
   "execution_count": 4,
   "metadata": {},
   "outputs": [
    {
     "data": {
      "text/plain": [
       "0       127\n",
       "1       115\n",
       "2       110\n",
       "3        58\n",
       "4        27\n",
       "       ... \n",
       "1990     20\n",
       "1991     87\n",
       "1992     87\n",
       "1993     50\n",
       "1994     87\n",
       "Name: age, Length: 1995, dtype: int64"
      ]
     },
     "execution_count": 4,
     "metadata": {},
     "output_type": "execute_result"
    }
   ],
   "source": [
    "# age là tuổi của phim được cho đến năm hiện tại (2021)\n",
    "df['age'] = 2021 - df['year']\n",
    "df['age']"
   ]
  },
  {
   "cell_type": "code",
   "execution_count": 5,
   "metadata": {
    "scrolled": true
   },
   "outputs": [],
   "source": [
    "df = df.dropna(subset = ['cast_names','cast_ids','director_name','director_id'])"
   ]
  },
  {
   "cell_type": "code",
   "execution_count": 6,
   "metadata": {},
   "outputs": [
    {
     "data": {
      "text/plain": [
       "0                       ['0063086', '0183823', '1309758']\n",
       "1       ['0846887', '0846894', '1431224', '3002376', '...\n",
       "2       ['0003425', '0699637', '0375839', '0016799', '...\n",
       "3       ['0000072', '0000009', '0001322', '0114386', '...\n",
       "4       ['0000322', '0167388', '0136597', '0932870', '...\n",
       "                              ...                        \n",
       "1990    ['0733625', '0668742', '0126669', '0092291', '...\n",
       "1991    ['0001078', '0001479', '0122675', '0020555', '...\n",
       "1992    ['0646829', '0000992', '0633260', '0219666', '...\n",
       "1993    ['0711605', '0212674', '0147016', '0862939', '...\n",
       "1994    ['0000078', '0265551', '0371025', '0926103', '...\n",
       "Name: cast_ids, Length: 1945, dtype: object"
      ]
     },
     "execution_count": 6,
     "metadata": {},
     "output_type": "execute_result"
    }
   ],
   "source": [
    "df['cast_ids']"
   ]
  },
  {
   "cell_type": "code",
   "execution_count": 7,
   "metadata": {},
   "outputs": [
    {
     "name": "stderr",
     "output_type": "stream",
     "text": [
      "<ipython-input-7-57ad34609bf1>:2: SettingWithCopyWarning: \n",
      "A value is trying to be set on a copy of a slice from a DataFrame.\n",
      "Try using .loc[row_indexer,col_indexer] = value instead\n",
      "\n",
      "See the caveats in the documentation: https://pandas.pydata.org/pandas-docs/stable/user_guide/indexing.html#returning-a-view-versus-a-copy\n",
      "  df['cast_names'] = df['cast_names'].apply(split_text)\n",
      "<ipython-input-7-57ad34609bf1>:3: SettingWithCopyWarning: \n",
      "A value is trying to be set on a copy of a slice from a DataFrame.\n",
      "Try using .loc[row_indexer,col_indexer] = value instead\n",
      "\n",
      "See the caveats in the documentation: https://pandas.pydata.org/pandas-docs/stable/user_guide/indexing.html#returning-a-view-versus-a-copy\n",
      "  df['cast_ids'] = df['cast_ids'].apply(split_text)\n",
      "<ipython-input-7-57ad34609bf1>:4: SettingWithCopyWarning: \n",
      "A value is trying to be set on a copy of a slice from a DataFrame.\n",
      "Try using .loc[row_indexer,col_indexer] = value instead\n",
      "\n",
      "See the caveats in the documentation: https://pandas.pydata.org/pandas-docs/stable/user_guide/indexing.html#returning-a-view-versus-a-copy\n",
      "  df['director_name'] = df['director_name'].apply(split_text)\n"
     ]
    }
   ],
   "source": [
    "# tách 1 chuỗi string thành mảng các string chứa thông tin\n",
    "df['cast_names'] = df['cast_names'].apply(split_text)\n",
    "df['cast_ids'] = df['cast_ids'].apply(split_text)\n",
    "df['director_name'] = df['director_name'].apply(split_text)\n"
   ]
  },
  {
   "cell_type": "code",
   "execution_count": 8,
   "metadata": {},
   "outputs": [
    {
     "name": "stderr",
     "output_type": "stream",
     "text": [
      "<ipython-input-8-e1e3e1ee3d5f>:2: SettingWithCopyWarning: \n",
      "A value is trying to be set on a copy of a slice from a DataFrame.\n",
      "Try using .loc[row_indexer,col_indexer] = value instead\n",
      "\n",
      "See the caveats in the documentation: https://pandas.pydata.org/pandas-docs/stable/user_guide/indexing.html#returning-a-view-versus-a-copy\n",
      "  df['number_cast'] = df['cast_names'].apply(lambda s: len(s))\n"
     ]
    },
    {
     "data": {
      "text/plain": [
       "0        3\n",
       "1       17\n",
       "2       11\n",
       "3       85\n",
       "4       27\n",
       "        ..\n",
       "1990    50\n",
       "1991    25\n",
       "1992    23\n",
       "1993    35\n",
       "1994    16\n",
       "Name: number_cast, Length: 1945, dtype: int64"
      ]
     },
     "execution_count": 8,
     "metadata": {},
     "output_type": "execute_result"
    }
   ],
   "source": [
    "#number cast là số lượng thành viên đoàn cast\n",
    "df['number_cast'] = df['cast_names'].apply(lambda s: len(s))\n",
    "df['number_cast']"
   ]
  },
  {
   "cell_type": "code",
   "execution_count": 9,
   "metadata": {},
   "outputs": [
    {
     "name": "stderr",
     "output_type": "stream",
     "text": [
      "<ipython-input-9-d2f5b57e34a6>:2: SettingWithCopyWarning: \n",
      "A value is trying to be set on a copy of a slice from a DataFrame.\n",
      "Try using .loc[row_indexer,col_indexer] = value instead\n",
      "\n",
      "See the caveats in the documentation: https://pandas.pydata.org/pandas-docs/stable/user_guide/indexing.html#returning-a-view-versus-a-copy\n",
      "  df['country'] = le.fit_transform(df['country'])\n"
     ]
    },
    {
     "data": {
      "text/plain": [
       "0       49\n",
       "1        1\n",
       "2       20\n",
       "3        7\n",
       "4       19\n",
       "        ..\n",
       "1990    19\n",
       "1991    49\n",
       "1992    49\n",
       "1993    25\n",
       "1994    49\n",
       "Name: country, Length: 1945, dtype: int32"
      ]
     },
     "execution_count": 9,
     "metadata": {},
     "output_type": "execute_result"
    }
   ],
   "source": [
    "le = preprocessing.LabelEncoder()\n",
    "df['country'] = le.fit_transform(df['country'])\n",
    "df['country'] "
   ]
  },
  {
   "cell_type": "code",
   "execution_count": 10,
   "metadata": {},
   "outputs": [
    {
     "name": "stderr",
     "output_type": "stream",
     "text": [
      "<ipython-input-10-0757d77adb3a>:2: SettingWithCopyWarning: \n",
      "A value is trying to be set on a copy of a slice from a DataFrame.\n",
      "Try using .loc[row_indexer,col_indexer] = value instead\n",
      "\n",
      "See the caveats in the documentation: https://pandas.pydata.org/pandas-docs/stable/user_guide/indexing.html#returning-a-view-versus-a-copy\n",
      "  df['country'] = le.fit_transform(df['country'])\n",
      "<ipython-input-10-0757d77adb3a>:3: SettingWithCopyWarning: \n",
      "A value is trying to be set on a copy of a slice from a DataFrame.\n",
      "Try using .loc[row_indexer,col_indexer] = value instead\n",
      "\n",
      "See the caveats in the documentation: https://pandas.pydata.org/pandas-docs/stable/user_guide/indexing.html#returning-a-view-versus-a-copy\n",
      "  df['kind'] = le.fit_transform(df['kind'])\n",
      "<ipython-input-10-0757d77adb3a>:4: SettingWithCopyWarning: \n",
      "A value is trying to be set on a copy of a slice from a DataFrame.\n",
      "Try using .loc[row_indexer,col_indexer] = value instead\n",
      "\n",
      "See the caveats in the documentation: https://pandas.pydata.org/pandas-docs/stable/user_guide/indexing.html#returning-a-view-versus-a-copy\n",
      "  df['color_info'] = le.fit_transform(df['color_info'])\n",
      "<ipython-input-10-0757d77adb3a>:5: SettingWithCopyWarning: \n",
      "A value is trying to be set on a copy of a slice from a DataFrame.\n",
      "Try using .loc[row_indexer,col_indexer] = value instead\n",
      "\n",
      "See the caveats in the documentation: https://pandas.pydata.org/pandas-docs/stable/user_guide/indexing.html#returning-a-view-versus-a-copy\n",
      "  df['sound_mix'] = le.fit_transform(df['sound_mix'])\n"
     ]
    }
   ],
   "source": [
    "le = preprocessing.LabelEncoder()\n",
    "df['country'] = le.fit_transform(df['country'])\n",
    "df['kind'] = le.fit_transform(df['kind'])\n",
    "df['color_info'] = le.fit_transform(df['color_info'])\n",
    "df['sound_mix'] = le.fit_transform(df['sound_mix'])\n"
   ]
  },
  {
   "cell_type": "code",
   "execution_count": 11,
   "metadata": {},
   "outputs": [],
   "source": [
    "df = df.reset_index(drop = True)\n",
    "X = df.drop(['rating'], axis = 1)\n",
    "y = df['rating']"
   ]
  },
  {
   "cell_type": "code",
   "execution_count": 12,
   "metadata": {},
   "outputs": [],
   "source": [
    "X_train, X_test, y_train, y_test = train_test_split(X,y, test_size = 0.1, random_state = 1)"
   ]
  },
  {
   "cell_type": "code",
   "execution_count": 13,
   "metadata": {},
   "outputs": [],
   "source": [
    "X_train = X_train.reset_index(drop = True)\n",
    "X_test = X_test.reset_index(drop = True)\n",
    "y_train = y_train.reset_index(drop = True)\n",
    "y_test = y_test.reset_index(drop = True)"
   ]
  },
  {
   "cell_type": "code",
   "execution_count": 14,
   "metadata": {},
   "outputs": [],
   "source": [
    "# xây dựng dict chứa thông tin về điểm trung bình của đạo diễn và các diễn viên\n",
    "cast_score_board = getScoreBroad(X_train['cast_ids'], y_train)\n",
    "director_score_board = getScoreBroad(X_train['director_id'], y_train)"
   ]
  },
  {
   "cell_type": "markdown",
   "metadata": {},
   "source": [
    "Xây dựng dict bằng tập train và sau đó mapping sang tập test"
   ]
  },
  {
   "cell_type": "code",
   "execution_count": 15,
   "metadata": {},
   "outputs": [],
   "source": [
    "for i in X_train.index:\n",
    "    s = df['cast_ids'][i]\n",
    "    me, ma, mi = getScore(s, cast_score_board)\n",
    "    X_train.loc[i,'cast_mean_score'] = me\n",
    "    X_train.loc[i,'cast_max_score'] = ma\n",
    "    X_train.loc[i,'cast_min_score'] = mi\n",
    "    \n",
    "    s = df.loc[i,'director_id']\n",
    "    me, ma, mi = getScore(s, director_score_board)\n",
    "    X_train.loc[i,'director_mean_score'] = me\n",
    "    X_train.loc[i,'director_max_score'] = ma\n",
    "    X_train.loc[i,'director_min_score'] = mi\n",
    "\n",
    "    \n",
    "for i in X_test.index:\n",
    "    s = df['cast_ids'][i]\n",
    "    me, ma, mi = getScore(s, cast_score_board)\n",
    "    X_test.loc[i,'cast_mean_score'] = me\n",
    "    X_test.loc[i,'cast_max_score'] = ma\n",
    "    X_test.loc[i,'cast_min_score'] = mi\n",
    "    \n",
    "    s = df['director_id'][i]\n",
    "    me, ma, mi = getScore(s, director_score_board)\n",
    "    X_test.loc[i,'director_mean_score'] = me\n",
    "    X_test.loc[i,'director_max_score'] = ma\n",
    "    X_test.loc[i,'director_min_score'] = mi"
   ]
  },
  {
   "cell_type": "code",
   "execution_count": null,
   "metadata": {},
   "outputs": [],
   "source": []
  },
  {
   "cell_type": "markdown",
   "metadata": {},
   "source": [
    "# Visualize \n"
   ]
  },
  {
   "cell_type": "code",
   "execution_count": 16,
   "metadata": {},
   "outputs": [
    {
     "data": {
      "image/png": "[encoded data removed]",
      "text/plain": [
       "<Figure size 432x288 with 1 Axes>"
      ]
     },
     "metadata": {
      "needs_background": "light"
     },
     "output_type": "display_data"
    }
   ],
   "source": [
    "df.rating.plot.hist(bins = 20);"
   ]
  },
  {
   "cell_type": "markdown",
   "metadata": {},
   "source": [
    "phân bố của rating tập trung chủ yếu ở 6 đến 7 điểm "
   ]
  },
  {
   "cell_type": "code",
   "execution_count": 17,
   "metadata": {},
   "outputs": [
    {
     "data": {
      "image/png": "[encoded data removed]",
      "text/plain": [
       "<Figure size 432x288 with 1 Axes>"
      ]
     },
     "metadata": {
      "needs_background": "light"
     },
     "output_type": "display_data"
    }
   ],
   "source": [
    "df.age.plot.hist();"
   ]
  },
  {
   "cell_type": "markdown",
   "metadata": {},
   "source": [
    "Số lượng phim tập trung vào 20 năm đổ lại"
   ]
  },
  {
   "cell_type": "code",
   "execution_count": 18,
   "metadata": {},
   "outputs": [
    {
     "data": {
      "image/png": "[encoded data removed]",
      "text/plain": [
       "<Figure size 432x288 with 1 Axes>"
      ]
     },
     "metadata": {
      "needs_background": "light"
     },
     "output_type": "display_data"
    }
   ],
   "source": [
    "df.day.plot.hist(bins = 15);"
   ]
  },
  {
   "cell_type": "markdown",
   "metadata": {},
   "source": [
    "Phim chủ yếu được release vào cuối tháng, tập trung chủ yếu vào ngày 19 đến 20"
   ]
  },
  {
   "cell_type": "code",
   "execution_count": 19,
   "metadata": {},
   "outputs": [
    {
     "data": {
      "image/png": "[encoded data removed]",
      "text/plain": [
       "<Figure size 432x288 with 1 Axes>"
      ]
     },
     "metadata": {
      "needs_background": "light"
     },
     "output_type": "display_data"
    }
   ],
   "source": [
    "df.month.value_counts().sort_values().plot.bar(); "
   ]
  },
  {
   "cell_type": "markdown",
   "metadata": {},
   "source": [
    "Phim được phát hành tập trung vào các tháng đầu và cuối năm"
   ]
  },
  {
   "cell_type": "code",
   "execution_count": 20,
   "metadata": {},
   "outputs": [
    {
     "data": {
      "image/png": "[encoded data removed]",
      "text/plain": [
       "<Figure size 432x288 with 1 Axes>"
      ]
     },
     "metadata": {
      "needs_background": "light"
     },
     "output_type": "display_data"
    }
   ],
   "source": [
    "df.plot.scatter(x='age', y='rating');"
   ]
  },
  {
   "cell_type": "markdown",
   "metadata": {},
   "source": [
    "Có thể dễ dàng thấy được số lượng phim có tuổi đời lớn hơn 70 có rating cao hơn và số lượng ít hơn."
   ]
  },
  {
   "cell_type": "code",
   "execution_count": 21,
   "metadata": {},
   "outputs": [
    {
     "data": {
      "image/png": "[encoded data removed]",
      "text/plain": [
       "<Figure size 432x288 with 1 Axes>"
      ]
     },
     "metadata": {
      "needs_background": "light"
     },
     "output_type": "display_data"
    }
   ],
   "source": [
    "case = df[df['age']>70]\n",
    "case.plot.scatter(x='age', y='rating', c='DarkBlue');"
   ]
  },
  {
   "cell_type": "code",
   "execution_count": 22,
   "metadata": {},
   "outputs": [
    {
     "name": "stdout",
     "output_type": "stream",
     "text": [
      "Rating trung bình của các bộ phim có tuổi đời lớn hơn 70: 6.438\n",
      "Rating trung bình của tất cả phim: 6.416\n"
     ]
    }
   ],
   "source": [
    "print('Rating trung bình của các bộ phim có tuổi đời lớn hơn 70:',round(case.rating.mean(),3))\n",
    "print('Rating trung bình của tất cả phim:',round(df.rating.mean(),3))"
   ]
  },
  {
   "cell_type": "code",
   "execution_count": 23,
   "metadata": {},
   "outputs": [
    {
     "data": {
      "image/png": "[encoded data removed]",
      "text/plain": [
       "<Figure size 432x288 with 1 Axes>"
      ]
     },
     "metadata": {
      "needs_background": "light"
     },
     "output_type": "display_data"
    }
   ],
   "source": [
    "df.plot.scatter(x= 'number_cast', y='rating');"
   ]
  },
  {
   "cell_type": "markdown",
   "metadata": {},
   "source": [
    "Với number cast lớn thì phim có xu hướng điểm cao hơn"
   ]
  },
  {
   "cell_type": "code",
   "execution_count": 24,
   "metadata": {},
   "outputs": [
    {
     "data": {
      "image/png": "[encoded data removed]",
      "text/plain": [
       "<Figure size 432x288 with 1 Axes>"
      ]
     },
     "metadata": {
      "needs_background": "light"
     },
     "output_type": "display_data"
    }
   ],
   "source": [
    "df.plot.scatter(x= 'votes', y='rating');"
   ]
  },
  {
   "cell_type": "markdown",
   "metadata": {},
   "source": [
    "Số vote càng cao thì tỉ lệ rate càng cao"
   ]
  },
  {
   "cell_type": "code",
   "execution_count": 25,
   "metadata": {},
   "outputs": [
    {
     "data": {
      "image/png": "[encoded data removed]",
      "text/plain": [
       "<Figure size 432x288 with 1 Axes>"
      ]
     },
     "metadata": {
      "needs_background": "light"
     },
     "output_type": "display_data"
    }
   ],
   "source": [
    "df.groupby('country').rating.mean().plot.bar();"
   ]
  },
  {
   "cell_type": "markdown",
   "metadata": {},
   "source": [
    "Rating trung bình phim của các nước không cách biệt nhau quá nhiều"
   ]
  },
  {
   "cell_type": "markdown",
   "metadata": {},
   "source": [
    "# Train Model\n"
   ]
  },
  {
   "cell_type": "code",
   "execution_count": 26,
   "metadata": {},
   "outputs": [],
   "source": [
    "select_feature = ['year', 'runtime', 'kind', 'color_info', 'sound_mix','votes',\n",
    "                  'country', 'day', 'month', 'age', 'number_cast',\n",
    "                  'cast_mean_score', 'cast_max_score', 'cast_min_score',\n",
    "                  'director_mean_score', 'director_max_score', 'director_min_score']"
   ]
  },
  {
   "cell_type": "code",
   "execution_count": 27,
   "metadata": {},
   "outputs": [],
   "source": [
    "X_train = X_train[select_feature]\n",
    "X_test = X_test[select_feature]\n",
    "\n",
    "evalset = [(X_train, y_train), (X_test,y_test)]"
   ]
  },
  {
   "cell_type": "code",
   "execution_count": 28,
   "metadata": {},
   "outputs": [
    {
     "name": "stdout",
     "output_type": "stream",
     "text": [
      "[0]\tvalidation_0-rmse:4.21346\tvalidation_1-rmse:4.20217\n",
      "[1]\tvalidation_0-rmse:2.99113\tvalidation_1-rmse:2.98871\n",
      "[2]\tvalidation_0-rmse:2.14660\tvalidation_1-rmse:2.15507\n",
      "[3]\tvalidation_0-rmse:1.56998\tvalidation_1-rmse:1.58991\n",
      "[4]\tvalidation_0-rmse:1.18491\tvalidation_1-rmse:1.22890\n",
      "[5]\tvalidation_0-rmse:0.93676\tvalidation_1-rmse:1.00053\n",
      "[6]\tvalidation_0-rmse:0.78232\tvalidation_1-rmse:0.87775\n",
      "[7]\tvalidation_0-rmse:0.69320\tvalidation_1-rmse:0.80716\n",
      "[8]\tvalidation_0-rmse:0.63951\tvalidation_1-rmse:0.77223\n",
      "[9]\tvalidation_0-rmse:0.61099\tvalidation_1-rmse:0.75773\n",
      "[10]\tvalidation_0-rmse:0.59095\tvalidation_1-rmse:0.74849\n",
      "[11]\tvalidation_0-rmse:0.58159\tvalidation_1-rmse:0.74574\n",
      "[12]\tvalidation_0-rmse:0.57324\tvalidation_1-rmse:0.74012\n",
      "[13]\tvalidation_0-rmse:0.56915\tvalidation_1-rmse:0.73705\n",
      "[14]\tvalidation_0-rmse:0.56543\tvalidation_1-rmse:0.73820\n",
      "[15]\tvalidation_0-rmse:0.55874\tvalidation_1-rmse:0.73774\n",
      "[16]\tvalidation_0-rmse:0.55458\tvalidation_1-rmse:0.73706\n",
      "[17]\tvalidation_0-rmse:0.54977\tvalidation_1-rmse:0.73748\n",
      "[18]\tvalidation_0-rmse:0.54824\tvalidation_1-rmse:0.73714\n",
      "[19]\tvalidation_0-rmse:0.54282\tvalidation_1-rmse:0.73924\n",
      "[20]\tvalidation_0-rmse:0.54080\tvalidation_1-rmse:0.74182\n",
      "[21]\tvalidation_0-rmse:0.53891\tvalidation_1-rmse:0.74142\n",
      "[22]\tvalidation_0-rmse:0.53401\tvalidation_1-rmse:0.73751\n",
      "[23]\tvalidation_0-rmse:0.53297\tvalidation_1-rmse:0.73460\n",
      "[24]\tvalidation_0-rmse:0.53134\tvalidation_1-rmse:0.73294\n",
      "[25]\tvalidation_0-rmse:0.52802\tvalidation_1-rmse:0.73399\n",
      "[26]\tvalidation_0-rmse:0.52376\tvalidation_1-rmse:0.73207\n",
      "[27]\tvalidation_0-rmse:0.51892\tvalidation_1-rmse:0.73713\n",
      "[28]\tvalidation_0-rmse:0.51663\tvalidation_1-rmse:0.73649\n",
      "[29]\tvalidation_0-rmse:0.51553\tvalidation_1-rmse:0.73697\n",
      "[30]\tvalidation_0-rmse:0.51384\tvalidation_1-rmse:0.73613\n",
      "[31]\tvalidation_0-rmse:0.51305\tvalidation_1-rmse:0.73525\n",
      "[32]\tvalidation_0-rmse:0.51048\tvalidation_1-rmse:0.73262\n",
      "[33]\tvalidation_0-rmse:0.50940\tvalidation_1-rmse:0.73344\n",
      "[34]\tvalidation_0-rmse:0.50643\tvalidation_1-rmse:0.72442\n",
      "[35]\tvalidation_0-rmse:0.50306\tvalidation_1-rmse:0.72464\n",
      "[36]\tvalidation_0-rmse:0.50189\tvalidation_1-rmse:0.72510\n",
      "[37]\tvalidation_0-rmse:0.49974\tvalidation_1-rmse:0.72483\n",
      "[38]\tvalidation_0-rmse:0.49795\tvalidation_1-rmse:0.72625\n",
      "[39]\tvalidation_0-rmse:0.49627\tvalidation_1-rmse:0.72820\n",
      "[40]\tvalidation_0-rmse:0.49282\tvalidation_1-rmse:0.72776\n",
      "[41]\tvalidation_0-rmse:0.49186\tvalidation_1-rmse:0.72850\n",
      "[42]\tvalidation_0-rmse:0.49083\tvalidation_1-rmse:0.72928\n",
      "[43]\tvalidation_0-rmse:0.48814\tvalidation_1-rmse:0.72904\n",
      "[44]\tvalidation_0-rmse:0.48573\tvalidation_1-rmse:0.72745\n",
      "[45]\tvalidation_0-rmse:0.48395\tvalidation_1-rmse:0.72923\n",
      "[46]\tvalidation_0-rmse:0.48344\tvalidation_1-rmse:0.72922\n",
      "[47]\tvalidation_0-rmse:0.48098\tvalidation_1-rmse:0.73064\n",
      "[48]\tvalidation_0-rmse:0.47870\tvalidation_1-rmse:0.73257\n",
      "[49]\tvalidation_0-rmse:0.47723\tvalidation_1-rmse:0.73023\n",
      "[50]\tvalidation_0-rmse:0.47499\tvalidation_1-rmse:0.73209\n",
      "[51]\tvalidation_0-rmse:0.47408\tvalidation_1-rmse:0.73236\n",
      "[52]\tvalidation_0-rmse:0.47149\tvalidation_1-rmse:0.73464\n",
      "[53]\tvalidation_0-rmse:0.46861\tvalidation_1-rmse:0.73463\n",
      "[54]\tvalidation_0-rmse:0.46700\tvalidation_1-rmse:0.73622\n",
      "[55]\tvalidation_0-rmse:0.46472\tvalidation_1-rmse:0.73486\n",
      "[56]\tvalidation_0-rmse:0.46300\tvalidation_1-rmse:0.73703\n",
      "[57]\tvalidation_0-rmse:0.46129\tvalidation_1-rmse:0.73677\n",
      "[58]\tvalidation_0-rmse:0.45987\tvalidation_1-rmse:0.73865\n",
      "[59]\tvalidation_0-rmse:0.45786\tvalidation_1-rmse:0.74120\n",
      "[60]\tvalidation_0-rmse:0.45731\tvalidation_1-rmse:0.74121\n",
      "[61]\tvalidation_0-rmse:0.45655\tvalidation_1-rmse:0.74133\n",
      "[62]\tvalidation_0-rmse:0.45458\tvalidation_1-rmse:0.74230\n",
      "[63]\tvalidation_0-rmse:0.45271\tvalidation_1-rmse:0.74275\n",
      "[64]\tvalidation_0-rmse:0.45108\tvalidation_1-rmse:0.74366\n",
      "[65]\tvalidation_0-rmse:0.45003\tvalidation_1-rmse:0.74536\n",
      "[66]\tvalidation_0-rmse:0.44837\tvalidation_1-rmse:0.74479\n",
      "[67]\tvalidation_0-rmse:0.44573\tvalidation_1-rmse:0.74398\n",
      "[68]\tvalidation_0-rmse:0.44464\tvalidation_1-rmse:0.74395\n",
      "[69]\tvalidation_0-rmse:0.44256\tvalidation_1-rmse:0.74476\n",
      "[70]\tvalidation_0-rmse:0.44015\tvalidation_1-rmse:0.74352\n",
      "[71]\tvalidation_0-rmse:0.43954\tvalidation_1-rmse:0.74471\n",
      "[72]\tvalidation_0-rmse:0.43864\tvalidation_1-rmse:0.74418\n",
      "[73]\tvalidation_0-rmse:0.43771\tvalidation_1-rmse:0.74301\n",
      "[74]\tvalidation_0-rmse:0.43528\tvalidation_1-rmse:0.74237\n",
      "[75]\tvalidation_0-rmse:0.43322\tvalidation_1-rmse:0.74380\n",
      "[76]\tvalidation_0-rmse:0.43228\tvalidation_1-rmse:0.74377\n",
      "[77]\tvalidation_0-rmse:0.43042\tvalidation_1-rmse:0.74491\n",
      "[78]\tvalidation_0-rmse:0.42899\tvalidation_1-rmse:0.74429\n",
      "[79]\tvalidation_0-rmse:0.42740\tvalidation_1-rmse:0.74621\n",
      "[80]\tvalidation_0-rmse:0.42615\tvalidation_1-rmse:0.74547\n",
      "[81]\tvalidation_0-rmse:0.42558\tvalidation_1-rmse:0.74585\n",
      "[82]\tvalidation_0-rmse:0.42526\tvalidation_1-rmse:0.74613\n",
      "[83]\tvalidation_0-rmse:0.42484\tvalidation_1-rmse:0.74570\n",
      "[84]\tvalidation_0-rmse:0.42365\tvalidation_1-rmse:0.74416\n",
      "[85]\tvalidation_0-rmse:0.42217\tvalidation_1-rmse:0.74653\n",
      "[86]\tvalidation_0-rmse:0.42174\tvalidation_1-rmse:0.74614\n",
      "[87]\tvalidation_0-rmse:0.42125\tvalidation_1-rmse:0.74521\n",
      "[88]\tvalidation_0-rmse:0.42009\tvalidation_1-rmse:0.74524\n",
      "[89]\tvalidation_0-rmse:0.41736\tvalidation_1-rmse:0.74511\n",
      "[90]\tvalidation_0-rmse:0.41643\tvalidation_1-rmse:0.74634\n",
      "[91]\tvalidation_0-rmse:0.41435\tvalidation_1-rmse:0.74437\n",
      "[92]\tvalidation_0-rmse:0.41250\tvalidation_1-rmse:0.74509\n",
      "[93]\tvalidation_0-rmse:0.41095\tvalidation_1-rmse:0.74390\n",
      "[94]\tvalidation_0-rmse:0.40997\tvalidation_1-rmse:0.74271\n",
      "[95]\tvalidation_0-rmse:0.40821\tvalidation_1-rmse:0.74134\n",
      "[96]\tvalidation_0-rmse:0.40631\tvalidation_1-rmse:0.74133\n",
      "[97]\tvalidation_0-rmse:0.40567\tvalidation_1-rmse:0.74207\n",
      "[98]\tvalidation_0-rmse:0.40404\tvalidation_1-rmse:0.74253\n",
      "[99]\tvalidation_0-rmse:0.40362\tvalidation_1-rmse:0.74235\n",
      "[100]\tvalidation_0-rmse:0.40184\tvalidation_1-rmse:0.74143\n",
      "[101]\tvalidation_0-rmse:0.40052\tvalidation_1-rmse:0.74107\n",
      "[102]\tvalidation_0-rmse:0.40025\tvalidation_1-rmse:0.74114\n",
      "[103]\tvalidation_0-rmse:0.39905\tvalidation_1-rmse:0.74274\n",
      "[104]\tvalidation_0-rmse:0.39777\tvalidation_1-rmse:0.74164\n",
      "[105]\tvalidation_0-rmse:0.39740\tvalidation_1-rmse:0.74189\n",
      "[106]\tvalidation_0-rmse:0.39706\tvalidation_1-rmse:0.74274\n",
      "[107]\tvalidation_0-rmse:0.39564\tvalidation_1-rmse:0.74315\n",
      "[108]\tvalidation_0-rmse:0.39410\tvalidation_1-rmse:0.74323\n",
      "[109]\tvalidation_0-rmse:0.39305\tvalidation_1-rmse:0.74260\n",
      "[110]\tvalidation_0-rmse:0.39180\tvalidation_1-rmse:0.74307\n",
      "[111]\tvalidation_0-rmse:0.39127\tvalidation_1-rmse:0.74316\n",
      "[112]\tvalidation_0-rmse:0.39013\tvalidation_1-rmse:0.74348\n",
      "[113]\tvalidation_0-rmse:0.38832\tvalidation_1-rmse:0.74331\n",
      "[114]\tvalidation_0-rmse:0.38675\tvalidation_1-rmse:0.74321\n",
      "[115]\tvalidation_0-rmse:0.38598\tvalidation_1-rmse:0.74369\n",
      "[116]\tvalidation_0-rmse:0.38541\tvalidation_1-rmse:0.74350\n",
      "[117]\tvalidation_0-rmse:0.38411\tvalidation_1-rmse:0.74177\n",
      "[118]\tvalidation_0-rmse:0.38220\tvalidation_1-rmse:0.73864\n",
      "[119]\tvalidation_0-rmse:0.38109\tvalidation_1-rmse:0.73886\n",
      "[120]\tvalidation_0-rmse:0.38031\tvalidation_1-rmse:0.73850\n",
      "[121]\tvalidation_0-rmse:0.37861\tvalidation_1-rmse:0.74158\n",
      "[122]\tvalidation_0-rmse:0.37739\tvalidation_1-rmse:0.74121\n",
      "[123]\tvalidation_0-rmse:0.37588\tvalidation_1-rmse:0.73749\n",
      "[124]\tvalidation_0-rmse:0.37405\tvalidation_1-rmse:0.73980\n",
      "[125]\tvalidation_0-rmse:0.37272\tvalidation_1-rmse:0.74052\n",
      "[126]\tvalidation_0-rmse:0.37137\tvalidation_1-rmse:0.73876\n",
      "[127]\tvalidation_0-rmse:0.37059\tvalidation_1-rmse:0.73873\n",
      "[128]\tvalidation_0-rmse:0.37031\tvalidation_1-rmse:0.73884\n",
      "[129]\tvalidation_0-rmse:0.36913\tvalidation_1-rmse:0.73774\n",
      "[130]\tvalidation_0-rmse:0.36713\tvalidation_1-rmse:0.73780\n",
      "[131]\tvalidation_0-rmse:0.36616\tvalidation_1-rmse:0.73803\n",
      "[132]\tvalidation_0-rmse:0.36597\tvalidation_1-rmse:0.73772\n",
      "[133]\tvalidation_0-rmse:0.36480\tvalidation_1-rmse:0.73929\n",
      "[134]\tvalidation_0-rmse:0.36376\tvalidation_1-rmse:0.74074\n",
      "[135]\tvalidation_0-rmse:0.36267\tvalidation_1-rmse:0.73885\n",
      "[136]\tvalidation_0-rmse:0.36211\tvalidation_1-rmse:0.73777\n",
      "[137]\tvalidation_0-rmse:0.36085\tvalidation_1-rmse:0.73941\n",
      "[138]\tvalidation_0-rmse:0.35974\tvalidation_1-rmse:0.73978\n",
      "[139]\tvalidation_0-rmse:0.35894\tvalidation_1-rmse:0.73953\n",
      "[140]\tvalidation_0-rmse:0.35861\tvalidation_1-rmse:0.73992\n",
      "[141]\tvalidation_0-rmse:0.35812\tvalidation_1-rmse:0.74064\n",
      "[142]\tvalidation_0-rmse:0.35798\tvalidation_1-rmse:0.74015\n",
      "[143]\tvalidation_0-rmse:0.35608\tvalidation_1-rmse:0.73929\n"
     ]
    },
    {
     "name": "stdout",
     "output_type": "stream",
     "text": [
      "[144]\tvalidation_0-rmse:0.35458\tvalidation_1-rmse:0.73863\n",
      "[145]\tvalidation_0-rmse:0.35316\tvalidation_1-rmse:0.73718\n",
      "[146]\tvalidation_0-rmse:0.35218\tvalidation_1-rmse:0.73677\n",
      "[147]\tvalidation_0-rmse:0.35147\tvalidation_1-rmse:0.73756\n",
      "[148]\tvalidation_0-rmse:0.35048\tvalidation_1-rmse:0.73741\n",
      "[149]\tvalidation_0-rmse:0.34887\tvalidation_1-rmse:0.73737\n",
      "[150]\tvalidation_0-rmse:0.34793\tvalidation_1-rmse:0.73843\n",
      "[151]\tvalidation_0-rmse:0.34625\tvalidation_1-rmse:0.73963\n",
      "[152]\tvalidation_0-rmse:0.34505\tvalidation_1-rmse:0.74192\n",
      "[153]\tvalidation_0-rmse:0.34391\tvalidation_1-rmse:0.74251\n",
      "[154]\tvalidation_0-rmse:0.34256\tvalidation_1-rmse:0.74094\n",
      "[155]\tvalidation_0-rmse:0.34162\tvalidation_1-rmse:0.74208\n",
      "[156]\tvalidation_0-rmse:0.34115\tvalidation_1-rmse:0.74223\n",
      "[157]\tvalidation_0-rmse:0.34018\tvalidation_1-rmse:0.74286\n",
      "[158]\tvalidation_0-rmse:0.33884\tvalidation_1-rmse:0.74261\n",
      "[159]\tvalidation_0-rmse:0.33789\tvalidation_1-rmse:0.74272\n",
      "[160]\tvalidation_0-rmse:0.33747\tvalidation_1-rmse:0.74369\n",
      "[161]\tvalidation_0-rmse:0.33551\tvalidation_1-rmse:0.74417\n",
      "[162]\tvalidation_0-rmse:0.33469\tvalidation_1-rmse:0.74365\n",
      "[163]\tvalidation_0-rmse:0.33392\tvalidation_1-rmse:0.74376\n",
      "[164]\tvalidation_0-rmse:0.33267\tvalidation_1-rmse:0.74386\n",
      "[165]\tvalidation_0-rmse:0.33173\tvalidation_1-rmse:0.74385\n",
      "[166]\tvalidation_0-rmse:0.33023\tvalidation_1-rmse:0.74308\n",
      "[167]\tvalidation_0-rmse:0.32949\tvalidation_1-rmse:0.74330\n",
      "[168]\tvalidation_0-rmse:0.32806\tvalidation_1-rmse:0.74226\n",
      "[169]\tvalidation_0-rmse:0.32797\tvalidation_1-rmse:0.74225\n",
      "[170]\tvalidation_0-rmse:0.32769\tvalidation_1-rmse:0.74240\n",
      "[171]\tvalidation_0-rmse:0.32728\tvalidation_1-rmse:0.74267\n",
      "[172]\tvalidation_0-rmse:0.32641\tvalidation_1-rmse:0.74226\n",
      "[173]\tvalidation_0-rmse:0.32516\tvalidation_1-rmse:0.74261\n",
      "[174]\tvalidation_0-rmse:0.32433\tvalidation_1-rmse:0.74210\n",
      "[175]\tvalidation_0-rmse:0.32366\tvalidation_1-rmse:0.74240\n",
      "[176]\tvalidation_0-rmse:0.32308\tvalidation_1-rmse:0.74162\n",
      "[177]\tvalidation_0-rmse:0.32257\tvalidation_1-rmse:0.74130\n",
      "[178]\tvalidation_0-rmse:0.32171\tvalidation_1-rmse:0.74188\n",
      "[179]\tvalidation_0-rmse:0.32071\tvalidation_1-rmse:0.74148\n",
      "[180]\tvalidation_0-rmse:0.32000\tvalidation_1-rmse:0.74241\n",
      "[181]\tvalidation_0-rmse:0.31987\tvalidation_1-rmse:0.74223\n",
      "[182]\tvalidation_0-rmse:0.31946\tvalidation_1-rmse:0.74271\n",
      "[183]\tvalidation_0-rmse:0.31926\tvalidation_1-rmse:0.74271\n",
      "[184]\tvalidation_0-rmse:0.31840\tvalidation_1-rmse:0.74363\n",
      "[185]\tvalidation_0-rmse:0.31784\tvalidation_1-rmse:0.74369\n",
      "[186]\tvalidation_0-rmse:0.31740\tvalidation_1-rmse:0.74405\n",
      "[187]\tvalidation_0-rmse:0.31648\tvalidation_1-rmse:0.74349\n",
      "[188]\tvalidation_0-rmse:0.31567\tvalidation_1-rmse:0.74438\n",
      "[189]\tvalidation_0-rmse:0.31432\tvalidation_1-rmse:0.74321\n",
      "[190]\tvalidation_0-rmse:0.31335\tvalidation_1-rmse:0.74323\n",
      "[191]\tvalidation_0-rmse:0.31228\tvalidation_1-rmse:0.74421\n",
      "[192]\tvalidation_0-rmse:0.31109\tvalidation_1-rmse:0.74461\n",
      "[193]\tvalidation_0-rmse:0.31027\tvalidation_1-rmse:0.74543\n",
      "[194]\tvalidation_0-rmse:0.30924\tvalidation_1-rmse:0.74594\n",
      "[195]\tvalidation_0-rmse:0.30869\tvalidation_1-rmse:0.74626\n",
      "[196]\tvalidation_0-rmse:0.30802\tvalidation_1-rmse:0.74619\n",
      "[197]\tvalidation_0-rmse:0.30707\tvalidation_1-rmse:0.74665\n",
      "[198]\tvalidation_0-rmse:0.30626\tvalidation_1-rmse:0.74635\n",
      "[199]\tvalidation_0-rmse:0.30495\tvalidation_1-rmse:0.74486\n",
      "[200]\tvalidation_0-rmse:0.30459\tvalidation_1-rmse:0.74511\n",
      "[201]\tvalidation_0-rmse:0.30431\tvalidation_1-rmse:0.74465\n",
      "[202]\tvalidation_0-rmse:0.30385\tvalidation_1-rmse:0.74494\n",
      "[203]\tvalidation_0-rmse:0.30343\tvalidation_1-rmse:0.74486\n",
      "[204]\tvalidation_0-rmse:0.30321\tvalidation_1-rmse:0.74494\n",
      "[205]\tvalidation_0-rmse:0.30177\tvalidation_1-rmse:0.74509\n",
      "[206]\tvalidation_0-rmse:0.30142\tvalidation_1-rmse:0.74503\n",
      "[207]\tvalidation_0-rmse:0.30078\tvalidation_1-rmse:0.74522\n",
      "[208]\tvalidation_0-rmse:0.29999\tvalidation_1-rmse:0.74614\n",
      "[209]\tvalidation_0-rmse:0.29901\tvalidation_1-rmse:0.74691\n",
      "[210]\tvalidation_0-rmse:0.29803\tvalidation_1-rmse:0.74740\n",
      "[211]\tvalidation_0-rmse:0.29696\tvalidation_1-rmse:0.74826\n",
      "[212]\tvalidation_0-rmse:0.29606\tvalidation_1-rmse:0.74720\n",
      "[213]\tvalidation_0-rmse:0.29559\tvalidation_1-rmse:0.74724\n",
      "[214]\tvalidation_0-rmse:0.29434\tvalidation_1-rmse:0.74721\n",
      "[215]\tvalidation_0-rmse:0.29406\tvalidation_1-rmse:0.74733\n",
      "[216]\tvalidation_0-rmse:0.29352\tvalidation_1-rmse:0.74782\n",
      "[217]\tvalidation_0-rmse:0.29319\tvalidation_1-rmse:0.74788\n",
      "[218]\tvalidation_0-rmse:0.29209\tvalidation_1-rmse:0.74726\n",
      "[219]\tvalidation_0-rmse:0.29100\tvalidation_1-rmse:0.74477\n",
      "[220]\tvalidation_0-rmse:0.29046\tvalidation_1-rmse:0.74568\n",
      "[221]\tvalidation_0-rmse:0.28997\tvalidation_1-rmse:0.74611\n",
      "[222]\tvalidation_0-rmse:0.28873\tvalidation_1-rmse:0.74656\n",
      "[223]\tvalidation_0-rmse:0.28811\tvalidation_1-rmse:0.74629\n",
      "[224]\tvalidation_0-rmse:0.28760\tvalidation_1-rmse:0.74579\n",
      "[225]\tvalidation_0-rmse:0.28629\tvalidation_1-rmse:0.74605\n",
      "[226]\tvalidation_0-rmse:0.28601\tvalidation_1-rmse:0.74578\n",
      "[227]\tvalidation_0-rmse:0.28515\tvalidation_1-rmse:0.74602\n",
      "[228]\tvalidation_0-rmse:0.28461\tvalidation_1-rmse:0.74589\n",
      "[229]\tvalidation_0-rmse:0.28414\tvalidation_1-rmse:0.74619\n",
      "[230]\tvalidation_0-rmse:0.28396\tvalidation_1-rmse:0.74631\n",
      "[231]\tvalidation_0-rmse:0.28307\tvalidation_1-rmse:0.74637\n",
      "[232]\tvalidation_0-rmse:0.28201\tvalidation_1-rmse:0.74494\n",
      "[233]\tvalidation_0-rmse:0.28110\tvalidation_1-rmse:0.74530\n",
      "[234]\tvalidation_0-rmse:0.28011\tvalidation_1-rmse:0.74512\n",
      "[235]\tvalidation_0-rmse:0.27913\tvalidation_1-rmse:0.74472\n",
      "[236]\tvalidation_0-rmse:0.27865\tvalidation_1-rmse:0.74478\n",
      "[237]\tvalidation_0-rmse:0.27824\tvalidation_1-rmse:0.74464\n",
      "[238]\tvalidation_0-rmse:0.27761\tvalidation_1-rmse:0.74418\n",
      "[239]\tvalidation_0-rmse:0.27690\tvalidation_1-rmse:0.74286\n",
      "[240]\tvalidation_0-rmse:0.27678\tvalidation_1-rmse:0.74304\n",
      "[241]\tvalidation_0-rmse:0.27609\tvalidation_1-rmse:0.74303\n",
      "[242]\tvalidation_0-rmse:0.27542\tvalidation_1-rmse:0.74328\n",
      "[243]\tvalidation_0-rmse:0.27484\tvalidation_1-rmse:0.74474\n",
      "[244]\tvalidation_0-rmse:0.27439\tvalidation_1-rmse:0.74523\n",
      "[245]\tvalidation_0-rmse:0.27370\tvalidation_1-rmse:0.74784\n",
      "[246]\tvalidation_0-rmse:0.27341\tvalidation_1-rmse:0.74805\n",
      "[247]\tvalidation_0-rmse:0.27323\tvalidation_1-rmse:0.74780\n",
      "[248]\tvalidation_0-rmse:0.27270\tvalidation_1-rmse:0.74874\n",
      "[249]\tvalidation_0-rmse:0.27244\tvalidation_1-rmse:0.74863\n",
      "[250]\tvalidation_0-rmse:0.27173\tvalidation_1-rmse:0.74919\n",
      "[251]\tvalidation_0-rmse:0.27149\tvalidation_1-rmse:0.74900\n",
      "[252]\tvalidation_0-rmse:0.27088\tvalidation_1-rmse:0.74951\n",
      "[253]\tvalidation_0-rmse:0.27044\tvalidation_1-rmse:0.74956\n",
      "[254]\tvalidation_0-rmse:0.26989\tvalidation_1-rmse:0.75029\n",
      "[255]\tvalidation_0-rmse:0.26932\tvalidation_1-rmse:0.75160\n",
      "[256]\tvalidation_0-rmse:0.26894\tvalidation_1-rmse:0.75143\n",
      "[257]\tvalidation_0-rmse:0.26828\tvalidation_1-rmse:0.75189\n",
      "[258]\tvalidation_0-rmse:0.26773\tvalidation_1-rmse:0.75169\n",
      "[259]\tvalidation_0-rmse:0.26671\tvalidation_1-rmse:0.75125\n",
      "[260]\tvalidation_0-rmse:0.26608\tvalidation_1-rmse:0.75167\n",
      "[261]\tvalidation_0-rmse:0.26529\tvalidation_1-rmse:0.75180\n",
      "[262]\tvalidation_0-rmse:0.26454\tvalidation_1-rmse:0.75152\n",
      "[263]\tvalidation_0-rmse:0.26384\tvalidation_1-rmse:0.75199\n",
      "[264]\tvalidation_0-rmse:0.26378\tvalidation_1-rmse:0.75224\n",
      "[265]\tvalidation_0-rmse:0.26372\tvalidation_1-rmse:0.75236\n",
      "[266]\tvalidation_0-rmse:0.26313\tvalidation_1-rmse:0.75214\n",
      "[267]\tvalidation_0-rmse:0.26256\tvalidation_1-rmse:0.75240\n",
      "[268]\tvalidation_0-rmse:0.26239\tvalidation_1-rmse:0.75187\n",
      "[269]\tvalidation_0-rmse:0.26178\tvalidation_1-rmse:0.75178\n",
      "[270]\tvalidation_0-rmse:0.26136\tvalidation_1-rmse:0.75216\n",
      "[271]\tvalidation_0-rmse:0.26084\tvalidation_1-rmse:0.75278\n",
      "[272]\tvalidation_0-rmse:0.26034\tvalidation_1-rmse:0.75324\n",
      "[273]\tvalidation_0-rmse:0.26005\tvalidation_1-rmse:0.75365\n",
      "[274]\tvalidation_0-rmse:0.25971\tvalidation_1-rmse:0.75355\n",
      "[275]\tvalidation_0-rmse:0.25932\tvalidation_1-rmse:0.75373\n",
      "[276]\tvalidation_0-rmse:0.25828\tvalidation_1-rmse:0.75221\n",
      "[277]\tvalidation_0-rmse:0.25791\tvalidation_1-rmse:0.75257\n",
      "[278]\tvalidation_0-rmse:0.25731\tvalidation_1-rmse:0.75296\n",
      "[279]\tvalidation_0-rmse:0.25666\tvalidation_1-rmse:0.75305\n",
      "[280]\tvalidation_0-rmse:0.25552\tvalidation_1-rmse:0.75349\n",
      "[281]\tvalidation_0-rmse:0.25510\tvalidation_1-rmse:0.75372\n",
      "[282]\tvalidation_0-rmse:0.25488\tvalidation_1-rmse:0.75408\n",
      "[283]\tvalidation_0-rmse:0.25402\tvalidation_1-rmse:0.75381\n",
      "[284]\tvalidation_0-rmse:0.25392\tvalidation_1-rmse:0.75384\n",
      "[285]\tvalidation_0-rmse:0.25292\tvalidation_1-rmse:0.75345\n"
     ]
    },
    {
     "name": "stdout",
     "output_type": "stream",
     "text": [
      "[286]\tvalidation_0-rmse:0.25235\tvalidation_1-rmse:0.75237\n",
      "[287]\tvalidation_0-rmse:0.25150\tvalidation_1-rmse:0.75280\n",
      "[288]\tvalidation_0-rmse:0.25114\tvalidation_1-rmse:0.75287\n",
      "[289]\tvalidation_0-rmse:0.25055\tvalidation_1-rmse:0.75307\n",
      "[290]\tvalidation_0-rmse:0.25002\tvalidation_1-rmse:0.75339\n",
      "[291]\tvalidation_0-rmse:0.24949\tvalidation_1-rmse:0.75320\n",
      "[292]\tvalidation_0-rmse:0.24885\tvalidation_1-rmse:0.75267\n",
      "[293]\tvalidation_0-rmse:0.24870\tvalidation_1-rmse:0.75285\n",
      "[294]\tvalidation_0-rmse:0.24820\tvalidation_1-rmse:0.75279\n",
      "[295]\tvalidation_0-rmse:0.24745\tvalidation_1-rmse:0.75292\n",
      "[296]\tvalidation_0-rmse:0.24656\tvalidation_1-rmse:0.75394\n",
      "[297]\tvalidation_0-rmse:0.24611\tvalidation_1-rmse:0.75371\n",
      "[298]\tvalidation_0-rmse:0.24539\tvalidation_1-rmse:0.75326\n",
      "[299]\tvalidation_0-rmse:0.24484\tvalidation_1-rmse:0.75282\n",
      "[300]\tvalidation_0-rmse:0.24404\tvalidation_1-rmse:0.75294\n",
      "[301]\tvalidation_0-rmse:0.24330\tvalidation_1-rmse:0.75278\n",
      "[302]\tvalidation_0-rmse:0.24264\tvalidation_1-rmse:0.75275\n",
      "[303]\tvalidation_0-rmse:0.24194\tvalidation_1-rmse:0.75279\n",
      "[304]\tvalidation_0-rmse:0.24133\tvalidation_1-rmse:0.75316\n",
      "[305]\tvalidation_0-rmse:0.24081\tvalidation_1-rmse:0.75370\n",
      "[306]\tvalidation_0-rmse:0.24020\tvalidation_1-rmse:0.75374\n",
      "[307]\tvalidation_0-rmse:0.23949\tvalidation_1-rmse:0.75541\n",
      "[308]\tvalidation_0-rmse:0.23877\tvalidation_1-rmse:0.75583\n",
      "[309]\tvalidation_0-rmse:0.23808\tvalidation_1-rmse:0.75528\n",
      "[310]\tvalidation_0-rmse:0.23745\tvalidation_1-rmse:0.75589\n",
      "[311]\tvalidation_0-rmse:0.23682\tvalidation_1-rmse:0.75538\n",
      "[312]\tvalidation_0-rmse:0.23627\tvalidation_1-rmse:0.75536\n",
      "[313]\tvalidation_0-rmse:0.23578\tvalidation_1-rmse:0.75511\n",
      "[314]\tvalidation_0-rmse:0.23565\tvalidation_1-rmse:0.75518\n",
      "[315]\tvalidation_0-rmse:0.23467\tvalidation_1-rmse:0.75523\n",
      "[316]\tvalidation_0-rmse:0.23397\tvalidation_1-rmse:0.75570\n",
      "[317]\tvalidation_0-rmse:0.23319\tvalidation_1-rmse:0.75562\n",
      "[318]\tvalidation_0-rmse:0.23289\tvalidation_1-rmse:0.75498\n",
      "[319]\tvalidation_0-rmse:0.23232\tvalidation_1-rmse:0.75492\n",
      "[320]\tvalidation_0-rmse:0.23196\tvalidation_1-rmse:0.75517\n",
      "[321]\tvalidation_0-rmse:0.23143\tvalidation_1-rmse:0.75551\n",
      "[322]\tvalidation_0-rmse:0.23100\tvalidation_1-rmse:0.75607\n",
      "[323]\tvalidation_0-rmse:0.23032\tvalidation_1-rmse:0.75558\n",
      "[324]\tvalidation_0-rmse:0.23014\tvalidation_1-rmse:0.75635\n",
      "[325]\tvalidation_0-rmse:0.22898\tvalidation_1-rmse:0.75671\n",
      "[326]\tvalidation_0-rmse:0.22857\tvalidation_1-rmse:0.75651\n",
      "[327]\tvalidation_0-rmse:0.22789\tvalidation_1-rmse:0.75553\n",
      "[328]\tvalidation_0-rmse:0.22742\tvalidation_1-rmse:0.75421\n",
      "[329]\tvalidation_0-rmse:0.22698\tvalidation_1-rmse:0.75441\n",
      "[330]\tvalidation_0-rmse:0.22633\tvalidation_1-rmse:0.75344\n",
      "[331]\tvalidation_0-rmse:0.22589\tvalidation_1-rmse:0.75441\n",
      "[332]\tvalidation_0-rmse:0.22531\tvalidation_1-rmse:0.75453\n",
      "[333]\tvalidation_0-rmse:0.22490\tvalidation_1-rmse:0.75485\n",
      "[334]\tvalidation_0-rmse:0.22461\tvalidation_1-rmse:0.75470\n",
      "[335]\tvalidation_0-rmse:0.22451\tvalidation_1-rmse:0.75474\n",
      "[336]\tvalidation_0-rmse:0.22392\tvalidation_1-rmse:0.75563\n",
      "[337]\tvalidation_0-rmse:0.22355\tvalidation_1-rmse:0.75646\n",
      "[338]\tvalidation_0-rmse:0.22292\tvalidation_1-rmse:0.75668\n",
      "[339]\tvalidation_0-rmse:0.22260\tvalidation_1-rmse:0.75691\n",
      "[340]\tvalidation_0-rmse:0.22249\tvalidation_1-rmse:0.75694\n",
      "[341]\tvalidation_0-rmse:0.22233\tvalidation_1-rmse:0.75688\n",
      "[342]\tvalidation_0-rmse:0.22216\tvalidation_1-rmse:0.75710\n",
      "[343]\tvalidation_0-rmse:0.22158\tvalidation_1-rmse:0.75640\n",
      "[344]\tvalidation_0-rmse:0.22093\tvalidation_1-rmse:0.75728\n",
      "[345]\tvalidation_0-rmse:0.22003\tvalidation_1-rmse:0.75765\n",
      "[346]\tvalidation_0-rmse:0.21994\tvalidation_1-rmse:0.75784\n",
      "[347]\tvalidation_0-rmse:0.21985\tvalidation_1-rmse:0.75745\n",
      "[348]\tvalidation_0-rmse:0.21906\tvalidation_1-rmse:0.75811\n",
      "[349]\tvalidation_0-rmse:0.21848\tvalidation_1-rmse:0.75828\n",
      "[350]\tvalidation_0-rmse:0.21792\tvalidation_1-rmse:0.75858\n",
      "[351]\tvalidation_0-rmse:0.21760\tvalidation_1-rmse:0.75826\n",
      "[352]\tvalidation_0-rmse:0.21688\tvalidation_1-rmse:0.75848\n",
      "[353]\tvalidation_0-rmse:0.21676\tvalidation_1-rmse:0.75870\n",
      "[354]\tvalidation_0-rmse:0.21577\tvalidation_1-rmse:0.75893\n",
      "[355]\tvalidation_0-rmse:0.21544\tvalidation_1-rmse:0.75919\n",
      "[356]\tvalidation_0-rmse:0.21510\tvalidation_1-rmse:0.75882\n",
      "[357]\tvalidation_0-rmse:0.21452\tvalidation_1-rmse:0.75872\n",
      "[358]\tvalidation_0-rmse:0.21405\tvalidation_1-rmse:0.75901\n",
      "[359]\tvalidation_0-rmse:0.21369\tvalidation_1-rmse:0.75887\n",
      "[360]\tvalidation_0-rmse:0.21295\tvalidation_1-rmse:0.75833\n",
      "[361]\tvalidation_0-rmse:0.21262\tvalidation_1-rmse:0.75832\n",
      "[362]\tvalidation_0-rmse:0.21208\tvalidation_1-rmse:0.75903\n",
      "[363]\tvalidation_0-rmse:0.21113\tvalidation_1-rmse:0.75814\n",
      "[364]\tvalidation_0-rmse:0.21049\tvalidation_1-rmse:0.75815\n",
      "[365]\tvalidation_0-rmse:0.21032\tvalidation_1-rmse:0.75779\n",
      "[366]\tvalidation_0-rmse:0.21019\tvalidation_1-rmse:0.75762\n",
      "[367]\tvalidation_0-rmse:0.20977\tvalidation_1-rmse:0.75805\n",
      "[368]\tvalidation_0-rmse:0.20922\tvalidation_1-rmse:0.75793\n",
      "[369]\tvalidation_0-rmse:0.20875\tvalidation_1-rmse:0.75787\n",
      "[370]\tvalidation_0-rmse:0.20843\tvalidation_1-rmse:0.75828\n",
      "[371]\tvalidation_0-rmse:0.20813\tvalidation_1-rmse:0.75845\n",
      "[372]\tvalidation_0-rmse:0.20786\tvalidation_1-rmse:0.75847\n",
      "[373]\tvalidation_0-rmse:0.20774\tvalidation_1-rmse:0.75846\n",
      "[374]\tvalidation_0-rmse:0.20749\tvalidation_1-rmse:0.75875\n",
      "[375]\tvalidation_0-rmse:0.20695\tvalidation_1-rmse:0.75818\n",
      "[376]\tvalidation_0-rmse:0.20625\tvalidation_1-rmse:0.75828\n",
      "[377]\tvalidation_0-rmse:0.20569\tvalidation_1-rmse:0.75783\n",
      "[378]\tvalidation_0-rmse:0.20537\tvalidation_1-rmse:0.75803\n",
      "[379]\tvalidation_0-rmse:0.20468\tvalidation_1-rmse:0.75800\n",
      "[380]\tvalidation_0-rmse:0.20427\tvalidation_1-rmse:0.75838\n",
      "[381]\tvalidation_0-rmse:0.20365\tvalidation_1-rmse:0.75837\n",
      "[382]\tvalidation_0-rmse:0.20324\tvalidation_1-rmse:0.75852\n",
      "[383]\tvalidation_0-rmse:0.20276\tvalidation_1-rmse:0.75853\n",
      "[384]\tvalidation_0-rmse:0.20242\tvalidation_1-rmse:0.75810\n",
      "[385]\tvalidation_0-rmse:0.20216\tvalidation_1-rmse:0.75847\n",
      "[386]\tvalidation_0-rmse:0.20174\tvalidation_1-rmse:0.75870\n",
      "[387]\tvalidation_0-rmse:0.20126\tvalidation_1-rmse:0.75886\n",
      "[388]\tvalidation_0-rmse:0.20077\tvalidation_1-rmse:0.75947\n",
      "[389]\tvalidation_0-rmse:0.20009\tvalidation_1-rmse:0.75945\n",
      "[390]\tvalidation_0-rmse:0.19947\tvalidation_1-rmse:0.76020\n",
      "[391]\tvalidation_0-rmse:0.19900\tvalidation_1-rmse:0.75999\n",
      "[392]\tvalidation_0-rmse:0.19876\tvalidation_1-rmse:0.76001\n",
      "[393]\tvalidation_0-rmse:0.19842\tvalidation_1-rmse:0.75989\n",
      "[394]\tvalidation_0-rmse:0.19826\tvalidation_1-rmse:0.76000\n",
      "[395]\tvalidation_0-rmse:0.19821\tvalidation_1-rmse:0.75989\n",
      "[396]\tvalidation_0-rmse:0.19804\tvalidation_1-rmse:0.75993\n",
      "[397]\tvalidation_0-rmse:0.19767\tvalidation_1-rmse:0.76025\n",
      "[398]\tvalidation_0-rmse:0.19719\tvalidation_1-rmse:0.76039\n",
      "[399]\tvalidation_0-rmse:0.19677\tvalidation_1-rmse:0.75988\n",
      "[400]\tvalidation_0-rmse:0.19629\tvalidation_1-rmse:0.76015\n",
      "[401]\tvalidation_0-rmse:0.19606\tvalidation_1-rmse:0.76019\n",
      "[402]\tvalidation_0-rmse:0.19571\tvalidation_1-rmse:0.76035\n",
      "[403]\tvalidation_0-rmse:0.19528\tvalidation_1-rmse:0.76070\n",
      "[404]\tvalidation_0-rmse:0.19471\tvalidation_1-rmse:0.76121\n",
      "[405]\tvalidation_0-rmse:0.19419\tvalidation_1-rmse:0.76187\n",
      "[406]\tvalidation_0-rmse:0.19375\tvalidation_1-rmse:0.76195\n",
      "[407]\tvalidation_0-rmse:0.19358\tvalidation_1-rmse:0.76218\n",
      "[408]\tvalidation_0-rmse:0.19324\tvalidation_1-rmse:0.76224\n",
      "[409]\tvalidation_0-rmse:0.19281\tvalidation_1-rmse:0.76213\n",
      "[410]\tvalidation_0-rmse:0.19220\tvalidation_1-rmse:0.76232\n",
      "[411]\tvalidation_0-rmse:0.19201\tvalidation_1-rmse:0.76244\n",
      "[412]\tvalidation_0-rmse:0.19172\tvalidation_1-rmse:0.76242\n",
      "[413]\tvalidation_0-rmse:0.19159\tvalidation_1-rmse:0.76243\n",
      "[414]\tvalidation_0-rmse:0.19140\tvalidation_1-rmse:0.76240\n",
      "[415]\tvalidation_0-rmse:0.19063\tvalidation_1-rmse:0.76323\n",
      "[416]\tvalidation_0-rmse:0.19018\tvalidation_1-rmse:0.76345\n",
      "[417]\tvalidation_0-rmse:0.18974\tvalidation_1-rmse:0.76411\n",
      "[418]\tvalidation_0-rmse:0.18936\tvalidation_1-rmse:0.76512\n",
      "[419]\tvalidation_0-rmse:0.18901\tvalidation_1-rmse:0.76488\n",
      "[420]\tvalidation_0-rmse:0.18863\tvalidation_1-rmse:0.76549\n",
      "[421]\tvalidation_0-rmse:0.18838\tvalidation_1-rmse:0.76412\n",
      "[422]\tvalidation_0-rmse:0.18752\tvalidation_1-rmse:0.76353\n",
      "[423]\tvalidation_0-rmse:0.18737\tvalidation_1-rmse:0.76336\n",
      "[424]\tvalidation_0-rmse:0.18694\tvalidation_1-rmse:0.76301\n",
      "[425]\tvalidation_0-rmse:0.18684\tvalidation_1-rmse:0.76316\n",
      "[426]\tvalidation_0-rmse:0.18667\tvalidation_1-rmse:0.76313\n",
      "[427]\tvalidation_0-rmse:0.18637\tvalidation_1-rmse:0.76253\n"
     ]
    },
    {
     "name": "stdout",
     "output_type": "stream",
     "text": [
      "[428]\tvalidation_0-rmse:0.18628\tvalidation_1-rmse:0.76272\n",
      "[429]\tvalidation_0-rmse:0.18595\tvalidation_1-rmse:0.76277\n",
      "[430]\tvalidation_0-rmse:0.18539\tvalidation_1-rmse:0.76283\n",
      "[431]\tvalidation_0-rmse:0.18485\tvalidation_1-rmse:0.76338\n",
      "[432]\tvalidation_0-rmse:0.18421\tvalidation_1-rmse:0.76341\n",
      "[433]\tvalidation_0-rmse:0.18399\tvalidation_1-rmse:0.76358\n",
      "[434]\tvalidation_0-rmse:0.18361\tvalidation_1-rmse:0.76406\n",
      "[435]\tvalidation_0-rmse:0.18302\tvalidation_1-rmse:0.76451\n",
      "[436]\tvalidation_0-rmse:0.18279\tvalidation_1-rmse:0.76496\n",
      "[437]\tvalidation_0-rmse:0.18266\tvalidation_1-rmse:0.76518\n",
      "[438]\tvalidation_0-rmse:0.18258\tvalidation_1-rmse:0.76519\n",
      "[439]\tvalidation_0-rmse:0.18224\tvalidation_1-rmse:0.76509\n",
      "[440]\tvalidation_0-rmse:0.18170\tvalidation_1-rmse:0.76423\n",
      "[441]\tvalidation_0-rmse:0.18160\tvalidation_1-rmse:0.76406\n",
      "[442]\tvalidation_0-rmse:0.18121\tvalidation_1-rmse:0.76382\n",
      "[443]\tvalidation_0-rmse:0.18087\tvalidation_1-rmse:0.76337\n",
      "[444]\tvalidation_0-rmse:0.18059\tvalidation_1-rmse:0.76307\n",
      "[445]\tvalidation_0-rmse:0.18015\tvalidation_1-rmse:0.76326\n",
      "[446]\tvalidation_0-rmse:0.17923\tvalidation_1-rmse:0.76226\n",
      "[447]\tvalidation_0-rmse:0.17870\tvalidation_1-rmse:0.76289\n",
      "[448]\tvalidation_0-rmse:0.17846\tvalidation_1-rmse:0.76267\n",
      "[449]\tvalidation_0-rmse:0.17806\tvalidation_1-rmse:0.76287\n",
      "[450]\tvalidation_0-rmse:0.17763\tvalidation_1-rmse:0.76299\n",
      "[451]\tvalidation_0-rmse:0.17724\tvalidation_1-rmse:0.76320\n",
      "[452]\tvalidation_0-rmse:0.17680\tvalidation_1-rmse:0.76323\n",
      "[453]\tvalidation_0-rmse:0.17649\tvalidation_1-rmse:0.76364\n",
      "[454]\tvalidation_0-rmse:0.17626\tvalidation_1-rmse:0.76326\n",
      "[455]\tvalidation_0-rmse:0.17583\tvalidation_1-rmse:0.76316\n",
      "[456]\tvalidation_0-rmse:0.17515\tvalidation_1-rmse:0.76305\n",
      "[457]\tvalidation_0-rmse:0.17466\tvalidation_1-rmse:0.76301\n",
      "[458]\tvalidation_0-rmse:0.17415\tvalidation_1-rmse:0.76304\n",
      "[459]\tvalidation_0-rmse:0.17382\tvalidation_1-rmse:0.76279\n",
      "[460]\tvalidation_0-rmse:0.17324\tvalidation_1-rmse:0.76268\n",
      "[461]\tvalidation_0-rmse:0.17285\tvalidation_1-rmse:0.76242\n",
      "[462]\tvalidation_0-rmse:0.17259\tvalidation_1-rmse:0.76238\n",
      "[463]\tvalidation_0-rmse:0.17212\tvalidation_1-rmse:0.76336\n",
      "[464]\tvalidation_0-rmse:0.17186\tvalidation_1-rmse:0.76325\n",
      "[465]\tvalidation_0-rmse:0.17146\tvalidation_1-rmse:0.76356\n",
      "[466]\tvalidation_0-rmse:0.17142\tvalidation_1-rmse:0.76359\n",
      "[467]\tvalidation_0-rmse:0.17100\tvalidation_1-rmse:0.76329\n",
      "[468]\tvalidation_0-rmse:0.17071\tvalidation_1-rmse:0.76276\n",
      "[469]\tvalidation_0-rmse:0.17026\tvalidation_1-rmse:0.76319\n",
      "[470]\tvalidation_0-rmse:0.16997\tvalidation_1-rmse:0.76361\n",
      "[471]\tvalidation_0-rmse:0.16971\tvalidation_1-rmse:0.76280\n",
      "[472]\tvalidation_0-rmse:0.16920\tvalidation_1-rmse:0.76282\n",
      "[473]\tvalidation_0-rmse:0.16912\tvalidation_1-rmse:0.76299\n",
      "[474]\tvalidation_0-rmse:0.16894\tvalidation_1-rmse:0.76287\n",
      "[475]\tvalidation_0-rmse:0.16871\tvalidation_1-rmse:0.76272\n",
      "[476]\tvalidation_0-rmse:0.16855\tvalidation_1-rmse:0.76251\n",
      "[477]\tvalidation_0-rmse:0.16821\tvalidation_1-rmse:0.76248\n",
      "[478]\tvalidation_0-rmse:0.16796\tvalidation_1-rmse:0.76243\n",
      "[479]\tvalidation_0-rmse:0.16759\tvalidation_1-rmse:0.76242\n",
      "[480]\tvalidation_0-rmse:0.16727\tvalidation_1-rmse:0.76228\n",
      "[481]\tvalidation_0-rmse:0.16699\tvalidation_1-rmse:0.76242\n",
      "[482]\tvalidation_0-rmse:0.16670\tvalidation_1-rmse:0.76213\n",
      "[483]\tvalidation_0-rmse:0.16664\tvalidation_1-rmse:0.76250\n",
      "[484]\tvalidation_0-rmse:0.16626\tvalidation_1-rmse:0.76255\n",
      "[485]\tvalidation_0-rmse:0.16624\tvalidation_1-rmse:0.76262\n",
      "[486]\tvalidation_0-rmse:0.16589\tvalidation_1-rmse:0.76284\n",
      "[487]\tvalidation_0-rmse:0.16586\tvalidation_1-rmse:0.76280\n",
      "[488]\tvalidation_0-rmse:0.16527\tvalidation_1-rmse:0.76278\n",
      "[489]\tvalidation_0-rmse:0.16486\tvalidation_1-rmse:0.76340\n",
      "[490]\tvalidation_0-rmse:0.16452\tvalidation_1-rmse:0.76307\n",
      "[491]\tvalidation_0-rmse:0.16415\tvalidation_1-rmse:0.76315\n",
      "[492]\tvalidation_0-rmse:0.16372\tvalidation_1-rmse:0.76336\n",
      "[493]\tvalidation_0-rmse:0.16357\tvalidation_1-rmse:0.76317\n",
      "[494]\tvalidation_0-rmse:0.16302\tvalidation_1-rmse:0.76298\n",
      "[495]\tvalidation_0-rmse:0.16257\tvalidation_1-rmse:0.76344\n",
      "[496]\tvalidation_0-rmse:0.16228\tvalidation_1-rmse:0.76350\n",
      "[497]\tvalidation_0-rmse:0.16217\tvalidation_1-rmse:0.76330\n",
      "[498]\tvalidation_0-rmse:0.16209\tvalidation_1-rmse:0.76332\n",
      "[499]\tvalidation_0-rmse:0.16171\tvalidation_1-rmse:0.76332\n"
     ]
    }
   ],
   "source": [
    "model = XGBRegressor(n_estimators = 500,\n",
    "                     max_depth=3);\n",
    "model.fit(X_train,y_train, eval_metric='rmse', eval_set=evalset);"
   ]
  },
  {
   "cell_type": "markdown",
   "metadata": {},
   "source": [
    "# Evaluation\n"
   ]
  },
  {
   "cell_type": "code",
   "execution_count": 29,
   "metadata": {},
   "outputs": [
    {
     "data": {
      "image/png": "[encoded data removed]",
      "text/plain": [
       "<Figure size 432x288 with 1 Axes>"
      ]
     },
     "metadata": {
      "needs_background": "light"
     },
     "output_type": "display_data"
    }
   ],
   "source": [
    "plot_importance(model)\n",
    "pyplot.show()"
   ]
  },
  {
   "cell_type": "code",
   "execution_count": 30,
   "metadata": {},
   "outputs": [
    {
     "data": {
      "image/png": "[encoded data removed]",
      "text/plain": [
       "<Figure size 432x288 with 1 Axes>"
      ]
     },
     "metadata": {
      "needs_background": "light"
     },
     "output_type": "display_data"
    }
   ],
   "source": [
    "results = model.evals_result()\n",
    "pyplot.plot(results['validation_0']['rmse'], label='train')\n",
    "pyplot.plot(results['validation_1']['rmse'], label='test')\n",
    "# show the legend\n",
    "pyplot.legend()\n",
    "# show the plot\n",
    "pyplot.show()"
   ]
  },
  {
   "cell_type": "code",
   "execution_count": null,
   "metadata": {},
   "outputs": [],
   "source": []
  }
 ],
 "metadata": {
  "kernelspec": {
   "display_name": "Python 3",
   "language": "python",
   "name": "python3"
  },
  "language_info": {
   "codemirror_mode": {
    "name": "ipython",
    "version": 3
   },
   "file_extension": ".py",
   "mimetype": "text/x-python",
   "name": "python",
   "nbconvert_exporter": "python",
   "pygments_lexer": "ipython3",
   "version": "3.8.5"
  }
 },
 "nbformat": 4,
 "nbformat_minor": 5
}
