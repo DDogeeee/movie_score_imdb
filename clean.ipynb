{
 "cells": [
  {
   "cell_type": "code",
   "execution_count": 1,
   "metadata": {},
   "outputs": [],
   "source": [
    "import pandas as pd\n",
    "import numpy as np "
   ]
  },
  {
   "cell_type": "code",
   "execution_count": 2,
   "metadata": {},
   "outputs": [],
   "source": [
    "df = pd.read_csv('data.csv')"
   ]
  },
  {
   "cell_type": "code",
   "execution_count": 3,
   "metadata": {},
   "outputs": [
    {
     "data": {
      "text/plain": [
       "array(['movie', 'tv series', 'tv mini series', 'tv movie', 'video movie',\n",
       "       'podcast series', 'episode', 'video game', 'music video',\n",
       "       'tv short', nan], dtype=object)"
      ]
     },
     "execution_count": 3,
     "metadata": {},
     "output_type": "execute_result"
    }
   ],
   "source": [
    "df['kind'].unique()"
   ]
  },
  {
   "cell_type": "code",
   "execution_count": 4,
   "metadata": {},
   "outputs": [
    {
     "data": {
      "text/plain": [
       "Index(['title', 'year', 'rating', 'director', 'cast', 'genre', 'plot',\n",
       "       'language', 'budget', 'gross', 'runtime', 'akas',\n",
       "       'animation_department', 'art_department', 'art_directors',\n",
       "       'aspect_ratio', 'assistant_directors', 'box_office',\n",
       "       'camera_department', 'canonical_title', 'casting_department',\n",
       "       'casting_directors', 'certificates', 'cinematographers', 'color_info',\n",
       "       'composers', 'costume_departmen', 'costume_designers', 'countries',\n",
       "       'country_codes', 'cover_url', 'distributors', 'editorial_department',\n",
       "       'editors', 'full_size_cover_url', 'kind', 'language_codes',\n",
       "       'location_management', 'long_imdb_canonical_title', 'long_imdb_title',\n",
       "       'make_up_department', 'miscellaneous', 'music_department',\n",
       "       'original_air_date', 'other_companies', 'plot_outline', 'producers',\n",
       "       'production_companies', 'production_designers', 'production_managers',\n",
       "       'script_department', 'set_decorators', 'smart_canonical_title',\n",
       "       'smart_long_imdb_canonical_title', 'sound_department', 'sound_mix',\n",
       "       'special_effects', 'special_effects_companies', 'stunts', 'synopsis',\n",
       "       'transportation_department', 'visual_effects', 'votes', 'writers'],\n",
       "      dtype='object')"
      ]
     },
     "execution_count": 4,
     "metadata": {},
     "output_type": "execute_result"
    }
   ],
   "source": [
    "df.columns"
   ]
  },
  {
   "cell_type": "code",
   "execution_count": 5,
   "metadata": {},
   "outputs": [],
   "source": [
    "# df['genre'] = df['genre'].apply(apply_genre)\n",
    "# mlist = []\n",
    "# for i in range(len(df)):\n",
    "#     mlist.extend(df.loc[i,'genre'])\n",
    "# list(set(mlist))\n",
    "# y = pd.get_dummies(df.genre, prefix = 'Genre')\n"
   ]
  },
  {
   "cell_type": "code",
   "execution_count": 6,
   "metadata": {},
   "outputs": [],
   "source": [
    "def get_director_id(s):\n",
    "    start = find(s, '<Person id:')\n",
    "    end = find(s, '[http]')\n",
    "    id_list = []\n",
    "    for i in range(len(end)):\n",
    "        id_list.append(s[start[i]+11:end[i]])\n",
    "    return id_list\n",
    "\n",
    "def get_director_name(s):\n",
    "    start = find(s, 'name:_')\n",
    "    end = find(s, '_>')\n",
    "    name_list = []\n",
    "    for i in range(len(end)):\n",
    "        name_list.append(s[start[i]+6:end[i]])\n",
    "    return name_list\n",
    "    \n",
    "def find(s, ch):\n",
    "    l = []\n",
    "    i = s.find(ch)\n",
    "    while i!= -1:\n",
    "        l.append(i)\n",
    "        i = s.find(ch,i+1)\n",
    "    return l\n",
    "\n",
    "def get_cast_ids(s):\n",
    "    start = find(s, '<Person id:')\n",
    "    end = find(s, '[http]')\n",
    "    id_list = []\n",
    "    for i in range(len(end)):\n",
    "        id_list.append(s[start[i]+11:end[i]])\n",
    "    return id_list\n",
    "\n",
    "def get_cast_names(s):\n",
    "    start = find(s, 'name:_')\n",
    "    end = find(s, '_>')\n",
    "    name_list = []\n",
    "    for i in range(len(end)):\n",
    "        name_list.append(s[start[i]+6:end[i]])\n",
    "    return name_list\n",
    "\n",
    "def get_budget(s):\n",
    "    start = s.find('$')\n",
    "    end = s.find(' ')\n",
    "    return int(s[start+1:end].replace(',',''))\n",
    "\n",
    "def apply_genre(s):\n",
    "    s = s.replace('\\'','').replace('[','').replace(']','').split(sep = ', ')\n",
    "    return s\n",
    "\n",
    "def get_date(s):\n",
    "    day = s[0:2]\n",
    "    month = s[3:6]\n",
    "    year = s[7:11]\n",
    "    return day, month, year\n",
    "\n",
    "def get_country(s):\n",
    "    start = find(s, '(')\n",
    "    end = find(s, ')')\n",
    "    return s[start[0]+1:end[0]]\n",
    "\n",
    "def get_runtime(s):\n",
    "    s2 = s[2:]\n",
    "    s3 = s2[:len(s2)-2]\n",
    "    return int(s3)"
   ]
  },
  {
   "cell_type": "code",
   "execution_count": null,
   "metadata": {},
   "outputs": [
    {
     "name": "stderr",
     "output_type": "stream",
     "text": [
      "<ipython-input-7-ed49b766b22c>:34: SettingWithCopyWarning: \n",
      "A value is trying to be set on a copy of a slice from a DataFrame\n",
      "\n",
      "See the caveats in the documentation: https://pandas.pydata.org/pandas-docs/stable/user_guide/indexing.html#returning-a-view-versus-a-copy\n",
      "  df['year'][i] = int(s)\n"
     ]
    }
   ],
   "source": [
    "director_name_list = []\n",
    "director_id_list = []\n",
    "cast_name_list = []\n",
    "cast_id_list = []\n",
    "\n",
    "\n",
    "for i in df.index:\n",
    "    s = df.loc[i,'director']\n",
    "    \n",
    "    try:\n",
    "        director_name_list.append(get_director_name(s))\n",
    "    except:\n",
    "        director_name_list.append(np.nan)\n",
    "\n",
    "    try:\n",
    "        director_id_list.append(get_director_id(s))\n",
    "    except:\n",
    "        director_id_list.append(np.nan)\n",
    "        \n",
    "    s = df.loc[i,'cast']\n",
    "    \n",
    "    try:\n",
    "        cast_name_list.append(get_cast_names(s))\n",
    "    except:\n",
    "        cast_name_list.append(np.nan)\n",
    "            \n",
    "    try:\n",
    "        cast_id_list.append(get_cast_ids(s))\n",
    "    except:\n",
    "        cast_id_list.append(np.nan)\n",
    "    \n",
    "    s = df.loc[i,'year']\n",
    "    try:\n",
    "        df['year'][i] = int(s)\n",
    "    except:\n",
    "        df['year'][i] = np.nan\n",
    "\n",
    "for i in df.index:\n",
    "    s = df.loc[i,'original_air_date']\n",
    "    # print(s)\n",
    "    try:\n",
    "        df.loc[i,'country'] = get_country(s)\n",
    "        d,m,y = get_date(s)\n",
    "        df.loc[i,'day'] = d \n",
    "        df.loc[i,'month'] = m\n",
    "    except:\n",
    "        df.loc[i,'country'] = np.nan\n",
    "        df.loc[i,'day'] = np.nan\n",
    "        df.loc[i,'month'] = np.nan\n",
    "\n",
    "for i in df.index:\n",
    "    try:\n",
    "        s = df.loc[i, 'runtime']\n",
    "        df.loc[i, 'runtime'] = get_runtime(s)\n",
    "    except:\n",
    "        s = np.nan\n",
    "\n",
    "for i in df.index:\n",
    "    try:\n",
    "        s = df.loc[i, 'color_info']\n",
    "        if \"Black\" in s:\n",
    "            df.loc[i, 'color_info'] = \"Black and White\"\n",
    "        if \"Color\" in s:\n",
    "            df.loc[i, 'color_info'] = \"Color\"\n",
    "    except:\n",
    "        s = np.nan\n",
    "\n",
    "for i in df.index:\n",
    "    try:\n",
    "        s = df.loc[i, 'sound_mix']\n",
    "        if \"Silent\" in s:\n",
    "            df.loc[i, 'sound_mix'] = \"Silent\"\n",
    "        elif \"Mono\" in s:\n",
    "            df.loc[i, 'sound_mix'] = \"Mono\"\n",
    "        elif \"Dolby\" in s:\n",
    "            df.loc[i, 'sound_mix'] = \"Dolby\"\n",
    "        elif \"DTS\" in s:\n",
    "            df.loc[i, 'sound_mix'] = \"DTS\"\n",
    "        else:\n",
    "            df.loc[i, 'sound_mix'] = \"Others\"\n",
    "    except:\n",
    "        s = np.nan\n",
    "        \n"
   ]
  },
  {
   "cell_type": "code",
   "execution_count": null,
   "metadata": {},
   "outputs": [],
   "source": [
    "df['director_id'] = director_id_list\n",
    "df['director_name'] = director_name_list\n",
    "df['cast_ids'] = cast_id_list\n",
    "df['cast_names'] = cast_id_list\n"
   ]
  },
  {
   "cell_type": "code",
   "execution_count": null,
   "metadata": {},
   "outputs": [],
   "source": [
    "df = df[['title','year','rating','runtime','kind','color_info','sound_mix','director_name', 'genre','director_id', 'cast_names', \n",
    "         'cast_ids','votes','country','day','month']]"
   ]
  },
  {
   "cell_type": "code",
   "execution_count": null,
   "metadata": {},
   "outputs": [],
   "source": [
    "#drop các dòng trắng trơn\n",
    "df.dropna(subset = [\"rating\"], inplace=True)\n"
   ]
  },
  {
   "cell_type": "code",
   "execution_count": null,
   "metadata": {},
   "outputs": [],
   "source": [
    "month_dict = {'Oct':8, 'Dec':12, 'Aug':8, 'Jul':7, 'Feb':2, 'Nov':11, 'Sep':10, 'May':5,'Mar':3, 'Jan':1, 'Jun':6, 'Apr':3}\n",
    "day_list = []\n",
    "for i in range(1,32):\n",
    "    day_list.append(str(i))\n",
    "df.month = df.month.map(month_dict).fillna(0)\n",
    "df['day'] = df.day.apply(lambda s: int(s) if s in day_list else 0)"
   ]
  },
  {
   "cell_type": "code",
   "execution_count": null,
   "metadata": {},
   "outputs": [],
   "source": [
    "df"
   ]
  },
  {
   "cell_type": "code",
   "execution_count": null,
   "metadata": {},
   "outputs": [],
   "source": [
    "df.to_csv('preprocess_data.csv', index =False)"
   ]
  },
  {
   "cell_type": "code",
   "execution_count": null,
   "metadata": {},
   "outputs": [],
   "source": []
  }
 ],
 "metadata": {
  "kernelspec": {
   "display_name": "Python 3",
   "language": "python",
   "name": "python3"
  },
  "language_info": {
   "codemirror_mode": {
    "name": "ipython",
    "version": 3
   },
   "file_extension": ".py",
   "mimetype": "text/x-python",
   "name": "python",
   "nbconvert_exporter": "python",
   "pygments_lexer": "ipython3",
   "version": "3.8.5"
  }
 },
 "nbformat": 4,
 "nbformat_minor": 5
}
